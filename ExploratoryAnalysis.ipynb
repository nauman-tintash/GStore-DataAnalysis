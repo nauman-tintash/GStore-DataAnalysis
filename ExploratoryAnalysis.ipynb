{
 "cells": [
  {
   "cell_type": "markdown",
   "metadata": {},
   "source": [
    "import pandas as pd"
   ]
  },
  {
   "cell_type": "code",
   "execution_count": 51,
   "metadata": {},
   "outputs": [
    {
     "name": "stdout",
     "output_type": "stream",
     "text": [
      "(903653, 56)\n"
     ]
    }
   ],
   "source": [
    "df = pd.read_csv('train_modified.csv') # Important!!\n",
    "print(df.shape)"
   ]
  },
  {
   "cell_type": "code",
   "execution_count": 52,
   "metadata": {},
   "outputs": [
    {
     "name": "stdout",
     "output_type": "stream",
     "text": [
      "61493    11251kjhkvahf\n",
      "Name: trafficSource.campaignCode, dtype: object\n"
     ]
    }
   ],
   "source": [
    "#Verify that campaign code is useless\n",
    "column = df['trafficSource.campaignCode']\n",
    "new_col = column.dropna()\n",
    "print(new_col)"
   ]
  },
  {
   "cell_type": "code",
   "execution_count": 53,
   "metadata": {},
   "outputs": [
    {
     "name": "stdout",
     "output_type": "stream",
     "text": [
      "['Unnamed: 0' 'channelGrouping' 'date' 'fullVisitorId' 'sessionId'\n",
      " 'socialEngagementType' 'visitId' 'visitNumber' 'visitStartTime'\n",
      " 'device.browser' 'device.browserSize' 'device.browserVersion'\n",
      " 'device.deviceCategory' 'device.flashVersion' 'device.isMobile'\n",
      " 'device.language' 'device.mobileDeviceBranding' 'device.mobileDeviceInfo'\n",
      " 'device.mobileDeviceMarketingName' 'device.mobileDeviceModel'\n",
      " 'device.mobileInputSelector' 'device.operatingSystem'\n",
      " 'device.operatingSystemVersion' 'device.screenColors'\n",
      " 'device.screenResolution' 'geoNetwork.city' 'geoNetwork.cityId'\n",
      " 'geoNetwork.continent' 'geoNetwork.country' 'geoNetwork.latitude'\n",
      " 'geoNetwork.longitude' 'geoNetwork.metro' 'geoNetwork.networkDomain'\n",
      " 'geoNetwork.networkLocation' 'geoNetwork.region'\n",
      " 'geoNetwork.subContinent' 'totals.bounces' 'totals.hits'\n",
      " 'totals.newVisits' 'totals.pageviews' 'totals.transactionRevenue'\n",
      " 'totals.visits' 'trafficSource.adContent'\n",
      " 'trafficSource.adwordsClickInfo.adNetworkType'\n",
      " 'trafficSource.adwordsClickInfo.criteriaParameters'\n",
      " 'trafficSource.adwordsClickInfo.gclId'\n",
      " 'trafficSource.adwordsClickInfo.isVideoAd'\n",
      " 'trafficSource.adwordsClickInfo.page'\n",
      " 'trafficSource.adwordsClickInfo.slot' 'trafficSource.campaign'\n",
      " 'trafficSource.campaignCode' 'trafficSource.isTrueDirect'\n",
      " 'trafficSource.keyword' 'trafficSource.medium'\n",
      " 'trafficSource.referralPath' 'trafficSource.source']\n"
     ]
    }
   ],
   "source": [
    "#Print all the column names\n",
    "print(df.columns.values)"
   ]
  },
  {
   "cell_type": "code",
   "execution_count": 77,
   "metadata": {},
   "outputs": [
    {
     "name": "stdout",
     "output_type": "stream",
     "text": [
      "752        37860000.0\n",
      "753       306670000.0\n",
      "799        68030000.0\n",
      "802        26250000.0\n",
      "859       574150000.0\n",
      "866         8380000.0\n",
      "893       395730000.0\n",
      "910        24080000.0\n",
      "922        35480000.0\n",
      "925        35080000.0\n",
      "930        81500000.0\n",
      "942       546320000.0\n",
      "971        63840000.0\n",
      "974       117340000.0\n",
      "976        43710000.0\n",
      "999        34480000.0\n",
      "1000       35390000.0\n",
      "1008      339030000.0\n",
      "1020       33670000.0\n",
      "1022      635500000.0\n",
      "1026      103240000.0\n",
      "1027      305470000.0\n",
      "1037        5150000.0\n",
      "1041       90850000.0\n",
      "1054       10590000.0\n",
      "1055       25680000.0\n",
      "1056      338970000.0\n",
      "2774      593910000.0\n",
      "3161       44790000.0\n",
      "3268       30390000.0\n",
      "             ...     \n",
      "899951     43430000.0\n",
      "903089     44790000.0\n",
      "903118    175800000.0\n",
      "903122     87990000.0\n",
      "903167     14370000.0\n",
      "903168    155970000.0\n",
      "903189     75180000.0\n",
      "903194    350000000.0\n",
      "903201    135920000.0\n",
      "903211    159980000.0\n",
      "903222     23180000.0\n",
      "903228     22970000.0\n",
      "903234    463600000.0\n",
      "903235     79990000.0\n",
      "903243     76780000.0\n",
      "903249     12990000.0\n",
      "903256     34970000.0\n",
      "903259     91080000.0\n",
      "903262     46110000.0\n",
      "903271     85980000.0\n",
      "903275     55160000.0\n",
      "903284     51890000.0\n",
      "903285    119960000.0\n",
      "903291     19190000.0\n",
      "903298    111980000.0\n",
      "903302    335260000.0\n",
      "903305    599950000.0\n",
      "903314     30750000.0\n",
      "903315     69390000.0\n",
      "903317     74990000.0\n",
      "Name: totals.transactionRevenue, Length: 11515, dtype: float64\n"
     ]
    }
   ],
   "source": [
    "#View some non-zero transactions\n",
    "transactionCol = df['totals.transactionRevenue']\n",
    "nonZeroTransactions = transactionCol.dropna()\n",
    "print(nonZeroTransactions)"
   ]
  },
  {
   "cell_type": "code",
   "execution_count": 108,
   "metadata": {},
   "outputs": [
    {
     "name": "stdout",
     "output_type": "stream",
     "text": [
      "No of non-zero transactions :  11515\n",
      "Total revenue is :  1540071240000.0\n",
      "Max revenue is :  23129500000.0\n",
      "Min revenue is :  10000.0\n",
      "Average revenue per transaction is :  133744788.53669128\n"
     ]
    }
   ],
   "source": [
    "#Print some basic transaction stats\n",
    "print('No of non-zero transactions : ', nonZeroTransactions.size)\n",
    "\n",
    "transactionsSum = nonZeroTransactions.sum()\n",
    "print('Total revenue is : ', transactionsSum)\n",
    "\n",
    "print('Max revenue is : ', nonZeroTransactions.max())\n",
    "print('Min revenue is : ', nonZeroTransactions.min())\n",
    "print('Average revenue per transaction is : ', nonZeroTransactions.mean())"
   ]
  },
  {
   "cell_type": "code",
   "execution_count": 120,
   "metadata": {},
   "outputs": [
    {
     "name": "stdout",
     "output_type": "stream",
     "text": [
      "No of unique users :  723803\n",
      "No of paying users :  10114\n",
      "Ave. revenue per paying user :  152271231.95570496\n",
      "Percentage of users that pay :  0.013973415418283704\n"
     ]
    }
   ],
   "source": [
    "#Print some basic stats about unique users\n",
    "uniqueUsersCount = df['fullVisitorId'].unique().size\n",
    "print('No of unique users : ', uniqueUsersCount)\n",
    "\n",
    "usersTransactionsSum = df.groupby('fullVisitorId')['totals.transactionRevenue'].sum()\n",
    "payingUsers = usersTransactionsSum[usersTransactionsSum!=0]\n",
    "payingUsersCount = payingUsers.size\n",
    "\n",
    "print('No of paying users : ', payingUsersCount)\n",
    "\n",
    "aveRevenuePerpayingUser = usersTransactionsSum.sum() / payingUsersCount\n",
    "\n",
    "print('Ave. revenue per paying user : ', aveRevenuePerpayingUser)\n",
    "\n",
    "#Some other comparisons about paying users\n",
    "print('Percentage of users that pay : ', payingUsersCount/uniqueUsersCount)"
   ]
  },
  {
   "cell_type": "code",
   "execution_count": null,
   "metadata": {},
   "outputs": [],
   "source": []
  }
 ],
 "metadata": {
  "kernelspec": {
   "display_name": "Python 3",
   "language": "python",
   "name": "python3"
  },
  "language_info": {
   "codemirror_mode": {
    "name": "ipython",
    "version": 3
   },
   "file_extension": ".py",
   "mimetype": "text/x-python",
   "name": "python",
   "nbconvert_exporter": "python",
   "pygments_lexer": "ipython3",
   "version": "3.6.4"
  }
 },
 "nbformat": 4,
 "nbformat_minor": 2
}
