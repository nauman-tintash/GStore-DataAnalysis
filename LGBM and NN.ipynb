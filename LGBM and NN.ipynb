{
 "cells": [
  {
   "cell_type": "code",
   "execution_count": 1,
   "metadata": {
    "_cell_guid": "b1076dfc-b9ad-4769-8c92-a6c4dae69d19",
    "_uuid": "8f2839f25d086af736a60e9eeb907d3b93b6e0e5"
   },
   "outputs": [],
   "source": [
    "# This Python 3 environment comes with many helpful analytics libraries installed\n",
    "# It is defined by the kaggle/python docker image: https://github.com/kaggle/docker-python\n",
    "# For example, here's several helpful packages to load in \n",
    "\n",
    "import numpy as np # linear algebra\n",
    "import pandas as pd # data processing, CSV file I/O (e.g. pd.read_csv)\n",
    "\n",
    "# Input data files are available in the \"../input/\" directory.\n",
    "# For example, running this (by clicking run or pressing Shift+Enter) will list the files in the input directory\n",
    "\n",
    "import os\n",
    "\n",
    "import json\n",
    "from pandas.io.json import json_normalize\n",
    "import matplotlib.pyplot as plt\n",
    "import seaborn as sns\n",
    "\n",
    "# Any results you write to the current directory are saved as output."
   ]
  },
  {
   "cell_type": "code",
   "execution_count": 2,
   "metadata": {
    "_uuid": "034802f0f52b45867c93b70bad974c4b566703a8",
    "scrolled": true
   },
   "outputs": [],
   "source": [
    "# def load_df(csv_path, nrows=None):\n",
    "#     USE_COLUMNS = [\n",
    "#         'channelGrouping', 'date', 'device', 'fullVisitorId', 'geoNetwork',\n",
    "#         'socialEngagementType', 'totals', 'trafficSource', 'visitId',\n",
    "#         'visitNumber', 'visitStartTime', 'customDimensions'\n",
    "#         #'hits'\n",
    "#     ]\n",
    "#     JSON_COLUMNS = ['device', 'geoNetwork', 'totals', 'trafficSource']\n",
    "    \n",
    "#     df = pd.read_csv(csv_path, \n",
    "#                      converters={column: json.loads for column in JSON_COLUMNS}, \n",
    "#                      dtype={'fullVisitorId': 'str'}, # Important!!\n",
    "#                      nrows=nrows, usecols=USE_COLUMNS)\n",
    "    \n",
    "#     for column in JSON_COLUMNS:\n",
    "#         column_as_df = json_normalize(df[column])\n",
    "#         column_as_df.columns = [f\"{column}.{subcolumn}\" for subcolumn in column_as_df.columns]\n",
    "#         df = df.drop(column, axis=1).merge(column_as_df, right_index=True, left_index=True)\n",
    "#     print(f\"Loaded {os.path.basename(csv_path)}. Shape: {df.shape}\")\n",
    "#     return df"
   ]
  },
  {
   "cell_type": "code",
   "execution_count": 3,
   "metadata": {},
   "outputs": [
    {
     "name": "stderr",
     "output_type": "stream",
     "text": [
      "/home/tintash/anaconda3/lib/python3.7/site-packages/IPython/core/interactiveshell.py:2785: DtypeWarning: Columns (3,50) have mixed types. Specify dtype option on import or set low_memory=False.\n",
      "  interactivity=interactivity, compiler=compiler, result=result)\n"
     ]
    },
    {
     "name": "stdout",
     "output_type": "stream",
     "text": [
      "(903653, 56)\n"
     ]
    },
    {
     "data": {
      "text/html": [
       "<div>\n",
       "<style scoped>\n",
       "    .dataframe tbody tr th:only-of-type {\n",
       "        vertical-align: middle;\n",
       "    }\n",
       "\n",
       "    .dataframe tbody tr th {\n",
       "        vertical-align: top;\n",
       "    }\n",
       "\n",
       "    .dataframe thead th {\n",
       "        text-align: right;\n",
       "    }\n",
       "</style>\n",
       "<table border=\"1\" class=\"dataframe\">\n",
       "  <thead>\n",
       "    <tr style=\"text-align: right;\">\n",
       "      <th></th>\n",
       "      <th>Unnamed: 0</th>\n",
       "      <th>channelGrouping</th>\n",
       "      <th>date</th>\n",
       "      <th>fullVisitorId</th>\n",
       "      <th>sessionId</th>\n",
       "      <th>socialEngagementType</th>\n",
       "      <th>visitId</th>\n",
       "      <th>visitNumber</th>\n",
       "      <th>visitStartTime</th>\n",
       "      <th>device.browser</th>\n",
       "      <th>...</th>\n",
       "      <th>trafficSource.adwordsClickInfo.isVideoAd</th>\n",
       "      <th>trafficSource.adwordsClickInfo.page</th>\n",
       "      <th>trafficSource.adwordsClickInfo.slot</th>\n",
       "      <th>trafficSource.campaign</th>\n",
       "      <th>trafficSource.campaignCode</th>\n",
       "      <th>trafficSource.isTrueDirect</th>\n",
       "      <th>trafficSource.keyword</th>\n",
       "      <th>trafficSource.medium</th>\n",
       "      <th>trafficSource.referralPath</th>\n",
       "      <th>trafficSource.source</th>\n",
       "    </tr>\n",
       "  </thead>\n",
       "  <tbody>\n",
       "    <tr>\n",
       "      <th>0</th>\n",
       "      <td>0</td>\n",
       "      <td>Organic Search</td>\n",
       "      <td>20160902</td>\n",
       "      <td>1131660440785968503</td>\n",
       "      <td>1131660440785968503_1472830385</td>\n",
       "      <td>Not Socially Engaged</td>\n",
       "      <td>1472830385</td>\n",
       "      <td>1</td>\n",
       "      <td>1472830385</td>\n",
       "      <td>Chrome</td>\n",
       "      <td>...</td>\n",
       "      <td>NaN</td>\n",
       "      <td>NaN</td>\n",
       "      <td>NaN</td>\n",
       "      <td>(not set)</td>\n",
       "      <td>NaN</td>\n",
       "      <td>NaN</td>\n",
       "      <td>(not provided)</td>\n",
       "      <td>organic</td>\n",
       "      <td>NaN</td>\n",
       "      <td>google</td>\n",
       "    </tr>\n",
       "    <tr>\n",
       "      <th>1</th>\n",
       "      <td>1</td>\n",
       "      <td>Organic Search</td>\n",
       "      <td>20160902</td>\n",
       "      <td>377306020877927890</td>\n",
       "      <td>377306020877927890_1472880147</td>\n",
       "      <td>Not Socially Engaged</td>\n",
       "      <td>1472880147</td>\n",
       "      <td>1</td>\n",
       "      <td>1472880147</td>\n",
       "      <td>Firefox</td>\n",
       "      <td>...</td>\n",
       "      <td>NaN</td>\n",
       "      <td>NaN</td>\n",
       "      <td>NaN</td>\n",
       "      <td>(not set)</td>\n",
       "      <td>NaN</td>\n",
       "      <td>NaN</td>\n",
       "      <td>(not provided)</td>\n",
       "      <td>organic</td>\n",
       "      <td>NaN</td>\n",
       "      <td>google</td>\n",
       "    </tr>\n",
       "    <tr>\n",
       "      <th>2</th>\n",
       "      <td>2</td>\n",
       "      <td>Organic Search</td>\n",
       "      <td>20160902</td>\n",
       "      <td>3895546263509774583</td>\n",
       "      <td>3895546263509774583_1472865386</td>\n",
       "      <td>Not Socially Engaged</td>\n",
       "      <td>1472865386</td>\n",
       "      <td>1</td>\n",
       "      <td>1472865386</td>\n",
       "      <td>Chrome</td>\n",
       "      <td>...</td>\n",
       "      <td>NaN</td>\n",
       "      <td>NaN</td>\n",
       "      <td>NaN</td>\n",
       "      <td>(not set)</td>\n",
       "      <td>NaN</td>\n",
       "      <td>NaN</td>\n",
       "      <td>(not provided)</td>\n",
       "      <td>organic</td>\n",
       "      <td>NaN</td>\n",
       "      <td>google</td>\n",
       "    </tr>\n",
       "    <tr>\n",
       "      <th>3</th>\n",
       "      <td>3</td>\n",
       "      <td>Organic Search</td>\n",
       "      <td>20160902</td>\n",
       "      <td>4763447161404445595</td>\n",
       "      <td>4763447161404445595_1472881213</td>\n",
       "      <td>Not Socially Engaged</td>\n",
       "      <td>1472881213</td>\n",
       "      <td>1</td>\n",
       "      <td>1472881213</td>\n",
       "      <td>UC Browser</td>\n",
       "      <td>...</td>\n",
       "      <td>NaN</td>\n",
       "      <td>NaN</td>\n",
       "      <td>NaN</td>\n",
       "      <td>(not set)</td>\n",
       "      <td>NaN</td>\n",
       "      <td>NaN</td>\n",
       "      <td>google + online</td>\n",
       "      <td>organic</td>\n",
       "      <td>NaN</td>\n",
       "      <td>google</td>\n",
       "    </tr>\n",
       "    <tr>\n",
       "      <th>4</th>\n",
       "      <td>4</td>\n",
       "      <td>Organic Search</td>\n",
       "      <td>20160902</td>\n",
       "      <td>27294437909732085</td>\n",
       "      <td>27294437909732085_1472822600</td>\n",
       "      <td>Not Socially Engaged</td>\n",
       "      <td>1472822600</td>\n",
       "      <td>2</td>\n",
       "      <td>1472822600</td>\n",
       "      <td>Chrome</td>\n",
       "      <td>...</td>\n",
       "      <td>NaN</td>\n",
       "      <td>NaN</td>\n",
       "      <td>NaN</td>\n",
       "      <td>(not set)</td>\n",
       "      <td>NaN</td>\n",
       "      <td>True</td>\n",
       "      <td>(not provided)</td>\n",
       "      <td>organic</td>\n",
       "      <td>NaN</td>\n",
       "      <td>google</td>\n",
       "    </tr>\n",
       "  </tbody>\n",
       "</table>\n",
       "<p>5 rows × 56 columns</p>\n",
       "</div>"
      ],
      "text/plain": [
       "   Unnamed: 0 channelGrouping      date        fullVisitorId  \\\n",
       "0           0  Organic Search  20160902  1131660440785968503   \n",
       "1           1  Organic Search  20160902   377306020877927890   \n",
       "2           2  Organic Search  20160902  3895546263509774583   \n",
       "3           3  Organic Search  20160902  4763447161404445595   \n",
       "4           4  Organic Search  20160902    27294437909732085   \n",
       "\n",
       "                        sessionId  socialEngagementType     visitId  \\\n",
       "0  1131660440785968503_1472830385  Not Socially Engaged  1472830385   \n",
       "1   377306020877927890_1472880147  Not Socially Engaged  1472880147   \n",
       "2  3895546263509774583_1472865386  Not Socially Engaged  1472865386   \n",
       "3  4763447161404445595_1472881213  Not Socially Engaged  1472881213   \n",
       "4    27294437909732085_1472822600  Not Socially Engaged  1472822600   \n",
       "\n",
       "   visitNumber  visitStartTime device.browser         ...           \\\n",
       "0            1      1472830385         Chrome         ...            \n",
       "1            1      1472880147        Firefox         ...            \n",
       "2            1      1472865386         Chrome         ...            \n",
       "3            1      1472881213     UC Browser         ...            \n",
       "4            2      1472822600         Chrome         ...            \n",
       "\n",
       "  trafficSource.adwordsClickInfo.isVideoAd  \\\n",
       "0                                      NaN   \n",
       "1                                      NaN   \n",
       "2                                      NaN   \n",
       "3                                      NaN   \n",
       "4                                      NaN   \n",
       "\n",
       "  trafficSource.adwordsClickInfo.page trafficSource.adwordsClickInfo.slot  \\\n",
       "0                                 NaN                                 NaN   \n",
       "1                                 NaN                                 NaN   \n",
       "2                                 NaN                                 NaN   \n",
       "3                                 NaN                                 NaN   \n",
       "4                                 NaN                                 NaN   \n",
       "\n",
       "  trafficSource.campaign  trafficSource.campaignCode  \\\n",
       "0              (not set)                         NaN   \n",
       "1              (not set)                         NaN   \n",
       "2              (not set)                         NaN   \n",
       "3              (not set)                         NaN   \n",
       "4              (not set)                         NaN   \n",
       "\n",
       "  trafficSource.isTrueDirect trafficSource.keyword trafficSource.medium  \\\n",
       "0                        NaN        (not provided)              organic   \n",
       "1                        NaN        (not provided)              organic   \n",
       "2                        NaN        (not provided)              organic   \n",
       "3                        NaN       google + online              organic   \n",
       "4                       True        (not provided)              organic   \n",
       "\n",
       "  trafficSource.referralPath trafficSource.source  \n",
       "0                        NaN               google  \n",
       "1                        NaN               google  \n",
       "2                        NaN               google  \n",
       "3                        NaN               google  \n",
       "4                        NaN               google  \n",
       "\n",
       "[5 rows x 56 columns]"
      ]
     },
     "execution_count": 3,
     "metadata": {},
     "output_type": "execute_result"
    }
   ],
   "source": [
    "train_data = pd.read_csv('train_modified.csv') # Important!!\n",
    "print(train_data.shape)\n",
    "train_data.head()"
   ]
  },
  {
   "cell_type": "code",
   "execution_count": 4,
   "metadata": {},
   "outputs": [],
   "source": [
    "train_df = train_data.sample(frac=0.8,random_state=200)\n",
    "test_df = train_data.drop(train_df.index)"
   ]
  },
  {
   "cell_type": "code",
   "execution_count": 5,
   "metadata": {},
   "outputs": [
    {
     "data": {
      "text/plain": [
       "array(['Unnamed: 0', 'channelGrouping', 'date', 'fullVisitorId',\n",
       "       'sessionId', 'socialEngagementType', 'visitId', 'visitNumber',\n",
       "       'visitStartTime', 'device.browser', 'device.browserSize',\n",
       "       'device.browserVersion', 'device.deviceCategory',\n",
       "       'device.flashVersion', 'device.isMobile', 'device.language',\n",
       "       'device.mobileDeviceBranding', 'device.mobileDeviceInfo',\n",
       "       'device.mobileDeviceMarketingName', 'device.mobileDeviceModel',\n",
       "       'device.mobileInputSelector', 'device.operatingSystem',\n",
       "       'device.operatingSystemVersion', 'device.screenColors',\n",
       "       'device.screenResolution', 'geoNetwork.city', 'geoNetwork.cityId',\n",
       "       'geoNetwork.continent', 'geoNetwork.country',\n",
       "       'geoNetwork.latitude', 'geoNetwork.longitude', 'geoNetwork.metro',\n",
       "       'geoNetwork.networkDomain', 'geoNetwork.networkLocation',\n",
       "       'geoNetwork.region', 'geoNetwork.subContinent', 'totals.bounces',\n",
       "       'totals.hits', 'totals.newVisits', 'totals.pageviews',\n",
       "       'totals.transactionRevenue', 'totals.visits',\n",
       "       'trafficSource.adContent',\n",
       "       'trafficSource.adwordsClickInfo.adNetworkType',\n",
       "       'trafficSource.adwordsClickInfo.criteriaParameters',\n",
       "       'trafficSource.adwordsClickInfo.gclId',\n",
       "       'trafficSource.adwordsClickInfo.isVideoAd',\n",
       "       'trafficSource.adwordsClickInfo.page',\n",
       "       'trafficSource.adwordsClickInfo.slot', 'trafficSource.campaign',\n",
       "       'trafficSource.campaignCode', 'trafficSource.isTrueDirect',\n",
       "       'trafficSource.keyword', 'trafficSource.medium',\n",
       "       'trafficSource.referralPath', 'trafficSource.source'], dtype=object)"
      ]
     },
     "execution_count": 5,
     "metadata": {},
     "output_type": "execute_result"
    }
   ],
   "source": [
    "train_df.columns.values"
   ]
  },
  {
   "cell_type": "code",
   "execution_count": 6,
   "metadata": {
    "_uuid": "49becfef9df38d8c624c9beb63516e43d4bfba1c"
   },
   "outputs": [],
   "source": [
    "# %%time\n",
    "# train_df = load_df(\"../input/train_v2.csv\")\n",
    "# test_df = load_df(\"../input/test_v2.csv\")"
   ]
  },
  {
   "cell_type": "code",
   "execution_count": 7,
   "metadata": {
    "_uuid": "bb3925b993ec872982ed4312aa47443365bfcd85"
   },
   "outputs": [
    {
     "name": "stdout",
     "output_type": "stream",
     "text": [
      "Index([], dtype='object')\n",
      "Index([], dtype='object')\n"
     ]
    }
   ],
   "source": [
    "print(train_df.columns.difference(test_df.columns))\n",
    "print(test_df.columns.difference(train_df.columns))"
   ]
  },
  {
   "cell_type": "code",
   "execution_count": 8,
   "metadata": {
    "_uuid": "440f1b1d5ae9c3eca8f4b688216b82a22424a370"
   },
   "outputs": [],
   "source": [
    "train_df = train_df.drop(labels=['trafficSource.campaign'],axis=1)\n",
    "# train_df = train_df.drop(labels=['totals.transactionRevenue'],axis=1)\n",
    "# test_df = test_df.drop(labels=['totals.transactionRevenue'],axis=1)"
   ]
  },
  {
   "cell_type": "code",
   "execution_count": 9,
   "metadata": {
    "_uuid": "01389cf426a5c531a072d26812b13afc3f76ab94",
    "scrolled": true
   },
   "outputs": [
    {
     "data": {
      "text/html": [
       "<div>\n",
       "<style scoped>\n",
       "    .dataframe tbody tr th:only-of-type {\n",
       "        vertical-align: middle;\n",
       "    }\n",
       "\n",
       "    .dataframe tbody tr th {\n",
       "        vertical-align: top;\n",
       "    }\n",
       "\n",
       "    .dataframe thead th {\n",
       "        text-align: right;\n",
       "    }\n",
       "</style>\n",
       "<table border=\"1\" class=\"dataframe\">\n",
       "  <thead>\n",
       "    <tr style=\"text-align: right;\">\n",
       "      <th></th>\n",
       "      <th>Unnamed: 0</th>\n",
       "      <th>channelGrouping</th>\n",
       "      <th>date</th>\n",
       "      <th>fullVisitorId</th>\n",
       "      <th>sessionId</th>\n",
       "      <th>socialEngagementType</th>\n",
       "      <th>visitId</th>\n",
       "      <th>visitNumber</th>\n",
       "      <th>visitStartTime</th>\n",
       "      <th>device.browser</th>\n",
       "      <th>...</th>\n",
       "      <th>trafficSource.adwordsClickInfo.gclId</th>\n",
       "      <th>trafficSource.adwordsClickInfo.isVideoAd</th>\n",
       "      <th>trafficSource.adwordsClickInfo.page</th>\n",
       "      <th>trafficSource.adwordsClickInfo.slot</th>\n",
       "      <th>trafficSource.campaignCode</th>\n",
       "      <th>trafficSource.isTrueDirect</th>\n",
       "      <th>trafficSource.keyword</th>\n",
       "      <th>trafficSource.medium</th>\n",
       "      <th>trafficSource.referralPath</th>\n",
       "      <th>trafficSource.source</th>\n",
       "    </tr>\n",
       "  </thead>\n",
       "  <tbody>\n",
       "    <tr>\n",
       "      <th>548725</th>\n",
       "      <td>548725</td>\n",
       "      <td>Organic Search</td>\n",
       "      <td>2017-05-23</td>\n",
       "      <td>3702632045024960671</td>\n",
       "      <td>3702632045024960671_1495561117</td>\n",
       "      <td>Not Socially Engaged</td>\n",
       "      <td>1495561117</td>\n",
       "      <td>1</td>\n",
       "      <td>1495561117</td>\n",
       "      <td>Safari</td>\n",
       "      <td>...</td>\n",
       "      <td>NaN</td>\n",
       "      <td>NaN</td>\n",
       "      <td>NaN</td>\n",
       "      <td>NaN</td>\n",
       "      <td>NaN</td>\n",
       "      <td>NaN</td>\n",
       "      <td>(not provided)</td>\n",
       "      <td>organic</td>\n",
       "      <td>NaN</td>\n",
       "      <td>google</td>\n",
       "    </tr>\n",
       "    <tr>\n",
       "      <th>697375</th>\n",
       "      <td>697375</td>\n",
       "      <td>Organic Search</td>\n",
       "      <td>2017-07-19</td>\n",
       "      <td>219064891723945627</td>\n",
       "      <td>0219064891723945627_1500476689</td>\n",
       "      <td>Not Socially Engaged</td>\n",
       "      <td>1500476689</td>\n",
       "      <td>2</td>\n",
       "      <td>1500476689</td>\n",
       "      <td>Chrome</td>\n",
       "      <td>...</td>\n",
       "      <td>NaN</td>\n",
       "      <td>NaN</td>\n",
       "      <td>NaN</td>\n",
       "      <td>NaN</td>\n",
       "      <td>NaN</td>\n",
       "      <td>True</td>\n",
       "      <td>(not provided)</td>\n",
       "      <td>organic</td>\n",
       "      <td>NaN</td>\n",
       "      <td>google</td>\n",
       "    </tr>\n",
       "    <tr>\n",
       "      <th>474524</th>\n",
       "      <td>474524</td>\n",
       "      <td>Organic Search</td>\n",
       "      <td>2017-02-22</td>\n",
       "      <td>2389192114156853073</td>\n",
       "      <td>2389192114156853073_1487781578</td>\n",
       "      <td>Not Socially Engaged</td>\n",
       "      <td>1487781578</td>\n",
       "      <td>1</td>\n",
       "      <td>1487781578</td>\n",
       "      <td>Safari</td>\n",
       "      <td>...</td>\n",
       "      <td>NaN</td>\n",
       "      <td>NaN</td>\n",
       "      <td>NaN</td>\n",
       "      <td>NaN</td>\n",
       "      <td>NaN</td>\n",
       "      <td>NaN</td>\n",
       "      <td>(not provided)</td>\n",
       "      <td>organic</td>\n",
       "      <td>NaN</td>\n",
       "      <td>google</td>\n",
       "    </tr>\n",
       "    <tr>\n",
       "      <th>399762</th>\n",
       "      <td>399762</td>\n",
       "      <td>Organic Search</td>\n",
       "      <td>2016-09-09</td>\n",
       "      <td>1397628877965755203</td>\n",
       "      <td>1397628877965755203_1473457757</td>\n",
       "      <td>Not Socially Engaged</td>\n",
       "      <td>1473457757</td>\n",
       "      <td>1</td>\n",
       "      <td>1473457757</td>\n",
       "      <td>Chrome</td>\n",
       "      <td>...</td>\n",
       "      <td>NaN</td>\n",
       "      <td>NaN</td>\n",
       "      <td>NaN</td>\n",
       "      <td>NaN</td>\n",
       "      <td>NaN</td>\n",
       "      <td>NaN</td>\n",
       "      <td>(not provided)</td>\n",
       "      <td>organic</td>\n",
       "      <td>NaN</td>\n",
       "      <td>google</td>\n",
       "    </tr>\n",
       "    <tr>\n",
       "      <th>903103</th>\n",
       "      <td>903103</td>\n",
       "      <td>Display</td>\n",
       "      <td>2017-01-04</td>\n",
       "      <td>797740313994990797</td>\n",
       "      <td>0797740313994990797_1483518849</td>\n",
       "      <td>Not Socially Engaged</td>\n",
       "      <td>1483518849</td>\n",
       "      <td>2</td>\n",
       "      <td>1483518849</td>\n",
       "      <td>Firefox</td>\n",
       "      <td>...</td>\n",
       "      <td>NaN</td>\n",
       "      <td>NaN</td>\n",
       "      <td>NaN</td>\n",
       "      <td>NaN</td>\n",
       "      <td>NaN</td>\n",
       "      <td>NaN</td>\n",
       "      <td>NaN</td>\n",
       "      <td>cpm</td>\n",
       "      <td>NaN</td>\n",
       "      <td>dfa</td>\n",
       "    </tr>\n",
       "  </tbody>\n",
       "</table>\n",
       "<p>5 rows × 55 columns</p>\n",
       "</div>"
      ],
      "text/plain": [
       "        Unnamed: 0 channelGrouping       date        fullVisitorId  \\\n",
       "548725      548725  Organic Search 2017-05-23  3702632045024960671   \n",
       "697375      697375  Organic Search 2017-07-19   219064891723945627   \n",
       "474524      474524  Organic Search 2017-02-22  2389192114156853073   \n",
       "399762      399762  Organic Search 2016-09-09  1397628877965755203   \n",
       "903103      903103         Display 2017-01-04   797740313994990797   \n",
       "\n",
       "                             sessionId  socialEngagementType     visitId  \\\n",
       "548725  3702632045024960671_1495561117  Not Socially Engaged  1495561117   \n",
       "697375  0219064891723945627_1500476689  Not Socially Engaged  1500476689   \n",
       "474524  2389192114156853073_1487781578  Not Socially Engaged  1487781578   \n",
       "399762  1397628877965755203_1473457757  Not Socially Engaged  1473457757   \n",
       "903103  0797740313994990797_1483518849  Not Socially Engaged  1483518849   \n",
       "\n",
       "        visitNumber  visitStartTime device.browser         ...           \\\n",
       "548725            1      1495561117         Safari         ...            \n",
       "697375            2      1500476689         Chrome         ...            \n",
       "474524            1      1487781578         Safari         ...            \n",
       "399762            1      1473457757         Chrome         ...            \n",
       "903103            2      1483518849        Firefox         ...            \n",
       "\n",
       "       trafficSource.adwordsClickInfo.gclId  \\\n",
       "548725                                  NaN   \n",
       "697375                                  NaN   \n",
       "474524                                  NaN   \n",
       "399762                                  NaN   \n",
       "903103                                  NaN   \n",
       "\n",
       "       trafficSource.adwordsClickInfo.isVideoAd  \\\n",
       "548725                                      NaN   \n",
       "697375                                      NaN   \n",
       "474524                                      NaN   \n",
       "399762                                      NaN   \n",
       "903103                                      NaN   \n",
       "\n",
       "       trafficSource.adwordsClickInfo.page  \\\n",
       "548725                                 NaN   \n",
       "697375                                 NaN   \n",
       "474524                                 NaN   \n",
       "399762                                 NaN   \n",
       "903103                                 NaN   \n",
       "\n",
       "       trafficSource.adwordsClickInfo.slot  trafficSource.campaignCode  \\\n",
       "548725                                 NaN                         NaN   \n",
       "697375                                 NaN                         NaN   \n",
       "474524                                 NaN                         NaN   \n",
       "399762                                 NaN                         NaN   \n",
       "903103                                 NaN                         NaN   \n",
       "\n",
       "       trafficSource.isTrueDirect trafficSource.keyword trafficSource.medium  \\\n",
       "548725                        NaN        (not provided)              organic   \n",
       "697375                       True        (not provided)              organic   \n",
       "474524                        NaN        (not provided)              organic   \n",
       "399762                        NaN        (not provided)              organic   \n",
       "903103                        NaN                   NaN                  cpm   \n",
       "\n",
       "       trafficSource.referralPath trafficSource.source  \n",
       "548725                        NaN               google  \n",
       "697375                        NaN               google  \n",
       "474524                        NaN               google  \n",
       "399762                        NaN               google  \n",
       "903103                        NaN                  dfa  \n",
       "\n",
       "[5 rows x 55 columns]"
      ]
     },
     "execution_count": 9,
     "metadata": {},
     "output_type": "execute_result"
    }
   ],
   "source": [
    "#Converting the datatype of date field\n",
    "train_df['date']= pd.to_datetime(train_df['date'],format='%Y%m%d')\n",
    "test_df['date']= pd.to_datetime(test_df['date'],format='%Y%m%d')\n",
    "train_df.head()"
   ]
  },
  {
   "cell_type": "code",
   "execution_count": 10,
   "metadata": {
    "_kg_hide-output": true,
    "_uuid": "e1fcaa062f7e5206c7e98193e13c3d12df4269a6"
   },
   "outputs": [
    {
     "name": "stdout",
     "output_type": "stream",
     "text": [
      "Total records:  722922 customers doesnt contribute for revenue:  713707 customers contributing revenue:  9215\n"
     ]
    }
   ],
   "source": [
    "#We need to predict totals.transactionRevenue. Lets explore that variable\n",
    "train_df['totals.transactionRevenue'] = train_df['totals.transactionRevenue'].astype('float')\n",
    "print('Total records: ', len(train_df), 'customers doesnt contribute for revenue: ',train_df['totals.transactionRevenue'].isna().sum(), \\\n",
    "      'customers contributing revenue: ',len(train_df) - train_df['totals.transactionRevenue'].isna().sum())\n"
   ]
  },
  {
   "cell_type": "markdown",
   "metadata": {
    "_uuid": "892e62cbc9b34abf1d61966d6a5b3db5a762483e"
   },
   "source": [
    "Purely an imbalanced dataset"
   ]
  },
  {
   "cell_type": "code",
   "execution_count": 11,
   "metadata": {
    "_uuid": "b0768d3df6b2b1e8322a471de13a649be513e1c6"
   },
   "outputs": [
    {
     "name": "stdout",
     "output_type": "stream",
     "text": [
      "Features with one unique values are :\n",
      "Index(['socialEngagementType', 'device.browserSize', 'device.browserVersion',\n",
      "       'device.flashVersion', 'device.language', 'device.mobileDeviceBranding',\n",
      "       'device.mobileDeviceInfo', 'device.mobileDeviceMarketingName',\n",
      "       'device.mobileDeviceModel', 'device.mobileInputSelector',\n",
      "       'device.operatingSystemVersion', 'device.screenColors',\n",
      "       'device.screenResolution', 'geoNetwork.cityId', 'geoNetwork.latitude',\n",
      "       'geoNetwork.longitude', 'geoNetwork.networkLocation', 'totals.bounces',\n",
      "       'totals.newVisits', 'totals.visits',\n",
      "       'trafficSource.adwordsClickInfo.criteriaParameters',\n",
      "       'trafficSource.adwordsClickInfo.isVideoAd',\n",
      "       'trafficSource.campaignCode', 'trafficSource.isTrueDirect'],\n",
      "      dtype='object')\n"
     ]
    }
   ],
   "source": [
    "#Lets start with data cleaning\n",
    "#Find any unique value columns\n",
    "print('Features with one unique values are :')\n",
    "print(train_df.columns[train_df.nunique()==1])\n",
    "new_df = train_df.drop(labels=train_df.columns[train_df.nunique()==1],axis=1)\n",
    "test_df = test_df.drop(labels=train_df.columns[train_df.nunique()==1],axis=1)"
   ]
  },
  {
   "cell_type": "code",
   "execution_count": 12,
   "metadata": {
    "_kg_hide-output": true,
    "_uuid": "ac909d267b305f2a1043a37df7ca4ac823a547fd",
    "scrolled": false
   },
   "outputs": [
    {
     "name": "stdout",
     "output_type": "stream",
     "text": [
      "(722922, 31)\n",
      "<class 'pandas.core.frame.DataFrame'>\n",
      "Int64Index: 722922 entries, 548725 to 525874\n",
      "Data columns (total 31 columns):\n",
      "Unnamed: 0                                      722922 non-null int64\n",
      "channelGrouping                                 722922 non-null object\n",
      "date                                            722922 non-null datetime64[ns]\n",
      "fullVisitorId                                   722922 non-null object\n",
      "sessionId                                       722922 non-null object\n",
      "visitId                                         722922 non-null int64\n",
      "visitNumber                                     722922 non-null int64\n",
      "visitStartTime                                  722922 non-null int64\n",
      "device.browser                                  722922 non-null object\n",
      "device.deviceCategory                           722922 non-null object\n",
      "device.isMobile                                 722922 non-null bool\n",
      "device.operatingSystem                          722922 non-null object\n",
      "geoNetwork.city                                 722922 non-null object\n",
      "geoNetwork.continent                            722922 non-null object\n",
      "geoNetwork.country                              722922 non-null object\n",
      "geoNetwork.metro                                722922 non-null object\n",
      "geoNetwork.networkDomain                        722922 non-null object\n",
      "geoNetwork.region                               722922 non-null object\n",
      "geoNetwork.subContinent                         722922 non-null object\n",
      "totals.hits                                     722922 non-null int64\n",
      "totals.pageviews                                722841 non-null float64\n",
      "totals.transactionRevenue                       9215 non-null float64\n",
      "trafficSource.adContent                         8743 non-null object\n",
      "trafficSource.adwordsClickInfo.adNetworkType    17118 non-null object\n",
      "trafficSource.adwordsClickInfo.gclId            17204 non-null object\n",
      "trafficSource.adwordsClickInfo.page             17118 non-null float64\n",
      "trafficSource.adwordsClickInfo.slot             17118 non-null object\n",
      "trafficSource.keyword                           320716 non-null object\n",
      "trafficSource.medium                            722922 non-null object\n",
      "trafficSource.referralPath                      264520 non-null object\n",
      "trafficSource.source                            722922 non-null object\n",
      "dtypes: bool(1), datetime64[ns](1), float64(3), int64(5), object(21)\n",
      "memory usage: 171.7+ MB\n",
      "None\n"
     ]
    },
    {
     "data": {
      "text/html": [
       "<div>\n",
       "<style scoped>\n",
       "    .dataframe tbody tr th:only-of-type {\n",
       "        vertical-align: middle;\n",
       "    }\n",
       "\n",
       "    .dataframe tbody tr th {\n",
       "        vertical-align: top;\n",
       "    }\n",
       "\n",
       "    .dataframe thead th {\n",
       "        text-align: right;\n",
       "    }\n",
       "</style>\n",
       "<table border=\"1\" class=\"dataframe\">\n",
       "  <thead>\n",
       "    <tr style=\"text-align: right;\">\n",
       "      <th></th>\n",
       "      <th>Unnamed: 0</th>\n",
       "      <th>channelGrouping</th>\n",
       "      <th>date</th>\n",
       "      <th>fullVisitorId</th>\n",
       "      <th>sessionId</th>\n",
       "      <th>visitId</th>\n",
       "      <th>visitNumber</th>\n",
       "      <th>visitStartTime</th>\n",
       "      <th>device.browser</th>\n",
       "      <th>device.deviceCategory</th>\n",
       "      <th>device.isMobile</th>\n",
       "      <th>device.operatingSystem</th>\n",
       "      <th>geoNetwork.city</th>\n",
       "      <th>geoNetwork.continent</th>\n",
       "      <th>geoNetwork.country</th>\n",
       "      <th>geoNetwork.metro</th>\n",
       "      <th>geoNetwork.networkDomain</th>\n",
       "      <th>geoNetwork.region</th>\n",
       "      <th>geoNetwork.subContinent</th>\n",
       "      <th>totals.hits</th>\n",
       "      <th>totals.pageviews</th>\n",
       "      <th>totals.transactionRevenue</th>\n",
       "      <th>trafficSource.adContent</th>\n",
       "      <th>trafficSource.adwordsClickInfo.adNetworkType</th>\n",
       "      <th>trafficSource.adwordsClickInfo.gclId</th>\n",
       "      <th>trafficSource.adwordsClickInfo.page</th>\n",
       "      <th>trafficSource.adwordsClickInfo.slot</th>\n",
       "      <th>trafficSource.keyword</th>\n",
       "      <th>trafficSource.medium</th>\n",
       "      <th>trafficSource.referralPath</th>\n",
       "      <th>trafficSource.source</th>\n",
       "    </tr>\n",
       "  </thead>\n",
       "  <tbody>\n",
       "    <tr>\n",
       "      <th>548725</th>\n",
       "      <td>548725</td>\n",
       "      <td>Organic Search</td>\n",
       "      <td>2017-05-23</td>\n",
       "      <td>3702632045024960671</td>\n",
       "      <td>3702632045024960671_1495561117</td>\n",
       "      <td>1495561117</td>\n",
       "      <td>1</td>\n",
       "      <td>1495561117</td>\n",
       "      <td>Safari</td>\n",
       "      <td>mobile</td>\n",
       "      <td>True</td>\n",
       "      <td>iOS</td>\n",
       "      <td>not available in demo dataset</td>\n",
       "      <td>Americas</td>\n",
       "      <td>United States</td>\n",
       "      <td>not available in demo dataset</td>\n",
       "      <td>comcast.net</td>\n",
       "      <td>not available in demo dataset</td>\n",
       "      <td>Northern America</td>\n",
       "      <td>10</td>\n",
       "      <td>10.0</td>\n",
       "      <td>NaN</td>\n",
       "      <td>NaN</td>\n",
       "      <td>NaN</td>\n",
       "      <td>NaN</td>\n",
       "      <td>NaN</td>\n",
       "      <td>NaN</td>\n",
       "      <td>(not provided)</td>\n",
       "      <td>organic</td>\n",
       "      <td>NaN</td>\n",
       "      <td>google</td>\n",
       "    </tr>\n",
       "    <tr>\n",
       "      <th>697375</th>\n",
       "      <td>697375</td>\n",
       "      <td>Organic Search</td>\n",
       "      <td>2017-07-19</td>\n",
       "      <td>219064891723945627</td>\n",
       "      <td>0219064891723945627_1500476689</td>\n",
       "      <td>1500476689</td>\n",
       "      <td>2</td>\n",
       "      <td>1500476689</td>\n",
       "      <td>Chrome</td>\n",
       "      <td>desktop</td>\n",
       "      <td>False</td>\n",
       "      <td>Windows</td>\n",
       "      <td>not available in demo dataset</td>\n",
       "      <td>Americas</td>\n",
       "      <td>United States</td>\n",
       "      <td>not available in demo dataset</td>\n",
       "      <td>comcastbusiness.net</td>\n",
       "      <td>not available in demo dataset</td>\n",
       "      <td>Northern America</td>\n",
       "      <td>1</td>\n",
       "      <td>1.0</td>\n",
       "      <td>NaN</td>\n",
       "      <td>NaN</td>\n",
       "      <td>NaN</td>\n",
       "      <td>NaN</td>\n",
       "      <td>NaN</td>\n",
       "      <td>NaN</td>\n",
       "      <td>(not provided)</td>\n",
       "      <td>organic</td>\n",
       "      <td>NaN</td>\n",
       "      <td>google</td>\n",
       "    </tr>\n",
       "    <tr>\n",
       "      <th>474524</th>\n",
       "      <td>474524</td>\n",
       "      <td>Organic Search</td>\n",
       "      <td>2017-02-22</td>\n",
       "      <td>2389192114156853073</td>\n",
       "      <td>2389192114156853073_1487781578</td>\n",
       "      <td>1487781578</td>\n",
       "      <td>1</td>\n",
       "      <td>1487781578</td>\n",
       "      <td>Safari</td>\n",
       "      <td>tablet</td>\n",
       "      <td>True</td>\n",
       "      <td>iOS</td>\n",
       "      <td>not available in demo dataset</td>\n",
       "      <td>Americas</td>\n",
       "      <td>United States</td>\n",
       "      <td>not available in demo dataset</td>\n",
       "      <td>(not set)</td>\n",
       "      <td>not available in demo dataset</td>\n",
       "      <td>Northern America</td>\n",
       "      <td>4</td>\n",
       "      <td>4.0</td>\n",
       "      <td>NaN</td>\n",
       "      <td>NaN</td>\n",
       "      <td>NaN</td>\n",
       "      <td>NaN</td>\n",
       "      <td>NaN</td>\n",
       "      <td>NaN</td>\n",
       "      <td>(not provided)</td>\n",
       "      <td>organic</td>\n",
       "      <td>NaN</td>\n",
       "      <td>google</td>\n",
       "    </tr>\n",
       "    <tr>\n",
       "      <th>399762</th>\n",
       "      <td>399762</td>\n",
       "      <td>Organic Search</td>\n",
       "      <td>2016-09-09</td>\n",
       "      <td>1397628877965755203</td>\n",
       "      <td>1397628877965755203_1473457757</td>\n",
       "      <td>1473457757</td>\n",
       "      <td>1</td>\n",
       "      <td>1473457757</td>\n",
       "      <td>Chrome</td>\n",
       "      <td>desktop</td>\n",
       "      <td>False</td>\n",
       "      <td>Linux</td>\n",
       "      <td>not available in demo dataset</td>\n",
       "      <td>Europe</td>\n",
       "      <td>United Kingdom</td>\n",
       "      <td>not available in demo dataset</td>\n",
       "      <td>btcentralplus.com</td>\n",
       "      <td>not available in demo dataset</td>\n",
       "      <td>Northern Europe</td>\n",
       "      <td>1</td>\n",
       "      <td>1.0</td>\n",
       "      <td>NaN</td>\n",
       "      <td>NaN</td>\n",
       "      <td>NaN</td>\n",
       "      <td>NaN</td>\n",
       "      <td>NaN</td>\n",
       "      <td>NaN</td>\n",
       "      <td>(not provided)</td>\n",
       "      <td>organic</td>\n",
       "      <td>NaN</td>\n",
       "      <td>google</td>\n",
       "    </tr>\n",
       "    <tr>\n",
       "      <th>903103</th>\n",
       "      <td>903103</td>\n",
       "      <td>Display</td>\n",
       "      <td>2017-01-04</td>\n",
       "      <td>797740313994990797</td>\n",
       "      <td>0797740313994990797_1483518849</td>\n",
       "      <td>1483518849</td>\n",
       "      <td>2</td>\n",
       "      <td>1483518849</td>\n",
       "      <td>Firefox</td>\n",
       "      <td>desktop</td>\n",
       "      <td>False</td>\n",
       "      <td>Windows</td>\n",
       "      <td>not available in demo dataset</td>\n",
       "      <td>Americas</td>\n",
       "      <td>United States</td>\n",
       "      <td>not available in demo dataset</td>\n",
       "      <td>rr.com</td>\n",
       "      <td>not available in demo dataset</td>\n",
       "      <td>Northern America</td>\n",
       "      <td>15</td>\n",
       "      <td>12.0</td>\n",
       "      <td>NaN</td>\n",
       "      <td>NaN</td>\n",
       "      <td>NaN</td>\n",
       "      <td>NaN</td>\n",
       "      <td>NaN</td>\n",
       "      <td>NaN</td>\n",
       "      <td>NaN</td>\n",
       "      <td>cpm</td>\n",
       "      <td>NaN</td>\n",
       "      <td>dfa</td>\n",
       "    </tr>\n",
       "  </tbody>\n",
       "</table>\n",
       "</div>"
      ],
      "text/plain": [
       "        Unnamed: 0 channelGrouping       date        fullVisitorId  \\\n",
       "548725      548725  Organic Search 2017-05-23  3702632045024960671   \n",
       "697375      697375  Organic Search 2017-07-19   219064891723945627   \n",
       "474524      474524  Organic Search 2017-02-22  2389192114156853073   \n",
       "399762      399762  Organic Search 2016-09-09  1397628877965755203   \n",
       "903103      903103         Display 2017-01-04   797740313994990797   \n",
       "\n",
       "                             sessionId     visitId  visitNumber  \\\n",
       "548725  3702632045024960671_1495561117  1495561117            1   \n",
       "697375  0219064891723945627_1500476689  1500476689            2   \n",
       "474524  2389192114156853073_1487781578  1487781578            1   \n",
       "399762  1397628877965755203_1473457757  1473457757            1   \n",
       "903103  0797740313994990797_1483518849  1483518849            2   \n",
       "\n",
       "        visitStartTime device.browser device.deviceCategory  device.isMobile  \\\n",
       "548725      1495561117         Safari                mobile             True   \n",
       "697375      1500476689         Chrome               desktop            False   \n",
       "474524      1487781578         Safari                tablet             True   \n",
       "399762      1473457757         Chrome               desktop            False   \n",
       "903103      1483518849        Firefox               desktop            False   \n",
       "\n",
       "       device.operatingSystem                geoNetwork.city  \\\n",
       "548725                    iOS  not available in demo dataset   \n",
       "697375                Windows  not available in demo dataset   \n",
       "474524                    iOS  not available in demo dataset   \n",
       "399762                  Linux  not available in demo dataset   \n",
       "903103                Windows  not available in demo dataset   \n",
       "\n",
       "       geoNetwork.continent geoNetwork.country               geoNetwork.metro  \\\n",
       "548725             Americas      United States  not available in demo dataset   \n",
       "697375             Americas      United States  not available in demo dataset   \n",
       "474524             Americas      United States  not available in demo dataset   \n",
       "399762               Europe     United Kingdom  not available in demo dataset   \n",
       "903103             Americas      United States  not available in demo dataset   \n",
       "\n",
       "       geoNetwork.networkDomain              geoNetwork.region  \\\n",
       "548725              comcast.net  not available in demo dataset   \n",
       "697375      comcastbusiness.net  not available in demo dataset   \n",
       "474524                (not set)  not available in demo dataset   \n",
       "399762        btcentralplus.com  not available in demo dataset   \n",
       "903103                   rr.com  not available in demo dataset   \n",
       "\n",
       "       geoNetwork.subContinent  totals.hits  totals.pageviews  \\\n",
       "548725        Northern America           10              10.0   \n",
       "697375        Northern America            1               1.0   \n",
       "474524        Northern America            4               4.0   \n",
       "399762         Northern Europe            1               1.0   \n",
       "903103        Northern America           15              12.0   \n",
       "\n",
       "        totals.transactionRevenue trafficSource.adContent  \\\n",
       "548725                        NaN                     NaN   \n",
       "697375                        NaN                     NaN   \n",
       "474524                        NaN                     NaN   \n",
       "399762                        NaN                     NaN   \n",
       "903103                        NaN                     NaN   \n",
       "\n",
       "       trafficSource.adwordsClickInfo.adNetworkType  \\\n",
       "548725                                          NaN   \n",
       "697375                                          NaN   \n",
       "474524                                          NaN   \n",
       "399762                                          NaN   \n",
       "903103                                          NaN   \n",
       "\n",
       "       trafficSource.adwordsClickInfo.gclId  \\\n",
       "548725                                  NaN   \n",
       "697375                                  NaN   \n",
       "474524                                  NaN   \n",
       "399762                                  NaN   \n",
       "903103                                  NaN   \n",
       "\n",
       "        trafficSource.adwordsClickInfo.page  \\\n",
       "548725                                  NaN   \n",
       "697375                                  NaN   \n",
       "474524                                  NaN   \n",
       "399762                                  NaN   \n",
       "903103                                  NaN   \n",
       "\n",
       "       trafficSource.adwordsClickInfo.slot trafficSource.keyword  \\\n",
       "548725                                 NaN        (not provided)   \n",
       "697375                                 NaN        (not provided)   \n",
       "474524                                 NaN        (not provided)   \n",
       "399762                                 NaN        (not provided)   \n",
       "903103                                 NaN                   NaN   \n",
       "\n",
       "       trafficSource.medium trafficSource.referralPath trafficSource.source  \n",
       "548725              organic                        NaN               google  \n",
       "697375              organic                        NaN               google  \n",
       "474524              organic                        NaN               google  \n",
       "399762              organic                        NaN               google  \n",
       "903103                  cpm                        NaN                  dfa  "
      ]
     },
     "execution_count": 12,
     "metadata": {},
     "output_type": "execute_result"
    }
   ],
   "source": [
    "print(new_df.shape)\n",
    "pd.options.display.max_columns=new_df.shape[1]\n",
    "print(new_df.info())\n",
    "new_df.head()"
   ]
  },
  {
   "cell_type": "markdown",
   "metadata": {
    "_uuid": "a530c136aae357902f696b41fd0e781185f4c27f"
   },
   "source": [
    "Based on Initial glance of data we can drop following fields while exploring\n",
    "* sessionId - Unique number for a session\n",
    "* visitId - Nth visit fullVisitorId is visiting the store \n",
    "* visitStartTime - Time of Visit \n"
   ]
  },
  {
   "cell_type": "code",
   "execution_count": 13,
   "metadata": {
    "_uuid": "834e8754321c5ee0d3d89a772c4dc2575c5cea22"
   },
   "outputs": [
    {
     "name": "stdout",
     "output_type": "stream",
     "text": [
      "geoNetwork.city\n",
      "not available in demo dataset    406731\n",
      "Mountain View                     32811\n",
      "(not set)                         27240\n",
      "New York                          21142\n",
      "San Francisco                     16408\n",
      "Sunnyvale                         10501\n",
      "London                            10054\n",
      "San Jose                           8205\n",
      "Los Angeles                        6915\n",
      "Bangkok                            6130\n",
      "dtype: int64\n",
      "******************************\n",
      "geoNetwork.continent\n",
      "Americas     360500\n",
      "Asia         178817\n",
      "Europe       158701\n",
      "Oceania       12024\n",
      "Africa        11736\n",
      "(not set)      1144\n",
      "dtype: int64\n",
      "******************************\n",
      "geoNetwork.country\n",
      "United States     291889\n",
      "India              40926\n",
      "United Kingdom     29895\n",
      "Canada             20819\n",
      "Vietnam            19585\n",
      "Turkey             16491\n",
      "Thailand           16038\n",
      "Germany            16016\n",
      "Brazil             15815\n",
      "Japan              15727\n",
      "dtype: int64\n",
      "******************************\n",
      "geoNetwork.metro\n",
      "not available in demo dataset        406731\n",
      "(not set)                            161010\n",
      "San Francisco-Oakland-San Jose CA     77007\n",
      "New York NY                           21573\n",
      "London                                10036\n",
      "Los Angeles CA                         7984\n",
      "Chicago IL                             6088\n",
      "Seattle-Tacoma WA                      6063\n",
      "Austin TX                              3020\n",
      "Washington DC (Hagerstown MD)          2690\n",
      "dtype: int64\n",
      "******************************\n",
      "geoNetwork.networkDomain\n",
      "(not set)              196322\n",
      "unknown.unknown        116916\n",
      "comcast.net             22961\n",
      "rr.com                  11882\n",
      "verizon.net             10941\n",
      "ttnet.com.tr            10645\n",
      "comcastbusiness.net      7990\n",
      "hinet.net                6317\n",
      "virginm.net              5088\n",
      "3bb.co.th                4775\n",
      "dtype: int64\n",
      "******************************\n",
      "geoNetwork.region\n",
      "not available in demo dataset    406731\n",
      "California                        86235\n",
      "(not set)                         22133\n",
      "New York                          21193\n",
      "England                           10552\n",
      "Texas                              7014\n",
      "Bangkok                            6130\n",
      "Illinois                           6088\n",
      "Washington                         6063\n",
      "Ho Chi Minh                        5758\n",
      "dtype: int64\n",
      "******************************\n",
      "geoNetwork.subContinent\n",
      "Northern America    312744\n",
      "Southeast Asia       62024\n",
      "Southern Asia        47491\n",
      "Western Europe       47328\n",
      "Northern Europe      46478\n",
      "Eastern Asia         37531\n",
      "Eastern Europe       36209\n",
      "South America        33386\n",
      "Western Asia         30816\n",
      "Southern Europe      28686\n",
      "dtype: int64\n",
      "******************************\n"
     ]
    }
   ],
   "source": [
    "\n",
    "geofields = ['geoNetwork.city','geoNetwork.continent','geoNetwork.country','geoNetwork.metro','geoNetwork.networkDomain','geoNetwork.region','geoNetwork.subContinent']\n",
    "\n",
    "for fields in geofields:\n",
    "    temp_df = new_df.groupby(by=fields).size().sort_values(ascending=False).head(10)\n",
    "    print(temp_df)\n",
    "    print('*'*30)\n",
    "    "
   ]
  },
  {
   "cell_type": "code",
   "execution_count": 14,
   "metadata": {
    "_uuid": "44947e39f2a93925e8e102f550533d4c6140ee89"
   },
   "outputs": [
    {
     "name": "stdout",
     "output_type": "stream",
     "text": [
      "                            visitId  totals.transactionRevenue\n",
      "visitId                    1.000000                   0.262576\n",
      "totals.transactionRevenue  0.262576                   1.000000\n"
     ]
    },
    {
     "data": {
      "text/plain": [
       "<matplotlib.axes._subplots.AxesSubplot at 0x7f3d65148198>"
      ]
     },
     "execution_count": 14,
     "metadata": {},
     "output_type": "execute_result"
    },
    {
     "data": {
      "image/png": "[encoded data removed]",
      "text/plain": [
       "<Figure size 432x288 with 1 Axes>"
      ]
     },
     "metadata": {
      "needs_background": "light"
     },
     "output_type": "display_data"
    }
   ],
   "source": [
    "temp = new_df.groupby(by=['fullVisitorId']).agg({'visitId':'count','totals.transactionRevenue':'sum'})\n",
    "print(temp.corr())\n",
    "temp.plot(kind='scatter',x='visitId',y='totals.transactionRevenue')"
   ]
  },
  {
   "cell_type": "markdown",
   "metadata": {
    "_uuid": "c64125105704f9f313f03e6952e16885e06092b1"
   },
   "source": [
    "No of visits doesn't have much relation with transactionRevenue"
   ]
  },
  {
   "cell_type": "code",
   "execution_count": 15,
   "metadata": {
    "_uuid": "5a557540d71c12e507bda3b30618a65ad0e10f84"
   },
   "outputs": [
    {
     "data": {
      "image/png": "[encoded data removed]",
      "text/plain": [
       "<Figure size 1080x576 with 2 Axes>"
      ]
     },
     "metadata": {
      "needs_background": "light"
     },
     "output_type": "display_data"
    }
   ],
   "source": [
    "#Lets analyze how the visits and transactionRevenue trend with date\n",
    "plot_df = new_df.groupby(by=['date']).agg({'fullVisitorId':'count','totals.transactionRevenue':'sum'}).reset_index()\n",
    "\n",
    "fig = plt.figure(figsize=(15,8))\n",
    "plt.subplot(2,1,1)\n",
    "plt.plot(pd.to_datetime(plot_df['date']),plot_df['totals.transactionRevenue'])\n",
    "plt.ylabel('Revenue')\n",
    "plt.xticks(rotation=90)\n",
    "\n",
    "plt.subplot(2,1,2)\n",
    "plt.plot(pd.to_datetime(plot_df['date']),plot_df['fullVisitorId'])\n",
    "plt.ylabel('Visits')\n",
    "plt.xticks(rotation=90);\n",
    "\n",
    "for ax in fig.axes:\n",
    "    plt.sca(ax)\n",
    "    plt.xticks(rotation=90)"
   ]
  },
  {
   "cell_type": "markdown",
   "metadata": {
    "_uuid": "28b2f29cfa863c2857396e0952504fcddfc85f7b"
   },
   "source": [
    "Numer of visits drasitically increases from October and reduces in December. But that didnt contribute much on revenue. As only one year of data available, we cannot identify any YoY pattern of data."
   ]
  },
  {
   "cell_type": "code",
   "execution_count": 16,
   "metadata": {
    "_uuid": "f02b5f0b414bf38c727d11f6950f0d5515b3f206"
   },
   "outputs": [
    {
     "data": {
      "image/png": "[encoded data removed]",
      "text/plain": [
       "<Figure size 1080x576 with 2 Axes>"
      ]
     },
     "metadata": {
      "needs_background": "light"
     },
     "output_type": "display_data"
    }
   ],
   "source": [
    "#Weekly pattern\n",
    "\n",
    "plot_df = new_df.groupby(by=['date']).agg({'fullVisitorId':'count','totals.transactionRevenue':'sum'})\n",
    "\n",
    "plot_df = plot_df.resample('W').mean()\n",
    "\n",
    "plt.figure(figsize=(15,8))\n",
    "plt.subplot(2,1,1)\n",
    "plt.plot(plot_df.index,plot_df['totals.transactionRevenue'])\n",
    "plt.ylabel('Revenue')\n",
    "\n",
    "plt.subplot(2,1,2)\n",
    "plt.plot(plot_df.index,plot_df['fullVisitorId'])\n",
    "plt.ylabel('Visits');"
   ]
  },
  {
   "cell_type": "code",
   "execution_count": 17,
   "metadata": {
    "_uuid": "c6da040337fbb08efea236af862328b9718fedff"
   },
   "outputs": [
    {
     "data": {
      "text/plain": [
       "(array([2.000e+00, 3.000e+00, 4.000e+00, 1.540e+02, 1.898e+03, 4.284e+03,\n",
       "        1.541e+03, 3.260e+02, 3.600e+01, 3.000e+00]),\n",
       " array([ 9.21044037, 10.77370501, 12.33696965, 13.90023429, 15.46349893,\n",
       "        17.02676357, 18.59002821, 20.15329285, 21.71655749, 23.27982213,\n",
       "        24.84308677]),\n",
       " <a list of 10 Patch objects>)"
      ]
     },
     "execution_count": 17,
     "metadata": {},
     "output_type": "execute_result"
    },
    {
     "data": {
      "image/png": "[encoded data removed]",
      "text/plain": [
       "<Figure size 720x576 with 2 Axes>"
      ]
     },
     "metadata": {
      "needs_background": "light"
     },
     "output_type": "display_data"
    }
   ],
   "source": [
    "plot_df = new_df.groupby(by=['fullVisitorId']).agg({'channelGrouping':'count','totals.transactionRevenue':'sum'})\n",
    "\n",
    "plt.figure(figsize=(10,8))\n",
    "plt.subplot(2,1,1)\n",
    "plt.hist(np.log1p(plot_df[plot_df['totals.transactionRevenue']>0]['totals.transactionRevenue']))\n",
    "\n",
    "plt.subplot(2,1,2)\n",
    "plt.hist(np.log1p(plot_df[plot_df['totals.transactionRevenue']>0]['totals.transactionRevenue']))"
   ]
  },
  {
   "cell_type": "code",
   "execution_count": 18,
   "metadata": {
    "_uuid": "b2f8d95560074c83fb57361e7ed7fcfb87413718"
   },
   "outputs": [
    {
     "data": {
      "text/plain": [
       "Unnamed: 0                                           0\n",
       "channelGrouping                                      0\n",
       "date                                                 0\n",
       "fullVisitorId                                        0\n",
       "sessionId                                            0\n",
       "visitId                                              0\n",
       "visitNumber                                          0\n",
       "visitStartTime                                       0\n",
       "device.browser                                       0\n",
       "device.deviceCategory                                0\n",
       "device.isMobile                                      0\n",
       "device.operatingSystem                               0\n",
       "geoNetwork.city                                      0\n",
       "geoNetwork.continent                                 0\n",
       "geoNetwork.country                                   0\n",
       "geoNetwork.metro                                     0\n",
       "geoNetwork.networkDomain                             0\n",
       "geoNetwork.region                                    0\n",
       "geoNetwork.subContinent                              0\n",
       "totals.hits                                          0\n",
       "totals.pageviews                                    81\n",
       "totals.transactionRevenue                       713707\n",
       "trafficSource.adContent                         714179\n",
       "trafficSource.adwordsClickInfo.adNetworkType    705804\n",
       "trafficSource.adwordsClickInfo.gclId            705718\n",
       "trafficSource.adwordsClickInfo.page             705804\n",
       "trafficSource.adwordsClickInfo.slot             705804\n",
       "trafficSource.keyword                           402206\n",
       "trafficSource.medium                                 0\n",
       "trafficSource.referralPath                      458402\n",
       "trafficSource.source                                 0\n",
       "dtype: int64"
      ]
     },
     "execution_count": 18,
     "metadata": {},
     "output_type": "execute_result"
    }
   ],
   "source": [
    "#new_df = new_df.drop(labels=['sessionId','visitId','visitStartTime'])\n",
    "new_df.isna().sum()"
   ]
  },
  {
   "cell_type": "code",
   "execution_count": 19,
   "metadata": {
    "_uuid": "fd11632c1290bf0d8a5dc705bf3c7d39333e796e"
   },
   "outputs": [
    {
     "name": "stdout",
     "output_type": "stream",
     "text": [
      "(9215, 31) (713707, 31)\n"
     ]
    }
   ],
   "source": [
    "new_df['totals.transactionRevenue'].fillna(value=0,inplace=True)\n",
    "transaction_df = new_df[new_df['totals.transactionRevenue']>0.0]\n",
    "nontransaction_df = new_df[new_df['totals.transactionRevenue']<=0]\n",
    "print(transaction_df.shape, nontransaction_df.shape)\n",
    "#new_df['totals.transactionRevenue']>0.0"
   ]
  },
  {
   "cell_type": "code",
   "execution_count": 20,
   "metadata": {
    "_uuid": "297130e70937993b3fc706526d7d628d134c08be",
    "scrolled": false
   },
   "outputs": [],
   "source": [
    "def getplot(df1, df2, groupfield):\n",
    "    fig =plt.figure(figsize=(15,8))\n",
    "    plt.subplot(2,1,1)\n",
    "    plot_df = df1.groupby(by=[groupfield])['totals.transactionRevenue'].size().reset_index()\n",
    "    plot_df = plot_df.sort_values(by=['totals.transactionRevenue'], ascending=False).head(10)\n",
    "    plt1 = plt.bar(plot_df[groupfield],plot_df['totals.transactionRevenue'])\n",
    "\n",
    "    plt.subplot(2,1,2)\n",
    "    plot_df = df2.groupby(by=[groupfield])['totals.transactionRevenue'].size().reset_index()\n",
    "    plot_df = plot_df.sort_values(by=['totals.transactionRevenue'], ascending=False).head(10)\n",
    "    plt2 = plt.bar(plot_df[groupfield],plot_df['totals.transactionRevenue'])\n",
    "    for ax in fig.axes:\n",
    "        plt.sca(ax)\n",
    "        plt.xticks(rotation=90)\n",
    "    #fig.tight_layout()\n",
    "    return plt1, plt2"
   ]
  },
  {
   "cell_type": "code",
   "execution_count": 21,
   "metadata": {
    "_uuid": "8623cc52322b6ffaaadff2c0f1d88bc1bf58a5ff"
   },
   "outputs": [
    {
     "data": {
      "image/png": "[encoded data removed]",
      "text/plain": [
       "<Figure size 1080x576 with 2 Axes>"
      ]
     },
     "metadata": {
      "needs_background": "light"
     },
     "output_type": "display_data"
    }
   ],
   "source": [
    "getplot(transaction_df,nontransaction_df,'geoNetwork.country');"
   ]
  },
  {
   "cell_type": "code",
   "execution_count": 22,
   "metadata": {
    "_uuid": "ca63b2f28775bd460a95b514142a14647548621f"
   },
   "outputs": [
    {
     "data": {
      "image/png": "[encoded data removed]",
      "text/plain": [
       "<Figure size 1080x576 with 2 Axes>"
      ]
     },
     "metadata": {
      "needs_background": "light"
     },
     "output_type": "display_data"
    }
   ],
   "source": [
    "getplot(transaction_df,nontransaction_df,'geoNetwork.city');"
   ]
  },
  {
   "cell_type": "code",
   "execution_count": 23,
   "metadata": {
    "_uuid": "8634b7f7fe43cc6d2ab849b9eb346bb415ba2e58"
   },
   "outputs": [
    {
     "data": {
      "image/png": "[encoded data removed]",
      "text/plain": [
       "<Figure size 1080x576 with 2 Axes>"
      ]
     },
     "metadata": {
      "needs_background": "light"
     },
     "output_type": "display_data"
    }
   ],
   "source": [
    "getplot(transaction_df,nontransaction_df,'geoNetwork.continent');"
   ]
  },
  {
   "cell_type": "code",
   "execution_count": 24,
   "metadata": {
    "_uuid": "be76315e7878ae7cf4342b8b1dd4a69becdd2228"
   },
   "outputs": [
    {
     "data": {
      "image/png": "[encoded data removed]",
      "text/plain": [
       "<Figure size 1080x576 with 2 Axes>"
      ]
     },
     "metadata": {
      "needs_background": "light"
     },
     "output_type": "display_data"
    }
   ],
   "source": [
    "getplot(transaction_df,nontransaction_df,'geoNetwork.metro');"
   ]
  },
  {
   "cell_type": "code",
   "execution_count": 25,
   "metadata": {
    "_uuid": "4ce14b0cd674e6800f68dc5485c9a628b403c079"
   },
   "outputs": [
    {
     "data": {
      "image/png": "[encoded data removed]",
      "text/plain": [
       "<Figure size 1080x576 with 2 Axes>"
      ]
     },
     "metadata": {
      "needs_background": "light"
     },
     "output_type": "display_data"
    }
   ],
   "source": [
    "getplot(transaction_df,nontransaction_df,'geoNetwork.networkDomain');"
   ]
  },
  {
   "cell_type": "code",
   "execution_count": 26,
   "metadata": {
    "_uuid": "9cbc1253c62cac7f7f4b5826b3decc0f17225c5a"
   },
   "outputs": [
    {
     "data": {
      "image/png": "[encoded data removed]",
      "text/plain": [
       "<Figure size 1080x576 with 2 Axes>"
      ]
     },
     "metadata": {
      "needs_background": "light"
     },
     "output_type": "display_data"
    }
   ],
   "source": [
    "getplot(transaction_df,nontransaction_df,'geoNetwork.region');"
   ]
  },
  {
   "cell_type": "code",
   "execution_count": 27,
   "metadata": {
    "_uuid": "d646ccff394b063ae1d179e8a2af112dce4f55d6"
   },
   "outputs": [
    {
     "data": {
      "image/png": "[encoded data removed]",
      "text/plain": [
       "<Figure size 1080x576 with 2 Axes>"
      ]
     },
     "metadata": {
      "needs_background": "light"
     },
     "output_type": "display_data"
    }
   ],
   "source": [
    "getplot(transaction_df,nontransaction_df,'geoNetwork.subContinent');"
   ]
  },
  {
   "cell_type": "code",
   "execution_count": 28,
   "metadata": {
    "_uuid": "2a0ab6e1da973d2067df8f7105ff331facd463bc"
   },
   "outputs": [
    {
     "data": {
      "image/png": "[encoded data removed]",
      "text/plain": [
       "<Figure size 1080x576 with 2 Axes>"
      ]
     },
     "metadata": {
      "needs_background": "light"
     },
     "output_type": "display_data"
    }
   ],
   "source": [
    "getplot(transaction_df,nontransaction_df,'channelGrouping');"
   ]
  },
  {
   "cell_type": "markdown",
   "metadata": {
    "_uuid": "6db0b9f9e615779fe28723d4bfe10eab553c754a"
   },
   "source": [
    "Lets drop labels other than city and subcontinent. As city is the lower granular level in geo. As most values in city is 'not available' lets keep another variable subcontinent as an additional field.\n"
   ]
  },
  {
   "cell_type": "code",
   "execution_count": 29,
   "metadata": {
    "_uuid": "36eefb87510913f0a4ee684f420f9eec153dafed"
   },
   "outputs": [],
   "source": [
    "new_df1 = new_df.drop(labels=['geoNetwork.region','geoNetwork.networkDomain','geoNetwork.metro','geoNetwork.continent','geoNetwork.country','visitId','visitStartTime'],axis=1)\n",
    "test_df1 = test_df.drop(labels=['geoNetwork.region','geoNetwork.networkDomain','geoNetwork.metro','geoNetwork.continent','geoNetwork.country','visitId','visitStartTime'],axis=1)\n"
   ]
  },
  {
   "cell_type": "markdown",
   "metadata": {
    "_uuid": "beb1ad518c62c00abc43a0883f6e358d9edfcb43"
   },
   "source": [
    "Only one year of data is available. With Date or Month we couldn't find any relation. Lets drop it. \n",
    "device.isMobile is a duplicate variable as the detail is covered in deviceCategory\n"
   ]
  },
  {
   "cell_type": "code",
   "execution_count": 30,
   "metadata": {
    "_uuid": "d70df2e94eb567ded735135bcc5202e06def610b"
   },
   "outputs": [],
   "source": [
    "new_df1 = new_df1.drop(labels=['date','device.isMobile'], axis=1)\n",
    "test_df1 = test_df1.drop(labels=['date','device.isMobile'], axis=1)"
   ]
  },
  {
   "cell_type": "code",
   "execution_count": 31,
   "metadata": {
    "_uuid": "49d795b080e81c52e37c246f1ab814e69c00fdf7"
   },
   "outputs": [
    {
     "data": {
      "image/png": "[encoded data removed]",
      "text/plain": [
       "<Figure size 1080x576 with 2 Axes>"
      ]
     },
     "metadata": {
      "needs_background": "light"
     },
     "output_type": "display_data"
    }
   ],
   "source": [
    "getplot(transaction_df,nontransaction_df,'device.browser');"
   ]
  },
  {
   "cell_type": "code",
   "execution_count": 32,
   "metadata": {
    "_uuid": "ba2fe8cfd712b89cc532e28e6dcabd28591b708f"
   },
   "outputs": [
    {
     "data": {
      "image/png": "[encoded data removed]",
      "text/plain": [
       "<Figure size 1080x576 with 2 Axes>"
      ]
     },
     "metadata": {
      "needs_background": "light"
     },
     "output_type": "display_data"
    }
   ],
   "source": [
    "getplot(transaction_df,nontransaction_df,'device.deviceCategory');"
   ]
  },
  {
   "cell_type": "code",
   "execution_count": 33,
   "metadata": {
    "_uuid": "26ab87260fd69f83c925b27f77749c17e9222e9f"
   },
   "outputs": [
    {
     "data": {
      "image/png": "[encoded data removed]",
      "text/plain": [
       "<Figure size 1080x576 with 2 Axes>"
      ]
     },
     "metadata": {
      "needs_background": "light"
     },
     "output_type": "display_data"
    }
   ],
   "source": [
    "getplot(transaction_df,nontransaction_df,'device.operatingSystem');"
   ]
  },
  {
   "cell_type": "code",
   "execution_count": 34,
   "metadata": {
    "_uuid": "ae0281c22cfd3fee69a43b33a054befedc24a783"
   },
   "outputs": [
    {
     "name": "stderr",
     "output_type": "stream",
     "text": [
      "/home/tintash/anaconda3/lib/python3.7/site-packages/pandas/core/generic.py:5434: SettingWithCopyWarning: \n",
      "A value is trying to be set on a copy of a slice from a DataFrame\n",
      "\n",
      "See the caveats in the documentation: http://pandas.pydata.org/pandas-docs/stable/indexing.html#indexing-view-versus-copy\n",
      "  self._update_inplace(new_data)\n"
     ]
    },
    {
     "data": {
      "text/plain": [
       "(<BarContainer object of 10 artists>, <BarContainer object of 10 artists>)"
      ]
     },
     "execution_count": 34,
     "metadata": {},
     "output_type": "execute_result"
    },
    {
     "data": {
      "image/png": "[encoded data removed]",
      "text/plain": [
       "<Figure size 1080x576 with 2 Axes>"
      ]
     },
     "metadata": {
      "needs_background": "light"
     },
     "output_type": "display_data"
    }
   ],
   "source": [
    "transaction_df['trafficSource.adContent'].fillna('NA',inplace=True)\n",
    "getplot(transaction_df,nontransaction_df,'trafficSource.adContent')\n",
    "#NA values seems to contribute more for revenue :p"
   ]
  },
  {
   "cell_type": "code",
   "execution_count": 35,
   "metadata": {
    "_uuid": "9aa67ac2cca91adef43b2c45d5235ba62df1600a"
   },
   "outputs": [
    {
     "data": {
      "text/plain": [
       "(<BarContainer object of 10 artists>, <BarContainer object of 10 artists>)"
      ]
     },
     "execution_count": 35,
     "metadata": {},
     "output_type": "execute_result"
    },
    {
     "data": {
      "image/png": "[encoded data removed]",
      "text/plain": [
       "<Figure size 1080x576 with 2 Axes>"
      ]
     },
     "metadata": {
      "needs_background": "light"
     },
     "output_type": "display_data"
    }
   ],
   "source": [
    "getplot(transaction_df,nontransaction_df,'trafficSource.source')"
   ]
  },
  {
   "cell_type": "code",
   "execution_count": 36,
   "metadata": {
    "_uuid": "55a90a34fd8abf7dabee01c98878db7d7acd2955"
   },
   "outputs": [
    {
     "name": "stdout",
     "output_type": "stream",
     "text": [
      "(722922, 15)\n"
     ]
    },
    {
     "data": {
      "text/html": [
       "<div>\n",
       "<style scoped>\n",
       "    .dataframe tbody tr th:only-of-type {\n",
       "        vertical-align: middle;\n",
       "    }\n",
       "\n",
       "    .dataframe tbody tr th {\n",
       "        vertical-align: top;\n",
       "    }\n",
       "\n",
       "    .dataframe thead th {\n",
       "        text-align: right;\n",
       "    }\n",
       "</style>\n",
       "<table border=\"1\" class=\"dataframe\">\n",
       "  <thead>\n",
       "    <tr style=\"text-align: right;\">\n",
       "      <th></th>\n",
       "      <th>Unnamed: 0</th>\n",
       "      <th>channelGrouping</th>\n",
       "      <th>fullVisitorId</th>\n",
       "      <th>sessionId</th>\n",
       "      <th>visitNumber</th>\n",
       "      <th>device.browser</th>\n",
       "      <th>device.deviceCategory</th>\n",
       "      <th>device.operatingSystem</th>\n",
       "      <th>geoNetwork.city</th>\n",
       "      <th>geoNetwork.subContinent</th>\n",
       "      <th>totals.hits</th>\n",
       "      <th>totals.pageviews</th>\n",
       "      <th>totals.transactionRevenue</th>\n",
       "      <th>trafficSource.adContent</th>\n",
       "      <th>trafficSource.keyword</th>\n",
       "    </tr>\n",
       "  </thead>\n",
       "  <tbody>\n",
       "    <tr>\n",
       "      <th>548725</th>\n",
       "      <td>548725</td>\n",
       "      <td>Organic Search</td>\n",
       "      <td>3702632045024960671</td>\n",
       "      <td>3702632045024960671_1495561117</td>\n",
       "      <td>1</td>\n",
       "      <td>Safari</td>\n",
       "      <td>mobile</td>\n",
       "      <td>iOS</td>\n",
       "      <td>not available in demo dataset</td>\n",
       "      <td>Northern America</td>\n",
       "      <td>10</td>\n",
       "      <td>10.0</td>\n",
       "      <td>0.0</td>\n",
       "      <td>NaN</td>\n",
       "      <td>(not provided)</td>\n",
       "    </tr>\n",
       "    <tr>\n",
       "      <th>697375</th>\n",
       "      <td>697375</td>\n",
       "      <td>Organic Search</td>\n",
       "      <td>219064891723945627</td>\n",
       "      <td>0219064891723945627_1500476689</td>\n",
       "      <td>2</td>\n",
       "      <td>Chrome</td>\n",
       "      <td>desktop</td>\n",
       "      <td>Windows</td>\n",
       "      <td>not available in demo dataset</td>\n",
       "      <td>Northern America</td>\n",
       "      <td>1</td>\n",
       "      <td>1.0</td>\n",
       "      <td>0.0</td>\n",
       "      <td>NaN</td>\n",
       "      <td>(not provided)</td>\n",
       "    </tr>\n",
       "    <tr>\n",
       "      <th>474524</th>\n",
       "      <td>474524</td>\n",
       "      <td>Organic Search</td>\n",
       "      <td>2389192114156853073</td>\n",
       "      <td>2389192114156853073_1487781578</td>\n",
       "      <td>1</td>\n",
       "      <td>Safari</td>\n",
       "      <td>tablet</td>\n",
       "      <td>iOS</td>\n",
       "      <td>not available in demo dataset</td>\n",
       "      <td>Northern America</td>\n",
       "      <td>4</td>\n",
       "      <td>4.0</td>\n",
       "      <td>0.0</td>\n",
       "      <td>NaN</td>\n",
       "      <td>(not provided)</td>\n",
       "    </tr>\n",
       "    <tr>\n",
       "      <th>399762</th>\n",
       "      <td>399762</td>\n",
       "      <td>Organic Search</td>\n",
       "      <td>1397628877965755203</td>\n",
       "      <td>1397628877965755203_1473457757</td>\n",
       "      <td>1</td>\n",
       "      <td>Chrome</td>\n",
       "      <td>desktop</td>\n",
       "      <td>Linux</td>\n",
       "      <td>not available in demo dataset</td>\n",
       "      <td>Northern Europe</td>\n",
       "      <td>1</td>\n",
       "      <td>1.0</td>\n",
       "      <td>0.0</td>\n",
       "      <td>NaN</td>\n",
       "      <td>(not provided)</td>\n",
       "    </tr>\n",
       "    <tr>\n",
       "      <th>903103</th>\n",
       "      <td>903103</td>\n",
       "      <td>Display</td>\n",
       "      <td>797740313994990797</td>\n",
       "      <td>0797740313994990797_1483518849</td>\n",
       "      <td>2</td>\n",
       "      <td>Firefox</td>\n",
       "      <td>desktop</td>\n",
       "      <td>Windows</td>\n",
       "      <td>not available in demo dataset</td>\n",
       "      <td>Northern America</td>\n",
       "      <td>15</td>\n",
       "      <td>12.0</td>\n",
       "      <td>0.0</td>\n",
       "      <td>NaN</td>\n",
       "      <td>NaN</td>\n",
       "    </tr>\n",
       "  </tbody>\n",
       "</table>\n",
       "</div>"
      ],
      "text/plain": [
       "        Unnamed: 0 channelGrouping        fullVisitorId  \\\n",
       "548725      548725  Organic Search  3702632045024960671   \n",
       "697375      697375  Organic Search   219064891723945627   \n",
       "474524      474524  Organic Search  2389192114156853073   \n",
       "399762      399762  Organic Search  1397628877965755203   \n",
       "903103      903103         Display   797740313994990797   \n",
       "\n",
       "                             sessionId  visitNumber device.browser  \\\n",
       "548725  3702632045024960671_1495561117            1         Safari   \n",
       "697375  0219064891723945627_1500476689            2         Chrome   \n",
       "474524  2389192114156853073_1487781578            1         Safari   \n",
       "399762  1397628877965755203_1473457757            1         Chrome   \n",
       "903103  0797740313994990797_1483518849            2        Firefox   \n",
       "\n",
       "       device.deviceCategory device.operatingSystem  \\\n",
       "548725                mobile                    iOS   \n",
       "697375               desktop                Windows   \n",
       "474524                tablet                    iOS   \n",
       "399762               desktop                  Linux   \n",
       "903103               desktop                Windows   \n",
       "\n",
       "                      geoNetwork.city geoNetwork.subContinent  totals.hits  \\\n",
       "548725  not available in demo dataset        Northern America           10   \n",
       "697375  not available in demo dataset        Northern America            1   \n",
       "474524  not available in demo dataset        Northern America            4   \n",
       "399762  not available in demo dataset         Northern Europe            1   \n",
       "903103  not available in demo dataset        Northern America           15   \n",
       "\n",
       "        totals.pageviews  totals.transactionRevenue trafficSource.adContent  \\\n",
       "548725              10.0                        0.0                     NaN   \n",
       "697375               1.0                        0.0                     NaN   \n",
       "474524               4.0                        0.0                     NaN   \n",
       "399762               1.0                        0.0                     NaN   \n",
       "903103              12.0                        0.0                     NaN   \n",
       "\n",
       "       trafficSource.keyword  \n",
       "548725        (not provided)  \n",
       "697375        (not provided)  \n",
       "474524        (not provided)  \n",
       "399762        (not provided)  \n",
       "903103                   NaN  "
      ]
     },
     "execution_count": 36,
     "metadata": {},
     "output_type": "execute_result"
    }
   ],
   "source": [
    "new_df1 = new_df1.drop(labels=['trafficSource.adwordsClickInfo.adNetworkType', 'trafficSource.adwordsClickInfo.gclId', 'trafficSource.adwordsClickInfo.page', 'trafficSource.adwordsClickInfo.slot', 'trafficSource.medium', 'trafficSource.medium', 'trafficSource.referralPath','trafficSource.source'],axis=1)\n",
    "test_df1 = test_df1.drop(labels=['trafficSource.adwordsClickInfo.adNetworkType', 'trafficSource.adwordsClickInfo.gclId', 'trafficSource.adwordsClickInfo.page', 'trafficSource.adwordsClickInfo.slot', 'trafficSource.medium', 'trafficSource.medium', 'trafficSource.referralPath','trafficSource.source'],axis=1)\n",
    "print(new_df1.shape)\n",
    "new_df1.head()"
   ]
  },
  {
   "cell_type": "code",
   "execution_count": 37,
   "metadata": {
    "_uuid": "70c62329d7dfaf64214457cbc8aae8809f4ac520"
   },
   "outputs": [],
   "source": [
    "new_df1.fillna('0',inplace=True)\n",
    "test_df1.fillna('0',inplace=True)"
   ]
  },
  {
   "cell_type": "code",
   "execution_count": 38,
   "metadata": {
    "_uuid": "285a02accf28ef48bbcac373b8a1d7dd9650ab68"
   },
   "outputs": [
    {
     "data": {
      "text/plain": [
       "Unnamed: 0                   0\n",
       "channelGrouping              0\n",
       "fullVisitorId                0\n",
       "sessionId                    0\n",
       "visitNumber                  0\n",
       "device.browser               0\n",
       "device.deviceCategory        0\n",
       "device.operatingSystem       0\n",
       "geoNetwork.city              0\n",
       "geoNetwork.subContinent      0\n",
       "totals.hits                  0\n",
       "totals.pageviews             0\n",
       "totals.transactionRevenue    0\n",
       "trafficSource.adContent      0\n",
       "trafficSource.keyword        0\n",
       "dtype: int64"
      ]
     },
     "execution_count": 38,
     "metadata": {},
     "output_type": "execute_result"
    }
   ],
   "source": [
    "new_df1.isna().sum()"
   ]
  },
  {
   "cell_type": "code",
   "execution_count": 39,
   "metadata": {
    "_uuid": "fd9f5ce9dc521aa9b0a06276bb9ba6921142a484"
   },
   "outputs": [],
   "source": [
    "new_df1['trafficSource.adContent'].fillna('Noadcontent',inplace=True)\n",
    "new_df1['trafficSource.keyword'].fillna('NA',inplace=True)\n",
    "test_df1['trafficSource.adContent'].fillna('Noadcontent',inplace=True)\n",
    "test_df1['trafficSource.keyword'].fillna('NA',inplace=True)\n",
    "\n",
    "for columns in ['totals.transactionRevenue']:\n",
    "    new_df1[columns].fillna('0',inplace=True)\n",
    "    new_df1[columns] = new_df1[columns].astype('int')\n",
    "    test_df1[columns].fillna('0',inplace=True)\n",
    "    test_df1[columns] = test_df1[columns].astype('int')"
   ]
  },
  {
   "cell_type": "code",
   "execution_count": 40,
   "metadata": {
    "_uuid": "a6f6a1030cc2f368fe69a4edac4d6e0105611326"
   },
   "outputs": [
    {
     "name": "stdout",
     "output_type": "stream",
     "text": [
      "<class 'pandas.core.frame.DataFrame'>\n",
      "Int64Index: 722922 entries, 548725 to 525874\n",
      "Data columns (total 15 columns):\n",
      "Unnamed: 0                   722922 non-null int64\n",
      "channelGrouping              722922 non-null object\n",
      "fullVisitorId                722922 non-null object\n",
      "sessionId                    722922 non-null object\n",
      "visitNumber                  722922 non-null int64\n",
      "device.browser               722922 non-null object\n",
      "device.deviceCategory        722922 non-null object\n",
      "device.operatingSystem       722922 non-null object\n",
      "geoNetwork.city              722922 non-null object\n",
      "geoNetwork.subContinent      722922 non-null object\n",
      "totals.hits                  722922 non-null int64\n",
      "totals.pageviews             722922 non-null object\n",
      "totals.transactionRevenue    722922 non-null int64\n",
      "trafficSource.adContent      722922 non-null object\n",
      "trafficSource.keyword        722922 non-null object\n",
      "dtypes: int64(4), object(11)\n",
      "memory usage: 88.2+ MB\n"
     ]
    }
   ],
   "source": [
    "new_df1.info()"
   ]
  },
  {
   "cell_type": "code",
   "execution_count": 41,
   "metadata": {
    "_uuid": "c15456eb326070babd692e4838695d1bf8378baa"
   },
   "outputs": [
    {
     "data": {
      "text/html": [
       "<div>\n",
       "<style scoped>\n",
       "    .dataframe tbody tr th:only-of-type {\n",
       "        vertical-align: middle;\n",
       "    }\n",
       "\n",
       "    .dataframe tbody tr th {\n",
       "        vertical-align: top;\n",
       "    }\n",
       "\n",
       "    .dataframe thead th {\n",
       "        text-align: right;\n",
       "    }\n",
       "</style>\n",
       "<table border=\"1\" class=\"dataframe\">\n",
       "  <thead>\n",
       "    <tr style=\"text-align: right;\">\n",
       "      <th></th>\n",
       "      <th>Unnamed: 0</th>\n",
       "      <th>channelGrouping</th>\n",
       "      <th>fullVisitorId</th>\n",
       "      <th>sessionId</th>\n",
       "      <th>visitNumber</th>\n",
       "      <th>device.browser</th>\n",
       "      <th>device.deviceCategory</th>\n",
       "      <th>device.operatingSystem</th>\n",
       "      <th>geoNetwork.city</th>\n",
       "      <th>geoNetwork.subContinent</th>\n",
       "      <th>totals.hits</th>\n",
       "      <th>totals.pageviews</th>\n",
       "      <th>totals.transactionRevenue</th>\n",
       "      <th>trafficSource.adContent</th>\n",
       "      <th>trafficSource.keyword</th>\n",
       "    </tr>\n",
       "  </thead>\n",
       "  <tbody>\n",
       "    <tr>\n",
       "      <th>548725</th>\n",
       "      <td>548725</td>\n",
       "      <td>Organic Search</td>\n",
       "      <td>3702632045024960671</td>\n",
       "      <td>3702632045024960671_1495561117</td>\n",
       "      <td>1</td>\n",
       "      <td>Safari</td>\n",
       "      <td>mobile</td>\n",
       "      <td>iOS</td>\n",
       "      <td>not available in demo dataset</td>\n",
       "      <td>Northern America</td>\n",
       "      <td>10</td>\n",
       "      <td>10</td>\n",
       "      <td>0</td>\n",
       "      <td>0</td>\n",
       "      <td>(not provided)</td>\n",
       "    </tr>\n",
       "    <tr>\n",
       "      <th>697375</th>\n",
       "      <td>697375</td>\n",
       "      <td>Organic Search</td>\n",
       "      <td>219064891723945627</td>\n",
       "      <td>0219064891723945627_1500476689</td>\n",
       "      <td>2</td>\n",
       "      <td>Chrome</td>\n",
       "      <td>desktop</td>\n",
       "      <td>Windows</td>\n",
       "      <td>not available in demo dataset</td>\n",
       "      <td>Northern America</td>\n",
       "      <td>1</td>\n",
       "      <td>1</td>\n",
       "      <td>0</td>\n",
       "      <td>0</td>\n",
       "      <td>(not provided)</td>\n",
       "    </tr>\n",
       "    <tr>\n",
       "      <th>474524</th>\n",
       "      <td>474524</td>\n",
       "      <td>Organic Search</td>\n",
       "      <td>2389192114156853073</td>\n",
       "      <td>2389192114156853073_1487781578</td>\n",
       "      <td>1</td>\n",
       "      <td>Safari</td>\n",
       "      <td>tablet</td>\n",
       "      <td>iOS</td>\n",
       "      <td>not available in demo dataset</td>\n",
       "      <td>Northern America</td>\n",
       "      <td>4</td>\n",
       "      <td>4</td>\n",
       "      <td>0</td>\n",
       "      <td>0</td>\n",
       "      <td>(not provided)</td>\n",
       "    </tr>\n",
       "    <tr>\n",
       "      <th>399762</th>\n",
       "      <td>399762</td>\n",
       "      <td>Organic Search</td>\n",
       "      <td>1397628877965755203</td>\n",
       "      <td>1397628877965755203_1473457757</td>\n",
       "      <td>1</td>\n",
       "      <td>Chrome</td>\n",
       "      <td>desktop</td>\n",
       "      <td>Linux</td>\n",
       "      <td>not available in demo dataset</td>\n",
       "      <td>Northern Europe</td>\n",
       "      <td>1</td>\n",
       "      <td>1</td>\n",
       "      <td>0</td>\n",
       "      <td>0</td>\n",
       "      <td>(not provided)</td>\n",
       "    </tr>\n",
       "    <tr>\n",
       "      <th>903103</th>\n",
       "      <td>903103</td>\n",
       "      <td>Display</td>\n",
       "      <td>797740313994990797</td>\n",
       "      <td>0797740313994990797_1483518849</td>\n",
       "      <td>2</td>\n",
       "      <td>Firefox</td>\n",
       "      <td>desktop</td>\n",
       "      <td>Windows</td>\n",
       "      <td>not available in demo dataset</td>\n",
       "      <td>Northern America</td>\n",
       "      <td>15</td>\n",
       "      <td>12</td>\n",
       "      <td>0</td>\n",
       "      <td>0</td>\n",
       "      <td>0</td>\n",
       "    </tr>\n",
       "  </tbody>\n",
       "</table>\n",
       "</div>"
      ],
      "text/plain": [
       "        Unnamed: 0 channelGrouping        fullVisitorId  \\\n",
       "548725      548725  Organic Search  3702632045024960671   \n",
       "697375      697375  Organic Search   219064891723945627   \n",
       "474524      474524  Organic Search  2389192114156853073   \n",
       "399762      399762  Organic Search  1397628877965755203   \n",
       "903103      903103         Display   797740313994990797   \n",
       "\n",
       "                             sessionId  visitNumber device.browser  \\\n",
       "548725  3702632045024960671_1495561117            1         Safari   \n",
       "697375  0219064891723945627_1500476689            2         Chrome   \n",
       "474524  2389192114156853073_1487781578            1         Safari   \n",
       "399762  1397628877965755203_1473457757            1         Chrome   \n",
       "903103  0797740313994990797_1483518849            2        Firefox   \n",
       "\n",
       "       device.deviceCategory device.operatingSystem  \\\n",
       "548725                mobile                    iOS   \n",
       "697375               desktop                Windows   \n",
       "474524                tablet                    iOS   \n",
       "399762               desktop                  Linux   \n",
       "903103               desktop                Windows   \n",
       "\n",
       "                      geoNetwork.city geoNetwork.subContinent  totals.hits  \\\n",
       "548725  not available in demo dataset        Northern America           10   \n",
       "697375  not available in demo dataset        Northern America            1   \n",
       "474524  not available in demo dataset        Northern America            4   \n",
       "399762  not available in demo dataset         Northern Europe            1   \n",
       "903103  not available in demo dataset        Northern America           15   \n",
       "\n",
       "       totals.pageviews  totals.transactionRevenue trafficSource.adContent  \\\n",
       "548725               10                          0                       0   \n",
       "697375                1                          0                       0   \n",
       "474524                4                          0                       0   \n",
       "399762                1                          0                       0   \n",
       "903103               12                          0                       0   \n",
       "\n",
       "       trafficSource.keyword  \n",
       "548725        (not provided)  \n",
       "697375        (not provided)  \n",
       "474524        (not provided)  \n",
       "399762        (not provided)  \n",
       "903103                     0  "
      ]
     },
     "execution_count": 41,
     "metadata": {},
     "output_type": "execute_result"
    }
   ],
   "source": [
    "new_df1.head()"
   ]
  },
  {
   "cell_type": "code",
   "execution_count": 42,
   "metadata": {
    "_uuid": "878321fc7a57f66844c73b12ef2f73a7065c10e7"
   },
   "outputs": [],
   "source": [
    "def convert_category_todummies(df,field):\n",
    "    #print('Processing ', field)\n",
    "    dummy_df = pd.get_dummies(df[field])\n",
    "    df = pd.concat([df,dummy_df],axis=1)\n",
    "    df.drop(labels=[field],axis=1,inplace=True)\n",
    "    return df"
   ]
  },
  {
   "cell_type": "code",
   "execution_count": 43,
   "metadata": {
    "_uuid": "f3846fe16916afc5bcedef66a8421023346ced73"
   },
   "outputs": [],
   "source": [
    "def convert_category_tolevel(df,field):\n",
    "    df[field],index = pd.factorize(df[field])\n",
    "    return df"
   ]
  },
  {
   "cell_type": "code",
   "execution_count": 44,
   "metadata": {
    "_uuid": "3bd8bf7aedb80691a3371b44d7768406030115b2"
   },
   "outputs": [],
   "source": [
    "#test_df1=test_df1.drop(labels=['totals.transactionRevenue'],axis=1)"
   ]
  },
  {
   "cell_type": "code",
   "execution_count": 45,
   "metadata": {
    "_uuid": "2d7a3b7ab99d46e4615204d3f9615b6e61f62123"
   },
   "outputs": [
    {
     "name": "stderr",
     "output_type": "stream",
     "text": [
      "/home/tintash/anaconda3/lib/python3.7/site-packages/ipykernel_launcher.py:3: FutureWarning: Sorting because non-concatenation axis is not aligned. A future version\n",
      "of pandas will change to not sort by default.\n",
      "\n",
      "To accept the future behavior, pass 'sort=False'.\n",
      "\n",
      "To retain the current behavior and silence the warning, pass 'sort=True'.\n",
      "\n",
      "  This is separate from the ipykernel package so we can avoid doing imports until\n"
     ]
    },
    {
     "name": "stdout",
     "output_type": "stream",
     "text": [
      "Before:  (903653, 15)\n",
      "Unique values for  channelGrouping 8 ['Organic Search' 'Display' 'Social' 'Direct' 'Referral' 'Affiliates'\n",
      " 'Paid Search' '(Other)']\n",
      "One hot conversion\n",
      "Unique values for  device.browser 54 ['Safari' 'Chrome' 'Firefox' 'Opera' 'Edge' 'Internet Explorer'\n",
      " 'Opera Mini' 'Android Webview' 'UC Browser' 'YaBrowser' 'Safari (in-app)'\n",
      " 'Coc Coc' 'Iron' 'Amazon Silk' 'Puffin' 'Android Browser'\n",
      " 'Mozilla Compatible Agent' 'Nintendo Browser' 'MRCHROME' 'Maxthon'\n",
      " 'BlackBerry' '[Use default User-agent string] LIVRENPOCHE' 'Seznam'\n",
      " 'SeaMonkey' 'Nichrome' 'Nokia Browser' 'osee2unifiedRelease' '(not set)'\n",
      " 'Lunascape' 'M5' 'LYF_LS_4002_12' 'LYF_LS_4002_11' 'Konqueror' 'Mozilla'\n",
      " '0' 'Hisense M20-M_LTE' 'Apple-iPhone7C2' 'subjectAgent: NoticiasBoom'\n",
      " 'DASH_JR_3G' 'Reddit' 'DoCoMo' 'IE with Chrome Frame' 'ADM' 'no-ua'\n",
      " 'MQQBrowser' 'Android Runtime' 'ThumbSniper' 'Changa 99695759'\n",
      " 'CSM Click' 'YE' 'NokiaE52-1' 'HTC802t_TD' 'User Agent' 'TCL P500M']\n",
      "Level conversion\n",
      "Unique values for  device.deviceCategory 3 ['mobile' 'desktop' 'tablet']\n",
      "One hot conversion\n",
      "Unique values for  device.operatingSystem 20 ['iOS' 'Windows' 'Linux' 'Macintosh' 'Chrome OS' 'Android' 'Windows Phone'\n",
      " '(not set)' 'BlackBerry' 'Firefox OS' 'Nintendo Wii' 'Samsung'\n",
      " 'Nintendo WiiU' 'Xbox' 'FreeBSD' 'Nintendo 3DS' 'SunOS' 'NTT DoCoMo'\n",
      " 'OpenBSD' 'Nokia']\n",
      "One hot conversion\n",
      "Unique values for  geoNetwork.city 649 ['not available in demo dataset' 'Kirkland' 'Bangkok' 'Salem' 'Sunnyvale'\n",
      " '(not set)' 'Sydney' 'Tel Aviv-Yafo' 'Mountain View' 'San Bruno' 'Paris'\n",
      " 'Los Angeles' 'Hai Phong' 'Mexico City' 'Dublin' 'Chennai' 'Quezon City'\n",
      " 'Navi Mumbai' 'Jakarta' 'Cambridge' 'Seattle' 'Zhudong Township' 'Hanoi'\n",
      " 'Ankara' 'London' 'Melbourne' 'Mueang Songkhla District' 'Milan'\n",
      " 'Hong Kong' 'Chicago' 'Gothenburg' 'Mumbai' 'Buenos Aires' 'Bordeaux'\n",
      " 'New Delhi' 'Sao Paulo' 'Boardman' 'Amsterdam' 'Dallas' 'Warsaw'\n",
      " 'New York' 'San Francisco' 'La Victoria' 'Istanbul' 'Moscow' 'Bengaluru'\n",
      " 'Madrid' 'Santa Clara' 'Hyderabad' 'San Jose' 'Ahmedabad' 'Osaka'\n",
      " 'Cebu City' 'Ho Chi Minh City' 'Montevideo' 'Singapore' 'Noida' 'Colombo'\n",
      " 'Hamburg' 'Montreal' 'Boston' 'Berlin' 'Atlanta' 'Budapest' 'Pune'\n",
      " 'Austin' 'Cupertino' 'Palo Alto' 'Toronto' 'Riyadh' 'Athens' 'Ann Arbor'\n",
      " 'Vinh' 'San Diego' 'Vancouver' 'Evanston' 'Bucharest' 'Bien Hoa' 'Bogota'\n",
      " 'Seoul' 'Cologne' 'Pittsburgh' 'Denver' 'North Richland Hills' 'Nagano'\n",
      " 'Portland' 'Columbus' 'Minato' 'Chandigarh' 'Brisbane' 'Barcelona'\n",
      " 'Prague' 'Dubai' 'Kansas City' 'Ashburn' 'Zurich' 'Surabaya' 'Lisbon'\n",
      " 'Calgary' 'Manchester' 'Sofia' 'Lille' 'Nagoya' 'Ciudad Real' 'Izmir'\n",
      " 'Oviedo' 'Bhubaneswar' 'Kiev' 'Belgrade' 'Oakland' 'Milpitas' 'Miami'\n",
      " 'Burnaby' 'Adana' 'Washington' 'Fort Worth' 'Frankfurt' 'Fremont'\n",
      " 'Quebec City' 'Karachi' 'Irvine' 'Leeds' 'Cali' 'Charlotte' 'San Mateo'\n",
      " 'Jeddah' 'Phoenix' 'Hua Hin' 'Indore' 'Houston' 'Orlando' 'Redmond'\n",
      " 'Manila' 'Eau Claire' 'Campinas' 'Krakow' 'Santiago' 'Baku'\n",
      " 'Mueang Chiang Mai District' 'Camden' 'Naha' 'Kuala Lumpur' 'Tempe'\n",
      " 'Wellington' 'Kolkata' 'Pozuelo de Alarcon' 'San Antonio'\n",
      " 'Zhongli District' 'Redwood City' 'Monterrey' 'Tunis' 'Taguig' 'Skopje'\n",
      " 'Seville' 'Vienna' 'Thai Nguyen' 'Almaty' 'Courbevoie' 'Rotterdam'\n",
      " 'Nashville' 'Munich' 'Brussels' 'Lahore' 'Stockholm' 'Curitiba' 'Ningbo'\n",
      " 'Tbilisi' 'Memphis' 'Gurgaon' 'Molesey' 'Da Nang' 'Shinjuku' 'Las Vegas'\n",
      " 'Bandung' 'Kharagpur' 'Minneapolis' 'Chuo' 'Goose Creek' 'Birkenes'\n",
      " 'Goiania' 'Shanghai' 'Madison' 'Kiryat Ono' 'Ottawa' 'Marseille'\n",
      " 'Roskilde' 'Liverpool' 'Detroit' 'Makati' 'Rio de Janeiro' 'Cordoba'\n",
      " 'Kharkiv' 'Buon Ma Thuot' 'Lucknow' 'Philadelphia' 'Saint Petersburg'\n",
      " 'East Lansing' 'Kyiv' 'Zagreb' 'Casablanca' 'Laguna Beach'\n",
      " 'Nakhon Pathom' 'South San Francisco' 'Kampar' 'Edmonton' 'Thane'\n",
      " 'Jaipur' 'Groningen' 'Cagliari' 'Maracaibo' 'Bellingham' 'Patna'\n",
      " 'Jersey City' 'Oude Meer' 'Egham' 'Cardiff' 'Davao City' 'Rome' 'Trabzon'\n",
      " 'Aalborg' 'Lviv' 'Mueang Khon Kaen District' 'Erode' 'Alexandria'\n",
      " 'San Marcos' 'Rach Gia' 'Glasgow' 'Ramat Gan' 'Oslo' 'Antwerp' 'Lehi'\n",
      " 'Bellevue' 'My Tho' 'Chevilly Larue' 'Barrie' 'Ludhiana' 'Boulder'\n",
      " 'Bothell' 'Lagos' 'Cork' 'Bilbao' 'Wroclaw' 'Whitewater' 'Menlo Park'\n",
      " 'Cincinnati' 'Overland Park' 'Lake Oswego' 'Poznan' 'Vilnius' 'Katowice'\n",
      " 'Kumamoto' 'South El Monte' 'Herzliya' 'Perth' 'Oneonta' 'Leon' 'Dalat'\n",
      " 'Saint Paul' 'Dacun Township' 'Amherst' 'Kitchener' 'Auckland' 'Bursa'\n",
      " 'Stanford' 'Naples' 'Copenhagen' 'Mersin' 'Rexburg' 'Gijon' 'Rosario'\n",
      " 'Kochi' 'Brno' 'El Paso' 'Aydin' 'Nairobi' 'Doha' 'Koszalin' 'Honolulu'\n",
      " 'Ipoh' 'Rockwood' 'Abu Dhabi' 'Cluj-Napoca' 'Miyazaki' 'Petaling Jaya'\n",
      " 'Dusseldorf' 'Parma' 'Adelaide' 'Minxiong Township' 'Belo Horizonte'\n",
      " 'Vladimir' 'Yokohama' 'Coffeyville' 'Canterbury' 'Paradise' 'Oxford'\n",
      " 'Chamblee' 'Sibiu' 'Nha Trang' 'Wheaton' 'Fresno' 'Samsun' 'Hai Duong'\n",
      " 'Dahlonega' 'Stuttgart' 'Caracas' 'Konya' 'LaFayette' 'Indianapolis'\n",
      " 'Oshkosh' 'Piscataway Township' 'Hoi An' \"Villeneuve-d'Ascq\" 'Vung Tau'\n",
      " 'Odessa' 'Antalya' 'Utrecht' 'Malaga' 'Mechelen' 'Cairo' 'Leuven' 'Minsk'\n",
      " 'Wellesley' 'Tirana' 'Hermosillo' 'Valencia' 'Longtan District'\n",
      " 'Brasilia' 'Collegeville' 'Kortrijk' 'Can Tho' 'Chico' 'Santa Monica'\n",
      " 'Nantes' 'Hue' 'Villafranca del Castillo' 'Salford' 'Santiago de Surco'\n",
      " 'University Park' 'Rzeszow' 'Leusden' 'Lyon' 'Subang Jaya' 'Kalamazoo'\n",
      " 'Montreuil' 'Guatemala City' 'Shah Alam' 'Tampere' 'Bournemouth'\n",
      " 'Westlake Village' 'Bratislava' 'Amberg' 'Lenoir' 'Raleigh' 'Sapporo'\n",
      " 'Odense' 'Turin' 'Richardson' 'Shibuya' 'Tampa'\n",
      " 'Mueang Phitsanulok District' 'Zaragoza' 'Bruges' 'Lincoln' 'Waterloo'\n",
      " 'Schagen' 'Santa Fe' 'Danville' 'Viby' 'Tijuana' 'Zapopan' 'Cancun'\n",
      " 'Decin' 'Salvador' 'Qui Nhon' 'Farmington Hills' 'Nam Djinh' 'Manaus'\n",
      " 'Culpeper' 'Arequipa' 'Mississauga' 'Vladivostok' 'Nottingham'\n",
      " 'Eindhoven' 'Valparaiso' 'Mueang Nakhon Ratchasima District' 'Akron'\n",
      " 'Smyrna' 'Louisville' 'Omaha' 'Chiyoda' 'Sakai' 'Hayward' 'Medellin'\n",
      " 'Amã' 'Quimper' 'Pinamar' 'Porto Alegre' 'Eskisehir' 'Oradea'\n",
      " 'Saint Polten' 'Tallinn' 'Cape Town' 'Pessac' 'Aberdeen' 'Plano'\n",
      " 'Berkeley' 'Vincennes' 'Charlottesville' 'Greer' 'Ridgewood' 'Riga'\n",
      " 'Columbia' 'Atibaia' 'Weingarten' 'Fareham' 'Fortaleza' \"St. John's\"\n",
      " 'Avon' 'Chambery' 'Nice' 'Council Bluffs' 'Toledo' 'Neipu Township'\n",
      " 'Newtonville' 'Mankato' 'Mar del Plata' 'Surat' 'Makassar'\n",
      " 'Sandy Springs' 'Thai Binh' 'Timisoara' 'Beijing' 'Sacramento' 'McAllen'\n",
      " 'Jacksonville' 'Johor Bahru' 'Pleasanton' 'Quito' 'Sharjah' 'Vadodara'\n",
      " 'Wheeling' 'Szczecin' 'Sabadell' 'Druid Hills' 'Alicante' 'Zamudio'\n",
      " 'Kayseri' 'Wollongong' 'Spaichingen' 'Kosice' 'Bologna' 'Nea Erythraia'\n",
      " 'Parsippany-Troy Hills' 'Iasi' 'Bellflower' 'Lewisville' 'Lausanne'\n",
      " 'Allendale Charter Township' 'Bremen' 'Thessaloniki' 'Elche' 'Netanya'\n",
      " 'Dnipro' 'Granada' 'Thanh Hoa' 'Carrollton' 'Piura' 'Vejle' 'Culiacan'\n",
      " 'Anaheim' 'Tallahassee' 'Marlboro' 'Ostrava' 'Ghent' 'Geneva'\n",
      " 'Birmingham' 'Syracuse' 'Prato' 'Vannes' 'Okemos' 'Salt Lake City'\n",
      " 'Pasig' 'Bath' 'Semarang' 'Hukou Township' 'Brest' 'Coimbatore' 'Olomouc'\n",
      " 'Salzburg' 'Medina' 'Woodbridge Township' 'Redondo Beach' 'Ballinger'\n",
      " 'Issy-les-Moulineaux' 'Guangzhou' 'The Hague' 'Quang Ngai' 'Breda'\n",
      " 'Luxembourg City' 'Fukui' 'Pueblo' 'Hamden' 'Hallein' 'Depok'\n",
      " 'College Park' 'Thornton' 'Phnom Penh' 'Almeria' 'Chino' 'Campbell'\n",
      " 'Muntinlupa' 'Montigny-le-Bretonneux' 'Dundalk' 'Nuremberg' 'Zaventem'\n",
      " 'Alba Iulia' 'Forest Park' 'Padua' 'Santa Ana' 'Medan' 'Beirut' 'Osijek'\n",
      " 'Erzurum' 'Dhaka' 'Sandton' \"Saint-Ouen-l'Aumone\" 'Baltimore'\n",
      " 'Greystones' 'Asuncion' 'Lawrence Township' 'Randburg' 'Fort Collins'\n",
      " 'Guadalajara' 'Taoyuan District' 'Leiria' 'Appleton' 'Frederiksberg'\n",
      " 'Pescara' 'Zaoqiao Township' 'Wrexham' 'Vila Velha' 'Belagavi'\n",
      " 'La Chorrera' 'Cabimas' 'Bekasi' 'Lexington' 'Charlottetown' 'Gaziantep'\n",
      " 'Furth' 'Sheffield' 'Zwolle' 'North Attleborough' 'San Carlos' 'Edison'\n",
      " 'St. Louis' 'Gatineau' 'Watford' 'Helsinki' 'Brampton' 'Arnhem' 'Pleiku'\n",
      " 'Esbjerg' 'Altrincham' 'Miami Beach' 'Toufen City' 'Deva' 'The Dalles'\n",
      " 'Islamabad' 'Seclin' 'New Orleans' 'San Salvador' 'Targu Mures'\n",
      " 'Phan Thiet' 'Walnut Creek' 'Norfolk' 'Tucson' 'Chisinau' 'Sherbrooke'\n",
      " 'Johnson City' 'Metz' 'Kuwait City' 'Oegstgeest' 'Burlington' 'Saratoga'\n",
      " 'Barnsley' 'Barranquilla' 'Panama City' 'Normandy' 'Rishon LeTsiyon'\n",
      " 'Amersfoort' 'Daegu' 'Coventry' 'Faisalabad' 'Hradec Kralove'\n",
      " \"'s Hertogenbosch\" 'Los Gatos' 'Clermont-Ferrand' 'Riverside' 'Atwater'\n",
      " 'Newark' 'Byron' 'Ribeirao Preto' 'Aalen' 'Nanded' 'Westville'\n",
      " 'Santiago de Queretaro' 'Recife' 'Shiocton' 'Sant Cugat del Valles'\n",
      " 'Faro' 'Telford' 'Cao Lanh' 'Springfield' 'Ljubljana' 'Tigard' 'Petergof'\n",
      " 'Cyberjaya' 'New Westminster' 'Pontivy' 'Brookline' 'Pryor' 'Seongnam-si'\n",
      " 'Ulaanbaatar' 'Sandy' 'Winnipeg' 'Greve Strand' 'Kovrov' 'Talence'\n",
      " 'Hangzhou' 'Orem' 'Cuiaba' 'Guwahati' 'Milwaukee' 'Union City' 'Bristol'\n",
      " 'Reims' 'Evans' 'Towson' 'Bozeman' 'Villanova' 'Boise' 'Daly City'\n",
      " 'Deep River' 'Florianopolis' 'Douglasville' 'Ha Tinh' 'Annecy-le-Vieux'\n",
      " 'Alba' 'White Plains']\n",
      "Level conversion\n"
     ]
    },
    {
     "name": "stdout",
     "output_type": "stream",
     "text": [
      "Unique values for  geoNetwork.subContinent 23 ['Northern America' 'Northern Europe' 'Southeast Asia' 'Western Europe'\n",
      " 'South America' 'Australasia' 'Western Asia' 'Southern Europe'\n",
      " 'Eastern Europe' 'Central America' 'Southern Asia' 'Eastern Asia'\n",
      " 'Eastern Africa' 'Central Asia' 'Western Africa' 'Caribbean' '(not set)'\n",
      " 'Northern Africa' 'Southern Africa' 'Melanesia' 'Middle Africa'\n",
      " 'Polynesia' 'Micronesian Region']\n",
      "One hot conversion\n",
      "Unique values for  sessionId 902755 ['3702632045024960671_1495561117' '0219064891723945627_1500476689'\n",
      " '2389192114156853073_1487781578' ... '7231728964973959842_1483543798'\n",
      " '2709355455991750775_1483592857' '0814900163617805053_1483574474']\n",
      "Level conversion\n",
      "Unique values for  trafficSource.adContent 45 ['0' 'Google Merchandise Collection' 'Ad from 12/13/16'\n",
      " 'Display Ad created 3/11/15' \"{KeyWord:Google Men's T-Shirts}\"\n",
      " 'Swag with Google Logos' 'Display Ad created 3/11/14' 'Ad from 11/3/16'\n",
      " '{KeyWord:Google Brand Items}' '{KeyWord:Google Merchandise}'\n",
      " 'First Full Auto Template Test Ad' 'Ad from 11/7/16'\n",
      " 'Display Ad created 11/17/14' 'Google Online Store'\n",
      " 'Full auto ad IMAGE ONLY' 'LeEco_1a' '{KeyWord:Looking for Google Bags?}'\n",
      " '{KeyWord:Google Branded Gear}' '{KeyWord:Want Google Stickers?}'\n",
      " 'Want Google Sunglasses' '20% discount' 'Google Merchandise'\n",
      " 'Full auto ad NATIVE ONLY' '{KeyWord:Google Drinkware}'\n",
      " 'Full auto ad TEXT ONLY' '{KeyWord:Google Branded Kit}' 'JD_5a_v1'\n",
      " 'Google Paraphernalia' 'Full auto ad TEXT/NATIVE'\n",
      " '{KeyWord:Google Branded Outerwear}' 'Google store' 'Ad from 2/17/17'\n",
      " '{KeyWord:Google Branded Apparel}' 'Google Store' 'url_builder'\n",
      " 'Free Shipping!' 'GA Help Center'\n",
      " 'Official Google Merchandise - Fast Shipping'\n",
      " \"Men's-Outerwear Google Apparel\" 'free shipping'\n",
      " 'Full auto ad with Primary Color' 'google store'\n",
      " '{KeyWord:Want Google Pet Toys?}' 'visit us again' 'Swag w/ Google Logos']\n",
      "Level conversion\n",
      "Unique values for  trafficSource.campaign 10 [nan '(not set)' 'Data Share Promo' 'AW - Dynamic Search Ads Whole Site'\n",
      " 'AW - Electronics' 'test-liyuhz' 'AW - Accessories' 'AW - Apparel'\n",
      " 'Retail (DO NOT EDIT owners nophakun and tianyu)' 'All Products']\n",
      "One hot conversion\n",
      "After:  (903653, 73)\n"
     ]
    }
   ],
   "source": [
    "#Data cleaning\n",
    "train_size = new_df1.shape[0]\n",
    "merged_df = pd.concat([new_df1,test_df1])\n",
    "merged_df['totals.pageviews']=merged_df['totals.pageviews'].astype('int')\n",
    "merged_df['totals.hits']=merged_df['totals.hits'].astype('int')\n",
    "merged_df = merged_df.drop(labels=['trafficSource.keyword'],axis=1)\n",
    "print('Before: ', merged_df.shape)\n",
    "columns = merged_df.columns\n",
    "for fields in columns:\n",
    "    if merged_df[fields].dtype == 'object' and fields not in ['fullVisitorId','method']:\n",
    "        print('Unique values for ', fields, len(merged_df[fields].unique()), merged_df[fields].unique())\n",
    "        if len(merged_df[fields].unique()) > 40:\n",
    "            print('Level conversion')\n",
    "            merged_df[fields] = convert_category_tolevel(merged_df,fields)\n",
    "            merged_df[fields] = merged_df[fields].astype('int')\n",
    "        else:\n",
    "            print('One hot conversion')\n",
    "            merged_df = convert_category_todummies(merged_df,fields)\n",
    "            #merged_df = merged_df.drop(labels=[fields],axis=1)\n",
    "print('After: ', merged_df.shape)"
   ]
  },
  {
   "cell_type": "code",
   "execution_count": 46,
   "metadata": {},
   "outputs": [
    {
     "data": {
      "text/plain": [
       "array(['Unnamed: 0', 'device.browser', 'fullVisitorId', 'geoNetwork.city',\n",
       "       'sessionId', 'totals.hits', 'totals.pageviews',\n",
       "       'totals.transactionRevenue', 'trafficSource.adContent',\n",
       "       'visitNumber', '(Other)', 'Affiliates', 'Direct', 'Display',\n",
       "       'Organic Search', 'Paid Search', 'Referral', 'Social', 'desktop',\n",
       "       'mobile', 'tablet', '(not set)', 'Android', 'BlackBerry',\n",
       "       'Chrome OS', 'Firefox OS', 'FreeBSD', 'Linux', 'Macintosh',\n",
       "       'NTT DoCoMo', 'Nintendo 3DS', 'Nintendo Wii', 'Nintendo WiiU',\n",
       "       'Nokia', 'OpenBSD', 'Samsung', 'SunOS', 'Windows', 'Windows Phone',\n",
       "       'Xbox', 'iOS', '(not set)', 'Australasia', 'Caribbean',\n",
       "       'Central America', 'Central Asia', 'Eastern Africa',\n",
       "       'Eastern Asia', 'Eastern Europe', 'Melanesia',\n",
       "       'Micronesian Region', 'Middle Africa', 'Northern Africa',\n",
       "       'Northern America', 'Northern Europe', 'Polynesia',\n",
       "       'South America', 'Southeast Asia', 'Southern Africa',\n",
       "       'Southern Asia', 'Southern Europe', 'Western Africa',\n",
       "       'Western Asia', 'Western Europe', '(not set)', 'AW - Accessories',\n",
       "       'AW - Apparel', 'AW - Dynamic Search Ads Whole Site',\n",
       "       'AW - Electronics', 'All Products', 'Data Share Promo',\n",
       "       'Retail (DO NOT EDIT owners nophakun and tianyu)', 'test-liyuhz'],\n",
       "      dtype=object)"
      ]
     },
     "execution_count": 46,
     "metadata": {},
     "output_type": "execute_result"
    }
   ],
   "source": [
    "merged_df.columns.values"
   ]
  },
  {
   "cell_type": "code",
   "execution_count": 47,
   "metadata": {},
   "outputs": [
    {
     "data": {
      "text/html": [
       "<div>\n",
       "<style scoped>\n",
       "    .dataframe tbody tr th:only-of-type {\n",
       "        vertical-align: middle;\n",
       "    }\n",
       "\n",
       "    .dataframe tbody tr th {\n",
       "        vertical-align: top;\n",
       "    }\n",
       "\n",
       "    .dataframe thead th {\n",
       "        text-align: right;\n",
       "    }\n",
       "</style>\n",
       "<table border=\"1\" class=\"dataframe\">\n",
       "  <thead>\n",
       "    <tr style=\"text-align: right;\">\n",
       "      <th></th>\n",
       "      <th>Unnamed: 0</th>\n",
       "      <th>device.browser</th>\n",
       "      <th>fullVisitorId</th>\n",
       "      <th>geoNetwork.city</th>\n",
       "      <th>sessionId</th>\n",
       "      <th>totals.hits</th>\n",
       "      <th>totals.pageviews</th>\n",
       "      <th>totals.transactionRevenue</th>\n",
       "      <th>trafficSource.adContent</th>\n",
       "      <th>visitNumber</th>\n",
       "      <th>(Other)</th>\n",
       "      <th>Affiliates</th>\n",
       "      <th>Direct</th>\n",
       "      <th>Display</th>\n",
       "      <th>Organic Search</th>\n",
       "      <th>...</th>\n",
       "      <th>Southern Africa</th>\n",
       "      <th>Southern Asia</th>\n",
       "      <th>Southern Europe</th>\n",
       "      <th>Western Africa</th>\n",
       "      <th>Western Asia</th>\n",
       "      <th>Western Europe</th>\n",
       "      <th>(not set)</th>\n",
       "      <th>AW - Accessories</th>\n",
       "      <th>AW - Apparel</th>\n",
       "      <th>AW - Dynamic Search Ads Whole Site</th>\n",
       "      <th>AW - Electronics</th>\n",
       "      <th>All Products</th>\n",
       "      <th>Data Share Promo</th>\n",
       "      <th>Retail (DO NOT EDIT owners nophakun and tianyu)</th>\n",
       "      <th>test-liyuhz</th>\n",
       "    </tr>\n",
       "  </thead>\n",
       "  <tbody>\n",
       "    <tr>\n",
       "      <th>548725</th>\n",
       "      <td>548725</td>\n",
       "      <td>548725</td>\n",
       "      <td>3702632045024960671</td>\n",
       "      <td>548725</td>\n",
       "      <td>548725</td>\n",
       "      <td>10</td>\n",
       "      <td>10</td>\n",
       "      <td>0</td>\n",
       "      <td>548725</td>\n",
       "      <td>1</td>\n",
       "      <td>0</td>\n",
       "      <td>0</td>\n",
       "      <td>0</td>\n",
       "      <td>0</td>\n",
       "      <td>1</td>\n",
       "      <td>...</td>\n",
       "      <td>0</td>\n",
       "      <td>0</td>\n",
       "      <td>0</td>\n",
       "      <td>0</td>\n",
       "      <td>0</td>\n",
       "      <td>0</td>\n",
       "      <td>0</td>\n",
       "      <td>0</td>\n",
       "      <td>0</td>\n",
       "      <td>0</td>\n",
       "      <td>0</td>\n",
       "      <td>0</td>\n",
       "      <td>0</td>\n",
       "      <td>0</td>\n",
       "      <td>0</td>\n",
       "    </tr>\n",
       "    <tr>\n",
       "      <th>697375</th>\n",
       "      <td>697375</td>\n",
       "      <td>697375</td>\n",
       "      <td>219064891723945627</td>\n",
       "      <td>697375</td>\n",
       "      <td>697375</td>\n",
       "      <td>1</td>\n",
       "      <td>1</td>\n",
       "      <td>0</td>\n",
       "      <td>697375</td>\n",
       "      <td>2</td>\n",
       "      <td>0</td>\n",
       "      <td>0</td>\n",
       "      <td>0</td>\n",
       "      <td>0</td>\n",
       "      <td>1</td>\n",
       "      <td>...</td>\n",
       "      <td>0</td>\n",
       "      <td>0</td>\n",
       "      <td>0</td>\n",
       "      <td>0</td>\n",
       "      <td>0</td>\n",
       "      <td>0</td>\n",
       "      <td>0</td>\n",
       "      <td>0</td>\n",
       "      <td>0</td>\n",
       "      <td>0</td>\n",
       "      <td>0</td>\n",
       "      <td>0</td>\n",
       "      <td>0</td>\n",
       "      <td>0</td>\n",
       "      <td>0</td>\n",
       "    </tr>\n",
       "    <tr>\n",
       "      <th>474524</th>\n",
       "      <td>474524</td>\n",
       "      <td>474524</td>\n",
       "      <td>2389192114156853073</td>\n",
       "      <td>474524</td>\n",
       "      <td>474524</td>\n",
       "      <td>4</td>\n",
       "      <td>4</td>\n",
       "      <td>0</td>\n",
       "      <td>474524</td>\n",
       "      <td>1</td>\n",
       "      <td>0</td>\n",
       "      <td>0</td>\n",
       "      <td>0</td>\n",
       "      <td>0</td>\n",
       "      <td>1</td>\n",
       "      <td>...</td>\n",
       "      <td>0</td>\n",
       "      <td>0</td>\n",
       "      <td>0</td>\n",
       "      <td>0</td>\n",
       "      <td>0</td>\n",
       "      <td>0</td>\n",
       "      <td>0</td>\n",
       "      <td>0</td>\n",
       "      <td>0</td>\n",
       "      <td>0</td>\n",
       "      <td>0</td>\n",
       "      <td>0</td>\n",
       "      <td>0</td>\n",
       "      <td>0</td>\n",
       "      <td>0</td>\n",
       "    </tr>\n",
       "    <tr>\n",
       "      <th>399762</th>\n",
       "      <td>399762</td>\n",
       "      <td>399762</td>\n",
       "      <td>1397628877965755203</td>\n",
       "      <td>399762</td>\n",
       "      <td>399762</td>\n",
       "      <td>1</td>\n",
       "      <td>1</td>\n",
       "      <td>0</td>\n",
       "      <td>399762</td>\n",
       "      <td>1</td>\n",
       "      <td>0</td>\n",
       "      <td>0</td>\n",
       "      <td>0</td>\n",
       "      <td>0</td>\n",
       "      <td>1</td>\n",
       "      <td>...</td>\n",
       "      <td>0</td>\n",
       "      <td>0</td>\n",
       "      <td>0</td>\n",
       "      <td>0</td>\n",
       "      <td>0</td>\n",
       "      <td>0</td>\n",
       "      <td>0</td>\n",
       "      <td>0</td>\n",
       "      <td>0</td>\n",
       "      <td>0</td>\n",
       "      <td>0</td>\n",
       "      <td>0</td>\n",
       "      <td>0</td>\n",
       "      <td>0</td>\n",
       "      <td>0</td>\n",
       "    </tr>\n",
       "    <tr>\n",
       "      <th>903103</th>\n",
       "      <td>903103</td>\n",
       "      <td>903103</td>\n",
       "      <td>797740313994990797</td>\n",
       "      <td>903103</td>\n",
       "      <td>903103</td>\n",
       "      <td>15</td>\n",
       "      <td>12</td>\n",
       "      <td>0</td>\n",
       "      <td>903103</td>\n",
       "      <td>2</td>\n",
       "      <td>0</td>\n",
       "      <td>0</td>\n",
       "      <td>0</td>\n",
       "      <td>1</td>\n",
       "      <td>0</td>\n",
       "      <td>...</td>\n",
       "      <td>0</td>\n",
       "      <td>0</td>\n",
       "      <td>0</td>\n",
       "      <td>0</td>\n",
       "      <td>0</td>\n",
       "      <td>0</td>\n",
       "      <td>0</td>\n",
       "      <td>0</td>\n",
       "      <td>0</td>\n",
       "      <td>0</td>\n",
       "      <td>0</td>\n",
       "      <td>0</td>\n",
       "      <td>0</td>\n",
       "      <td>0</td>\n",
       "      <td>0</td>\n",
       "    </tr>\n",
       "    <tr>\n",
       "      <th>662461</th>\n",
       "      <td>662461</td>\n",
       "      <td>662461</td>\n",
       "      <td>9201418808384589853</td>\n",
       "      <td>662461</td>\n",
       "      <td>662461</td>\n",
       "      <td>2</td>\n",
       "      <td>2</td>\n",
       "      <td>0</td>\n",
       "      <td>662461</td>\n",
       "      <td>3</td>\n",
       "      <td>0</td>\n",
       "      <td>0</td>\n",
       "      <td>0</td>\n",
       "      <td>0</td>\n",
       "      <td>1</td>\n",
       "      <td>...</td>\n",
       "      <td>0</td>\n",
       "      <td>0</td>\n",
       "      <td>0</td>\n",
       "      <td>0</td>\n",
       "      <td>0</td>\n",
       "      <td>0</td>\n",
       "      <td>0</td>\n",
       "      <td>0</td>\n",
       "      <td>0</td>\n",
       "      <td>0</td>\n",
       "      <td>0</td>\n",
       "      <td>0</td>\n",
       "      <td>0</td>\n",
       "      <td>0</td>\n",
       "      <td>0</td>\n",
       "    </tr>\n",
       "    <tr>\n",
       "      <th>343682</th>\n",
       "      <td>343682</td>\n",
       "      <td>343682</td>\n",
       "      <td>7563031275893808691</td>\n",
       "      <td>343682</td>\n",
       "      <td>343682</td>\n",
       "      <td>1</td>\n",
       "      <td>1</td>\n",
       "      <td>0</td>\n",
       "      <td>343682</td>\n",
       "      <td>1</td>\n",
       "      <td>0</td>\n",
       "      <td>0</td>\n",
       "      <td>0</td>\n",
       "      <td>0</td>\n",
       "      <td>0</td>\n",
       "      <td>...</td>\n",
       "      <td>0</td>\n",
       "      <td>0</td>\n",
       "      <td>0</td>\n",
       "      <td>0</td>\n",
       "      <td>0</td>\n",
       "      <td>0</td>\n",
       "      <td>0</td>\n",
       "      <td>0</td>\n",
       "      <td>0</td>\n",
       "      <td>0</td>\n",
       "      <td>0</td>\n",
       "      <td>0</td>\n",
       "      <td>0</td>\n",
       "      <td>0</td>\n",
       "      <td>0</td>\n",
       "    </tr>\n",
       "    <tr>\n",
       "      <th>43764</th>\n",
       "      <td>43764</td>\n",
       "      <td>43764</td>\n",
       "      <td>9625320870939842050</td>\n",
       "      <td>43764</td>\n",
       "      <td>43764</td>\n",
       "      <td>11</td>\n",
       "      <td>9</td>\n",
       "      <td>0</td>\n",
       "      <td>43764</td>\n",
       "      <td>1</td>\n",
       "      <td>0</td>\n",
       "      <td>0</td>\n",
       "      <td>0</td>\n",
       "      <td>0</td>\n",
       "      <td>1</td>\n",
       "      <td>...</td>\n",
       "      <td>0</td>\n",
       "      <td>0</td>\n",
       "      <td>0</td>\n",
       "      <td>0</td>\n",
       "      <td>0</td>\n",
       "      <td>0</td>\n",
       "      <td>0</td>\n",
       "      <td>0</td>\n",
       "      <td>0</td>\n",
       "      <td>0</td>\n",
       "      <td>0</td>\n",
       "      <td>0</td>\n",
       "      <td>0</td>\n",
       "      <td>0</td>\n",
       "      <td>0</td>\n",
       "    </tr>\n",
       "    <tr>\n",
       "      <th>388300</th>\n",
       "      <td>388300</td>\n",
       "      <td>388300</td>\n",
       "      <td>2480530187738496258</td>\n",
       "      <td>388300</td>\n",
       "      <td>388300</td>\n",
       "      <td>1</td>\n",
       "      <td>1</td>\n",
       "      <td>0</td>\n",
       "      <td>388300</td>\n",
       "      <td>1</td>\n",
       "      <td>0</td>\n",
       "      <td>0</td>\n",
       "      <td>1</td>\n",
       "      <td>0</td>\n",
       "      <td>0</td>\n",
       "      <td>...</td>\n",
       "      <td>0</td>\n",
       "      <td>0</td>\n",
       "      <td>0</td>\n",
       "      <td>0</td>\n",
       "      <td>0</td>\n",
       "      <td>0</td>\n",
       "      <td>0</td>\n",
       "      <td>0</td>\n",
       "      <td>0</td>\n",
       "      <td>0</td>\n",
       "      <td>0</td>\n",
       "      <td>0</td>\n",
       "      <td>0</td>\n",
       "      <td>0</td>\n",
       "      <td>0</td>\n",
       "    </tr>\n",
       "    <tr>\n",
       "      <th>51345</th>\n",
       "      <td>51345</td>\n",
       "      <td>51345</td>\n",
       "      <td>0736856073334494466</td>\n",
       "      <td>51345</td>\n",
       "      <td>51345</td>\n",
       "      <td>16</td>\n",
       "      <td>12</td>\n",
       "      <td>0</td>\n",
       "      <td>51345</td>\n",
       "      <td>1</td>\n",
       "      <td>0</td>\n",
       "      <td>0</td>\n",
       "      <td>0</td>\n",
       "      <td>0</td>\n",
       "      <td>1</td>\n",
       "      <td>...</td>\n",
       "      <td>0</td>\n",
       "      <td>0</td>\n",
       "      <td>0</td>\n",
       "      <td>0</td>\n",
       "      <td>0</td>\n",
       "      <td>1</td>\n",
       "      <td>0</td>\n",
       "      <td>0</td>\n",
       "      <td>0</td>\n",
       "      <td>0</td>\n",
       "      <td>0</td>\n",
       "      <td>0</td>\n",
       "      <td>0</td>\n",
       "      <td>0</td>\n",
       "      <td>0</td>\n",
       "    </tr>\n",
       "  </tbody>\n",
       "</table>\n",
       "<p>10 rows × 73 columns</p>\n",
       "</div>"
      ],
      "text/plain": [
       "        Unnamed: 0  device.browser        fullVisitorId  geoNetwork.city  \\\n",
       "548725      548725          548725  3702632045024960671           548725   \n",
       "697375      697375          697375   219064891723945627           697375   \n",
       "474524      474524          474524  2389192114156853073           474524   \n",
       "399762      399762          399762  1397628877965755203           399762   \n",
       "903103      903103          903103   797740313994990797           903103   \n",
       "662461      662461          662461  9201418808384589853           662461   \n",
       "343682      343682          343682  7563031275893808691           343682   \n",
       "43764        43764           43764  9625320870939842050            43764   \n",
       "388300      388300          388300  2480530187738496258           388300   \n",
       "51345        51345           51345  0736856073334494466            51345   \n",
       "\n",
       "        sessionId  totals.hits  totals.pageviews  totals.transactionRevenue  \\\n",
       "548725     548725           10                10                          0   \n",
       "697375     697375            1                 1                          0   \n",
       "474524     474524            4                 4                          0   \n",
       "399762     399762            1                 1                          0   \n",
       "903103     903103           15                12                          0   \n",
       "662461     662461            2                 2                          0   \n",
       "343682     343682            1                 1                          0   \n",
       "43764       43764           11                 9                          0   \n",
       "388300     388300            1                 1                          0   \n",
       "51345       51345           16                12                          0   \n",
       "\n",
       "        trafficSource.adContent  visitNumber  (Other)  Affiliates  Direct  \\\n",
       "548725                   548725            1        0           0       0   \n",
       "697375                   697375            2        0           0       0   \n",
       "474524                   474524            1        0           0       0   \n",
       "399762                   399762            1        0           0       0   \n",
       "903103                   903103            2        0           0       0   \n",
       "662461                   662461            3        0           0       0   \n",
       "343682                   343682            1        0           0       0   \n",
       "43764                     43764            1        0           0       0   \n",
       "388300                   388300            1        0           0       1   \n",
       "51345                     51345            1        0           0       0   \n",
       "\n",
       "        Display  Organic Search     ...       Southern Africa  Southern Asia  \\\n",
       "548725        0               1     ...                     0              0   \n",
       "697375        0               1     ...                     0              0   \n",
       "474524        0               1     ...                     0              0   \n",
       "399762        0               1     ...                     0              0   \n",
       "903103        1               0     ...                     0              0   \n",
       "662461        0               1     ...                     0              0   \n",
       "343682        0               0     ...                     0              0   \n",
       "43764         0               1     ...                     0              0   \n",
       "388300        0               0     ...                     0              0   \n",
       "51345         0               1     ...                     0              0   \n",
       "\n",
       "        Southern Europe  Western Africa  Western Asia  Western Europe  \\\n",
       "548725                0               0             0               0   \n",
       "697375                0               0             0               0   \n",
       "474524                0               0             0               0   \n",
       "399762                0               0             0               0   \n",
       "903103                0               0             0               0   \n",
       "662461                0               0             0               0   \n",
       "343682                0               0             0               0   \n",
       "43764                 0               0             0               0   \n",
       "388300                0               0             0               0   \n",
       "51345                 0               0             0               1   \n",
       "\n",
       "        (not set)  AW - Accessories  AW - Apparel  \\\n",
       "548725          0                 0             0   \n",
       "697375          0                 0             0   \n",
       "474524          0                 0             0   \n",
       "399762          0                 0             0   \n",
       "903103          0                 0             0   \n",
       "662461          0                 0             0   \n",
       "343682          0                 0             0   \n",
       "43764           0                 0             0   \n",
       "388300          0                 0             0   \n",
       "51345           0                 0             0   \n",
       "\n",
       "        AW - Dynamic Search Ads Whole Site  AW - Electronics  All Products  \\\n",
       "548725                                   0                 0             0   \n",
       "697375                                   0                 0             0   \n",
       "474524                                   0                 0             0   \n",
       "399762                                   0                 0             0   \n",
       "903103                                   0                 0             0   \n",
       "662461                                   0                 0             0   \n",
       "343682                                   0                 0             0   \n",
       "43764                                    0                 0             0   \n",
       "388300                                   0                 0             0   \n",
       "51345                                    0                 0             0   \n",
       "\n",
       "        Data Share Promo  Retail (DO NOT EDIT owners nophakun and tianyu)  \\\n",
       "548725                 0                                                0   \n",
       "697375                 0                                                0   \n",
       "474524                 0                                                0   \n",
       "399762                 0                                                0   \n",
       "903103                 0                                                0   \n",
       "662461                 0                                                0   \n",
       "343682                 0                                                0   \n",
       "43764                  0                                                0   \n",
       "388300                 0                                                0   \n",
       "51345                  0                                                0   \n",
       "\n",
       "        test-liyuhz  \n",
       "548725            0  \n",
       "697375            0  \n",
       "474524            0  \n",
       "399762            0  \n",
       "903103            0  \n",
       "662461            0  \n",
       "343682            0  \n",
       "43764             0  \n",
       "388300            0  \n",
       "51345             0  \n",
       "\n",
       "[10 rows x 73 columns]"
      ]
     },
     "execution_count": 47,
     "metadata": {},
     "output_type": "execute_result"
    }
   ],
   "source": [
    "merged_df.head(10)"
   ]
  },
  {
   "cell_type": "code",
   "execution_count": 48,
   "metadata": {
    "_uuid": "902d22317a90ebdb2fed91447d98f017e273196c"
   },
   "outputs": [
    {
     "name": "stdout",
     "output_type": "stream",
     "text": [
      "(722922, 73) (180731, 72)\n"
     ]
    }
   ],
   "source": [
    "from sklearn.preprocessing import MinMaxScaler\n",
    "\n",
    "scaler1 = MinMaxScaler()\n",
    "\n",
    "#merged_df1 = merged_df.groupby(by=['fullVisitorId']).mean()\n",
    "merged_df['totals.transactionRevenue'] = np.log1p(merged_df['totals.transactionRevenue'])\n",
    "\n",
    "\n",
    "new_df1 = merged_df.iloc[:train_size]\n",
    "test_df1 = merged_df[train_size:]\n",
    "#new_df1 = new_df1.drop(labels=['method'],axis=1)\n",
    "test_df1 = test_df1.drop(labels=['totals.transactionRevenue'],axis=1)\n",
    "print(new_df1.shape, test_df1.shape)"
   ]
  },
  {
   "cell_type": "code",
   "execution_count": 49,
   "metadata": {
    "_uuid": "c48b5ea0145add9548e0d13686d4c75809e67064"
   },
   "outputs": [
    {
     "data": {
      "text/plain": [
       "70"
      ]
     },
     "execution_count": 49,
     "metadata": {},
     "output_type": "execute_result"
    }
   ],
   "source": [
    "import gc\n",
    "del train_df, new_df, test_df,merged_df, transaction_df, nontransaction_df, plot_df\n",
    "gc.collect()"
   ]
  },
  {
   "cell_type": "code",
   "execution_count": 50,
   "metadata": {
    "_uuid": "c8c88e4017e42e6eae45f79476c3a0ea18ebe54c"
   },
   "outputs": [
    {
     "data": {
      "text/plain": [
       "7"
      ]
     },
     "execution_count": 50,
     "metadata": {},
     "output_type": "execute_result"
    }
   ],
   "source": [
    "#we need to predict log revenue per customer. Lets group by full visitor id\n",
    "train_x = new_df1.groupby(by=['fullVisitorId']).mean()\n",
    "del new_df1\n",
    "gc.collect()\n"
   ]
  },
  {
   "cell_type": "code",
   "execution_count": 51,
   "metadata": {},
   "outputs": [],
   "source": [
    "# train_x = train_x[train_x['totals.transactionRevenue'] > 0]"
   ]
  },
  {
   "cell_type": "code",
   "execution_count": 52,
   "metadata": {
    "_uuid": "d7bc29b32ca4dfa9a899e69065ddc8a4bd45a1d9"
   },
   "outputs": [],
   "source": [
    "train_y = train_x['totals.transactionRevenue']\n",
    "train_x = train_x.drop(labels=['totals.transactionRevenue'],axis=1)\n",
    "scaled_x = scaler1.fit_transform(train_x.values)\n",
    "#train_y = np.log1p(train_y)\n",
    "train_x = pd.DataFrame(scaled_x, columns=train_x.columns)"
   ]
  },
  {
   "cell_type": "code",
   "execution_count": 53,
   "metadata": {},
   "outputs": [],
   "source": [
    "from sklearn.model_selection import train_test_split\n",
    "\n",
    "\n",
    "X_train, X_val, y_train, y_val = train_test_split(train_x, train_y, test_size=0.20, random_state=200)"
   ]
  },
  {
   "cell_type": "code",
   "execution_count": 54,
   "metadata": {
    "_uuid": "76f1815802449d5a61ae3b47f70ea3c59ba10991"
   },
   "outputs": [
    {
     "name": "stdout",
     "output_type": "stream",
     "text": [
      "Training until validation scores don't improve for 100 rounds.\n",
      "[500]\ttraining's rmse: 1.25\tvalid_1's rmse: 1.30234\n",
      "[1000]\ttraining's rmse: 1.20787\tvalid_1's rmse: 1.26526\n",
      "[1500]\ttraining's rmse: 1.19013\tvalid_1's rmse: 1.25451\n",
      "[2000]\ttraining's rmse: 1.17904\tvalid_1's rmse: 1.25025\n",
      "[2500]\ttraining's rmse: 1.17066\tvalid_1's rmse: 1.24873\n",
      "[3000]\ttraining's rmse: 1.16483\tvalid_1's rmse: 1.24823\n",
      "Early stopping, best iteration is:\n",
      "[3399]\ttraining's rmse: 1.16066\tvalid_1's rmse: 1.24787\n"
     ]
    }
   ],
   "source": [
    "import lightgbm as lgb\n",
    "\n",
    "lgb_train_data = lgb.Dataset(X_train, label=y_train)\n",
    "lgb_val_data = lgb.Dataset(X_val, label=y_val)\n",
    "\n",
    "params = {\n",
    "        \"objective\" : \"regression\",\n",
    "        \"metric\" : \"rmse\",\n",
    "        #\"num_leaves\" : 40,\n",
    "        \"max_depth\" : 10,\n",
    "        \"boosting\" : \"gbdt\",\n",
    "        \"learning_rate\" : 0.0025,\n",
    "        \"bagging_fraction\" : 0.7,\n",
    "        \"feature_fraction\" : 0.7,\n",
    "        \"bagging_frequency\" : 6,\n",
    "        \"bagging_seed\" : 42,\n",
    "        \"seed\": 42}\n",
    "model = lgb.train(params, lgb_train_data, \n",
    "                      num_boost_round=5000,\n",
    "                      valid_sets=[lgb_train_data, lgb_val_data],\n",
    "                      early_stopping_rounds=100,\n",
    "                      verbose_eval=500)"
   ]
  },
  {
   "cell_type": "code",
   "execution_count": 55,
   "metadata": {
    "_uuid": "4f54ae721dea4ffaec8da5adb85f0a7f18b49956"
   },
   "outputs": [],
   "source": [
    "test_x = test_df1.groupby(by=['fullVisitorId']).mean()\n",
    "visitorid = test_x.index\n",
    "scaled_test = scaler1.transform(test_x)\n",
    "test_x = pd.DataFrame(scaled_test,columns=test_x.columns)"
   ]
  },
  {
   "cell_type": "code",
   "execution_count": null,
   "metadata": {
    "_uuid": "e2a9f9376af9299db94623d99c69b11d3c1d4f83"
   },
   "outputs": [],
   "source": [
    "from sklearn.metrics import mean_squared_error\n",
    "y_pred_train = model.predict(X_train, num_iteration=model.best_iteration)\n",
    "y_pred_val = model.predict(X_val, num_iteration=model.best_iteration)\n",
    "y_pred_submit = model.predict(test_x, num_iteration=model.best_iteration)\n",
    "\n",
    "print(f\"LGBM: RMSE val: {np.sqrt(mean_squared_error(y_val, y_pred_val))}  - RMSE train: {np.sqrt(mean_squared_error(y_train, y_pred_train))}\")"
   ]
  },
  {
   "cell_type": "code",
   "execution_count": null,
   "metadata": {},
   "outputs": [],
   "source": [
    "difference = np.subtract(y_pred_val, y_val)\n",
    "\n",
    "sqr = np.square(difference)\n",
    "\n",
    "sumSqr = sqr.sum()\n",
    "\n",
    "sumSqrMean = sumSqr/len(y_val)\n",
    "\n",
    "sumSqrRootMean = np.sqrt(sumSqrMean)\n",
    "sumSqrRootMean"
   ]
  },
  {
   "cell_type": "code",
   "execution_count": null,
   "metadata": {},
   "outputs": [],
   "source": [
    "# # p['predicted'] = pd.DataFrame(y_pred_val)\n",
    "# # p['original'] = pd.DataFrame(y_val.values)\n",
    "# from plotly.offline import init_notebook_mode, iplot\n",
    "# import plotly.graph_objs as go\n",
    "# from plotly import tools\n",
    "# init_notebook_mode(connected=True)\n",
    "\n",
    "# p['predicted'] = pd.DataFrame(y_pred_val)\n",
    "# p['original'] = pd.DataFrame(y_val.values)\n",
    "# p"
   ]
  },
  {
   "cell_type": "code",
   "execution_count": null,
   "metadata": {
    "_uuid": "d1ba6cf128f2f5c5d43bda72f22c328126061fe0",
    "scrolled": false
   },
   "outputs": [],
   "source": [
    "plt.style.use('ggplot')\n",
    "lgb.plot_importance(model,max_num_features=15)"
   ]
  },
  {
   "cell_type": "code",
   "execution_count": null,
   "metadata": {
    "_uuid": "faf508e9a09d98fef8e7fd6bb70a43438ee97fe0"
   },
   "outputs": [],
   "source": [
    "#submission = pd.DataFrame({'fullVisitorId':visitorid,'PredictedLogRevenue':y_pred_submit})\n",
    "#submission['fullVisitorId']= submission['fullVisitorId'].astype(str)\n",
    "#submission['PredictedLogRevenue']=submission['PredictedLogRevenue'].apply(lambda x: 0 if x<0 else x)"
   ]
  },
  {
   "cell_type": "code",
   "execution_count": null,
   "metadata": {
    "_uuid": "7c52c52b8a31083123e002cb8fe4ad0e6660b4b7"
   },
   "outputs": [],
   "source": [
    "#submission.to_csv('submission1.csv',index=False)"
   ]
  },
  {
   "cell_type": "code",
   "execution_count": null,
   "metadata": {
    "_uuid": "32be3b67d07fbca2833f7fac02f5a53dafcbab36"
   },
   "outputs": [],
   "source": [
    "from keras.models import Sequential\n",
    "from keras.layers import Dense\n",
    "from keras.layers import LSTM, Bidirectional, Dropout\n",
    "from keras.callbacks import ReduceLROnPlateau\n",
    "\n",
    "X_train = X_train.values\n",
    "X_val = X_val.values\n",
    "y_train = y_train.values\n",
    "y_val = y_val.values\n",
    "X_train = X_train.reshape(X_train.shape[0],1,X_train.shape[1])\n",
    "X_val = X_val.reshape(X_val.shape[0],1,X_val.shape[1])"
   ]
  },
  {
   "cell_type": "code",
   "execution_count": null,
   "metadata": {},
   "outputs": [],
   "source": [
    "from keras.layers import Input\n",
    "from keras.models import Model\n",
    "\n",
    "inputs = Input(shape=(1,70))\n",
    "x = Bidirectional(LSTM(200,recurrent_dropout=0.2, kernel_initializer='lecun_normal', return_sequences=True))(inputs)\n",
    "x = Bidirectional(LSTM(120,recurrent_dropout=0.2, kernel_initializer='lecun_normal'))(x)\n",
    "x = Dense(50, activation='sigmoid')(x)\n",
    "x = Dropout(0.1)(x)\n",
    "x = Dense(20,activation='elu')(x)\n",
    "output = Dense(1,activation='linear')(x)\n",
    "\n",
    "model2 = Model(inputs=inputs, outputs=output)\n",
    "model2.compile(loss='mse', optimizer='adam')\n",
    "model2.fit(X_train, y_train, epochs=4, batch_size=64, validation_data=(X_val, y_val), verbose=1, shuffle=False)"
   ]
  },
  {
   "cell_type": "code",
   "execution_count": null,
   "metadata": {
    "_uuid": "3c1411cabd43428ea1fafabd971766df9f05e9e2"
   },
   "outputs": [],
   "source": [
    "test_x = test_x.values\n",
    "test_x = test_x.reshape((test_x.shape[0],1,test_x.shape[1]))\n",
    "\n",
    "y_pred_train = model2.predict(X_train)\n",
    "y_pred_val = model2.predict(X_val)\n",
    "y_pred_submit = model2.predict(test_x)\n",
    "\n",
    "print(f\"LSTM: RMSE val: {np.sqrt(mean_squared_error(y_val, y_pred_val))}  - RMSE train: {np.sqrt(mean_squared_error(y_train, y_pred_train))}\")"
   ]
  },
  {
   "cell_type": "code",
   "execution_count": null,
   "metadata": {},
   "outputs": [],
   "source": []
  },
  {
   "cell_type": "code",
   "execution_count": null,
   "metadata": {},
   "outputs": [],
   "source": [
    "# p['original'].index"
   ]
  },
  {
   "cell_type": "code",
   "execution_count": null,
   "metadata": {},
   "outputs": [],
   "source": [
    "# # p = p.sort_values(by=['predicted'])\n",
    "\n",
    "# print(p['original'].values)\n",
    "# plt.plot(p['original'].values)\n",
    "# plt.plot(p['predicted'].values)\n",
    "# # plt.plot(p['predicted'])\n",
    "# plt.show()"
   ]
  },
  {
   "cell_type": "code",
   "execution_count": null,
   "metadata": {},
   "outputs": [],
   "source": [
    "# # p = p.sort_values(by=['original'])\n",
    "\n",
    "# bar1 = go.Bar(\n",
    "# #             x=p['original'].index,\n",
    "#             y=p['original'].values,\n",
    "#             name='Original'\n",
    "#     )\n",
    "# bar2 = go.Bar(\n",
    "# #             x=p['original'].index,\n",
    "#             y=p['predicted'].values,\n",
    "#             name='Predicted'\n",
    "#     )\n",
    "# data = [bar1, bar2]\n",
    "\n",
    "# layout = go.Layout(\n",
    "#     title='Original Vs Predicted',\n",
    "#     barmode='stack'\n",
    "# )\n",
    "\n",
    "# fig = go.Figure(data=data, layout=layout)\n",
    "# iplot(fig, filename='Original Vs Predicted')"
   ]
  },
  {
   "cell_type": "code",
   "execution_count": null,
   "metadata": {},
   "outputs": [],
   "source": [
    "# y_train[y_train>0]=1\n",
    "# y_val[y_val>0]=1"
   ]
  },
  {
   "cell_type": "code",
   "execution_count": null,
   "metadata": {},
   "outputs": [],
   "source": [
    "# from sklearn.linear_model import LogisticRegression\n",
    "\n",
    "# clf = LogisticRegression()\n",
    "# clf.fit(X_train, y_train)\n",
    "# print(\"LogisticRegression\")\n",
    "# y_pred = clf.predict(X_val)"
   ]
  },
  {
   "cell_type": "code",
   "execution_count": null,
   "metadata": {},
   "outputs": [],
   "source": [
    "# from sklearn.metrics import accuracy_score\n",
    "\n",
    "# accuracy_score(y_val, y_pred)"
   ]
  },
  {
   "cell_type": "code",
   "execution_count": null,
   "metadata": {},
   "outputs": [],
   "source": [
    "# classifier_table['original'] = pd.DataFrame(y_val.values)\n",
    "# classifier_table['predicted'] = pd.DataFrame(y_pred)\n",
    "# classifier_table"
   ]
  },
  {
   "cell_type": "code",
   "execution_count": null,
   "metadata": {},
   "outputs": [],
   "source": [
    "# temp = y_val[y_val>0]\n"
   ]
  }
 ],
 "metadata": {
  "kernelspec": {
   "display_name": "Python 3",
   "language": "python",
   "name": "python3"
  },
  "language_info": {
   "codemirror_mode": {
    "name": "ipython",
    "version": 3
   },
   "file_extension": ".py",
   "mimetype": "text/x-python",
   "name": "python",
   "nbconvert_exporter": "python",
   "pygments_lexer": "ipython3",
   "version": "3.7.0"
  }
 },
 "nbformat": 4,
 "nbformat_minor": 1
}
