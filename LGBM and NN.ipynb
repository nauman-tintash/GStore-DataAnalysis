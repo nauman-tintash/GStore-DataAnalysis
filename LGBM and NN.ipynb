{
 "cells": [
  {
   "cell_type": "code",
   "execution_count": 6,
   "metadata": {
    "_cell_guid": "b1076dfc-b9ad-4769-8c92-a6c4dae69d19",
    "_uuid": "8f2839f25d086af736a60e9eeb907d3b93b6e0e5"
   },
   "outputs": [],
   "source": [
    "# This Python 3 environment comes with many helpful analytics libraries installed\n",
    "# It is defined by the kaggle/python docker image: https://github.com/kaggle/docker-python\n",
    "# For example, here's several helpful packages to load in \n",
    "\n",
    "import numpy as np # linear algebra\n",
    "import pandas as pd # data processing, CSV file I/O (e.g. pd.read_csv)\n",
    "\n",
    "# Input data files are available in the \"../input/\" directory.\n",
    "# For example, running this (by clicking run or pressing Shift+Enter) will list the files in the input directory\n",
    "\n",
    "import os\n",
    "\n",
    "import json\n",
    "from pandas.io.json import json_normalize\n",
    "# import matplotlib.pyplot as plt\n",
    "# import seaborn as sns\n",
    "\n",
    "# Any results you write to the current directory are saved as output."
   ]
  },
  {
   "cell_type": "code",
   "execution_count": null,
   "metadata": {
    "_uuid": "034802f0f52b45867c93b70bad974c4b566703a8",
    "scrolled": true
   },
   "outputs": [],
   "source": [
    "# def load_df(csv_path, nrows=None):\n",
    "#     USE_COLUMNS = [\n",
    "#         'channelGrouping', 'date', 'device', 'fullVisitorId', 'geoNetwork',\n",
    "#         'socialEngagementType', 'totals', 'trafficSource', 'visitId',\n",
    "#         'visitNumber', 'visitStartTime', 'customDimensions'\n",
    "#         #'hits'\n",
    "#     ]\n",
    "#     JSON_COLUMNS = ['device', 'geoNetwork', 'totals', 'trafficSource']\n",
    "    \n",
    "#     df = pd.read_csv(csv_path, \n",
    "#                      converters={column: json.loads for column in JSON_COLUMNS}, \n",
    "#                      dtype={'fullVisitorId': 'str'}, # Important!!\n",
    "#                      nrows=nrows, usecols=USE_COLUMNS)\n",
    "    \n",
    "#     for column in JSON_COLUMNS:\n",
    "#         column_as_df = json_normalize(df[column])\n",
    "#         column_as_df.columns = [f\"{column}.{subcolumn}\" for subcolumn in column_as_df.columns]\n",
    "#         df = df.drop(column, axis=1).merge(column_as_df, right_index=True, left_index=True)\n",
    "#     print(f\"Loaded {os.path.basename(csv_path)}. Shape: {df.shape}\")\n",
    "#     return df"
   ]
  },
  {
   "cell_type": "code",
   "execution_count": 7,
   "metadata": {},
   "outputs": [
    {
     "name": "stderr",
     "output_type": "stream",
     "text": [
      "/home/tintash/anaconda3/envs/TensorflowVirtualEnv/lib/python3.6/site-packages/IPython/core/interactiveshell.py:3020: DtypeWarning: Columns (3,50) have mixed types. Specify dtype option on import or set low_memory=False.\n",
      "  interactivity=interactivity, compiler=compiler, result=result)\n"
     ]
    },
    {
     "name": "stdout",
     "output_type": "stream",
     "text": [
      "(903653, 56)\n"
     ]
    },
    {
     "data": {
      "text/html": [
       "<div>\n",
       "<style scoped>\n",
       "    .dataframe tbody tr th:only-of-type {\n",
       "        vertical-align: middle;\n",
       "    }\n",
       "\n",
       "    .dataframe tbody tr th {\n",
       "        vertical-align: top;\n",
       "    }\n",
       "\n",
       "    .dataframe thead th {\n",
       "        text-align: right;\n",
       "    }\n",
       "</style>\n",
       "<table border=\"1\" class=\"dataframe\">\n",
       "  <thead>\n",
       "    <tr style=\"text-align: right;\">\n",
       "      <th></th>\n",
       "      <th>Unnamed: 0</th>\n",
       "      <th>channelGrouping</th>\n",
       "      <th>date</th>\n",
       "      <th>fullVisitorId</th>\n",
       "      <th>sessionId</th>\n",
       "      <th>socialEngagementType</th>\n",
       "      <th>visitId</th>\n",
       "      <th>visitNumber</th>\n",
       "      <th>visitStartTime</th>\n",
       "      <th>device.browser</th>\n",
       "      <th>...</th>\n",
       "      <th>trafficSource.adwordsClickInfo.isVideoAd</th>\n",
       "      <th>trafficSource.adwordsClickInfo.page</th>\n",
       "      <th>trafficSource.adwordsClickInfo.slot</th>\n",
       "      <th>trafficSource.campaign</th>\n",
       "      <th>trafficSource.campaignCode</th>\n",
       "      <th>trafficSource.isTrueDirect</th>\n",
       "      <th>trafficSource.keyword</th>\n",
       "      <th>trafficSource.medium</th>\n",
       "      <th>trafficSource.referralPath</th>\n",
       "      <th>trafficSource.source</th>\n",
       "    </tr>\n",
       "  </thead>\n",
       "  <tbody>\n",
       "    <tr>\n",
       "      <th>0</th>\n",
       "      <td>0</td>\n",
       "      <td>Organic Search</td>\n",
       "      <td>20160902</td>\n",
       "      <td>1131660440785968503</td>\n",
       "      <td>1131660440785968503_1472830385</td>\n",
       "      <td>Not Socially Engaged</td>\n",
       "      <td>1472830385</td>\n",
       "      <td>1</td>\n",
       "      <td>1472830385</td>\n",
       "      <td>Chrome</td>\n",
       "      <td>...</td>\n",
       "      <td>NaN</td>\n",
       "      <td>NaN</td>\n",
       "      <td>NaN</td>\n",
       "      <td>(not set)</td>\n",
       "      <td>NaN</td>\n",
       "      <td>NaN</td>\n",
       "      <td>(not provided)</td>\n",
       "      <td>organic</td>\n",
       "      <td>NaN</td>\n",
       "      <td>google</td>\n",
       "    </tr>\n",
       "    <tr>\n",
       "      <th>1</th>\n",
       "      <td>1</td>\n",
       "      <td>Organic Search</td>\n",
       "      <td>20160902</td>\n",
       "      <td>377306020877927890</td>\n",
       "      <td>377306020877927890_1472880147</td>\n",
       "      <td>Not Socially Engaged</td>\n",
       "      <td>1472880147</td>\n",
       "      <td>1</td>\n",
       "      <td>1472880147</td>\n",
       "      <td>Firefox</td>\n",
       "      <td>...</td>\n",
       "      <td>NaN</td>\n",
       "      <td>NaN</td>\n",
       "      <td>NaN</td>\n",
       "      <td>(not set)</td>\n",
       "      <td>NaN</td>\n",
       "      <td>NaN</td>\n",
       "      <td>(not provided)</td>\n",
       "      <td>organic</td>\n",
       "      <td>NaN</td>\n",
       "      <td>google</td>\n",
       "    </tr>\n",
       "    <tr>\n",
       "      <th>2</th>\n",
       "      <td>2</td>\n",
       "      <td>Organic Search</td>\n",
       "      <td>20160902</td>\n",
       "      <td>3895546263509774583</td>\n",
       "      <td>3895546263509774583_1472865386</td>\n",
       "      <td>Not Socially Engaged</td>\n",
       "      <td>1472865386</td>\n",
       "      <td>1</td>\n",
       "      <td>1472865386</td>\n",
       "      <td>Chrome</td>\n",
       "      <td>...</td>\n",
       "      <td>NaN</td>\n",
       "      <td>NaN</td>\n",
       "      <td>NaN</td>\n",
       "      <td>(not set)</td>\n",
       "      <td>NaN</td>\n",
       "      <td>NaN</td>\n",
       "      <td>(not provided)</td>\n",
       "      <td>organic</td>\n",
       "      <td>NaN</td>\n",
       "      <td>google</td>\n",
       "    </tr>\n",
       "    <tr>\n",
       "      <th>3</th>\n",
       "      <td>3</td>\n",
       "      <td>Organic Search</td>\n",
       "      <td>20160902</td>\n",
       "      <td>4763447161404445595</td>\n",
       "      <td>4763447161404445595_1472881213</td>\n",
       "      <td>Not Socially Engaged</td>\n",
       "      <td>1472881213</td>\n",
       "      <td>1</td>\n",
       "      <td>1472881213</td>\n",
       "      <td>UC Browser</td>\n",
       "      <td>...</td>\n",
       "      <td>NaN</td>\n",
       "      <td>NaN</td>\n",
       "      <td>NaN</td>\n",
       "      <td>(not set)</td>\n",
       "      <td>NaN</td>\n",
       "      <td>NaN</td>\n",
       "      <td>google + online</td>\n",
       "      <td>organic</td>\n",
       "      <td>NaN</td>\n",
       "      <td>google</td>\n",
       "    </tr>\n",
       "    <tr>\n",
       "      <th>4</th>\n",
       "      <td>4</td>\n",
       "      <td>Organic Search</td>\n",
       "      <td>20160902</td>\n",
       "      <td>27294437909732085</td>\n",
       "      <td>27294437909732085_1472822600</td>\n",
       "      <td>Not Socially Engaged</td>\n",
       "      <td>1472822600</td>\n",
       "      <td>2</td>\n",
       "      <td>1472822600</td>\n",
       "      <td>Chrome</td>\n",
       "      <td>...</td>\n",
       "      <td>NaN</td>\n",
       "      <td>NaN</td>\n",
       "      <td>NaN</td>\n",
       "      <td>(not set)</td>\n",
       "      <td>NaN</td>\n",
       "      <td>True</td>\n",
       "      <td>(not provided)</td>\n",
       "      <td>organic</td>\n",
       "      <td>NaN</td>\n",
       "      <td>google</td>\n",
       "    </tr>\n",
       "  </tbody>\n",
       "</table>\n",
       "<p>5 rows × 56 columns</p>\n",
       "</div>"
      ],
      "text/plain": [
       "   Unnamed: 0 channelGrouping      date        fullVisitorId  \\\n",
       "0           0  Organic Search  20160902  1131660440785968503   \n",
       "1           1  Organic Search  20160902   377306020877927890   \n",
       "2           2  Organic Search  20160902  3895546263509774583   \n",
       "3           3  Organic Search  20160902  4763447161404445595   \n",
       "4           4  Organic Search  20160902    27294437909732085   \n",
       "\n",
       "                        sessionId  socialEngagementType     visitId  \\\n",
       "0  1131660440785968503_1472830385  Not Socially Engaged  1472830385   \n",
       "1   377306020877927890_1472880147  Not Socially Engaged  1472880147   \n",
       "2  3895546263509774583_1472865386  Not Socially Engaged  1472865386   \n",
       "3  4763447161404445595_1472881213  Not Socially Engaged  1472881213   \n",
       "4    27294437909732085_1472822600  Not Socially Engaged  1472822600   \n",
       "\n",
       "   visitNumber  visitStartTime device.browser         ...           \\\n",
       "0            1      1472830385         Chrome         ...            \n",
       "1            1      1472880147        Firefox         ...            \n",
       "2            1      1472865386         Chrome         ...            \n",
       "3            1      1472881213     UC Browser         ...            \n",
       "4            2      1472822600         Chrome         ...            \n",
       "\n",
       "  trafficSource.adwordsClickInfo.isVideoAd  \\\n",
       "0                                      NaN   \n",
       "1                                      NaN   \n",
       "2                                      NaN   \n",
       "3                                      NaN   \n",
       "4                                      NaN   \n",
       "\n",
       "  trafficSource.adwordsClickInfo.page trafficSource.adwordsClickInfo.slot  \\\n",
       "0                                 NaN                                 NaN   \n",
       "1                                 NaN                                 NaN   \n",
       "2                                 NaN                                 NaN   \n",
       "3                                 NaN                                 NaN   \n",
       "4                                 NaN                                 NaN   \n",
       "\n",
       "  trafficSource.campaign  trafficSource.campaignCode  \\\n",
       "0              (not set)                         NaN   \n",
       "1              (not set)                         NaN   \n",
       "2              (not set)                         NaN   \n",
       "3              (not set)                         NaN   \n",
       "4              (not set)                         NaN   \n",
       "\n",
       "  trafficSource.isTrueDirect trafficSource.keyword trafficSource.medium  \\\n",
       "0                        NaN        (not provided)              organic   \n",
       "1                        NaN        (not provided)              organic   \n",
       "2                        NaN        (not provided)              organic   \n",
       "3                        NaN       google + online              organic   \n",
       "4                       True        (not provided)              organic   \n",
       "\n",
       "  trafficSource.referralPath trafficSource.source  \n",
       "0                        NaN               google  \n",
       "1                        NaN               google  \n",
       "2                        NaN               google  \n",
       "3                        NaN               google  \n",
       "4                        NaN               google  \n",
       "\n",
       "[5 rows x 56 columns]"
      ]
     },
     "execution_count": 7,
     "metadata": {},
     "output_type": "execute_result"
    }
   ],
   "source": [
    "train_data = pd.read_csv('train_modified.csv') # Important!!\n",
    "print(train_data.shape)\n",
    "train_data.head()"
   ]
  },
  {
   "cell_type": "code",
   "execution_count": 8,
   "metadata": {},
   "outputs": [],
   "source": [
    "train_df = train_data.sample(frac=0.8,random_state=200)\n",
    "test_df = train_data.drop(train_df.index)"
   ]
  },
  {
   "cell_type": "code",
   "execution_count": 9,
   "metadata": {},
   "outputs": [
    {
     "data": {
      "text/plain": [
       "array(['Unnamed: 0', 'channelGrouping', 'date', 'fullVisitorId',\n",
       "       'sessionId', 'socialEngagementType', 'visitId', 'visitNumber',\n",
       "       'visitStartTime', 'device.browser', 'device.browserSize',\n",
       "       'device.browserVersion', 'device.deviceCategory',\n",
       "       'device.flashVersion', 'device.isMobile', 'device.language',\n",
       "       'device.mobileDeviceBranding', 'device.mobileDeviceInfo',\n",
       "       'device.mobileDeviceMarketingName', 'device.mobileDeviceModel',\n",
       "       'device.mobileInputSelector', 'device.operatingSystem',\n",
       "       'device.operatingSystemVersion', 'device.screenColors',\n",
       "       'device.screenResolution', 'geoNetwork.city', 'geoNetwork.cityId',\n",
       "       'geoNetwork.continent', 'geoNetwork.country',\n",
       "       'geoNetwork.latitude', 'geoNetwork.longitude', 'geoNetwork.metro',\n",
       "       'geoNetwork.networkDomain', 'geoNetwork.networkLocation',\n",
       "       'geoNetwork.region', 'geoNetwork.subContinent', 'totals.bounces',\n",
       "       'totals.hits', 'totals.newVisits', 'totals.pageviews',\n",
       "       'totals.transactionRevenue', 'totals.visits',\n",
       "       'trafficSource.adContent',\n",
       "       'trafficSource.adwordsClickInfo.adNetworkType',\n",
       "       'trafficSource.adwordsClickInfo.criteriaParameters',\n",
       "       'trafficSource.adwordsClickInfo.gclId',\n",
       "       'trafficSource.adwordsClickInfo.isVideoAd',\n",
       "       'trafficSource.adwordsClickInfo.page',\n",
       "       'trafficSource.adwordsClickInfo.slot', 'trafficSource.campaign',\n",
       "       'trafficSource.campaignCode', 'trafficSource.isTrueDirect',\n",
       "       'trafficSource.keyword', 'trafficSource.medium',\n",
       "       'trafficSource.referralPath', 'trafficSource.source'], dtype=object)"
      ]
     },
     "execution_count": 9,
     "metadata": {},
     "output_type": "execute_result"
    }
   ],
   "source": [
    "train_df.columns.values"
   ]
  },
  {
   "cell_type": "code",
   "execution_count": 3,
   "metadata": {
    "_uuid": "49becfef9df38d8c624c9beb63516e43d4bfba1c"
   },
   "outputs": [],
   "source": [
    "# %%time\n",
    "# train_df = load_df(\"../input/train_v2.csv\")\n",
    "# test_df = load_df(\"../input/test_v2.csv\")"
   ]
  },
  {
   "cell_type": "code",
   "execution_count": 10,
   "metadata": {
    "_uuid": "bb3925b993ec872982ed4312aa47443365bfcd85"
   },
   "outputs": [
    {
     "name": "stdout",
     "output_type": "stream",
     "text": [
      "Index([], dtype='object')\n",
      "Index([], dtype='object')\n"
     ]
    }
   ],
   "source": [
    "print(train_df.columns.difference(test_df.columns))\n",
    "print(test_df.columns.difference(train_df.columns))"
   ]
  },
  {
   "cell_type": "code",
   "execution_count": null,
   "metadata": {
    "_uuid": "440f1b1d5ae9c3eca8f4b688216b82a22424a370"
   },
   "outputs": [],
   "source": [
    "train_df = train_df.drop(labels=['trafficSource.campaign'],axis=1)\n",
    "# train_df = train_df.drop(labels=['totals.transactionRevenue'],axis=1)\n",
    "# test_df = test_df.drop(labels=['totals.transactionRevenue'],axis=1)"
   ]
  },
  {
   "cell_type": "code",
   "execution_count": 11,
   "metadata": {
    "_uuid": "01389cf426a5c531a072d26812b13afc3f76ab94",
    "scrolled": true
   },
   "outputs": [
    {
     "data": {
      "text/html": [
       "<div>\n",
       "<style scoped>\n",
       "    .dataframe tbody tr th:only-of-type {\n",
       "        vertical-align: middle;\n",
       "    }\n",
       "\n",
       "    .dataframe tbody tr th {\n",
       "        vertical-align: top;\n",
       "    }\n",
       "\n",
       "    .dataframe thead th {\n",
       "        text-align: right;\n",
       "    }\n",
       "</style>\n",
       "<table border=\"1\" class=\"dataframe\">\n",
       "  <thead>\n",
       "    <tr style=\"text-align: right;\">\n",
       "      <th></th>\n",
       "      <th>Unnamed: 0</th>\n",
       "      <th>channelGrouping</th>\n",
       "      <th>date</th>\n",
       "      <th>fullVisitorId</th>\n",
       "      <th>sessionId</th>\n",
       "      <th>socialEngagementType</th>\n",
       "      <th>visitId</th>\n",
       "      <th>visitNumber</th>\n",
       "      <th>visitStartTime</th>\n",
       "      <th>device.browser</th>\n",
       "      <th>...</th>\n",
       "      <th>trafficSource.adwordsClickInfo.isVideoAd</th>\n",
       "      <th>trafficSource.adwordsClickInfo.page</th>\n",
       "      <th>trafficSource.adwordsClickInfo.slot</th>\n",
       "      <th>trafficSource.campaign</th>\n",
       "      <th>trafficSource.campaignCode</th>\n",
       "      <th>trafficSource.isTrueDirect</th>\n",
       "      <th>trafficSource.keyword</th>\n",
       "      <th>trafficSource.medium</th>\n",
       "      <th>trafficSource.referralPath</th>\n",
       "      <th>trafficSource.source</th>\n",
       "    </tr>\n",
       "  </thead>\n",
       "  <tbody>\n",
       "    <tr>\n",
       "      <th>548725</th>\n",
       "      <td>548725</td>\n",
       "      <td>Organic Search</td>\n",
       "      <td>2017-05-23</td>\n",
       "      <td>3702632045024960671</td>\n",
       "      <td>3702632045024960671_1495561117</td>\n",
       "      <td>Not Socially Engaged</td>\n",
       "      <td>1495561117</td>\n",
       "      <td>1</td>\n",
       "      <td>1495561117</td>\n",
       "      <td>Safari</td>\n",
       "      <td>...</td>\n",
       "      <td>NaN</td>\n",
       "      <td>NaN</td>\n",
       "      <td>NaN</td>\n",
       "      <td>(not set)</td>\n",
       "      <td>NaN</td>\n",
       "      <td>NaN</td>\n",
       "      <td>(not provided)</td>\n",
       "      <td>organic</td>\n",
       "      <td>NaN</td>\n",
       "      <td>google</td>\n",
       "    </tr>\n",
       "    <tr>\n",
       "      <th>697375</th>\n",
       "      <td>697375</td>\n",
       "      <td>Organic Search</td>\n",
       "      <td>2017-07-19</td>\n",
       "      <td>219064891723945627</td>\n",
       "      <td>0219064891723945627_1500476689</td>\n",
       "      <td>Not Socially Engaged</td>\n",
       "      <td>1500476689</td>\n",
       "      <td>2</td>\n",
       "      <td>1500476689</td>\n",
       "      <td>Chrome</td>\n",
       "      <td>...</td>\n",
       "      <td>NaN</td>\n",
       "      <td>NaN</td>\n",
       "      <td>NaN</td>\n",
       "      <td>(not set)</td>\n",
       "      <td>NaN</td>\n",
       "      <td>True</td>\n",
       "      <td>(not provided)</td>\n",
       "      <td>organic</td>\n",
       "      <td>NaN</td>\n",
       "      <td>google</td>\n",
       "    </tr>\n",
       "    <tr>\n",
       "      <th>474524</th>\n",
       "      <td>474524</td>\n",
       "      <td>Organic Search</td>\n",
       "      <td>2017-02-22</td>\n",
       "      <td>2389192114156853073</td>\n",
       "      <td>2389192114156853073_1487781578</td>\n",
       "      <td>Not Socially Engaged</td>\n",
       "      <td>1487781578</td>\n",
       "      <td>1</td>\n",
       "      <td>1487781578</td>\n",
       "      <td>Safari</td>\n",
       "      <td>...</td>\n",
       "      <td>NaN</td>\n",
       "      <td>NaN</td>\n",
       "      <td>NaN</td>\n",
       "      <td>(not set)</td>\n",
       "      <td>NaN</td>\n",
       "      <td>NaN</td>\n",
       "      <td>(not provided)</td>\n",
       "      <td>organic</td>\n",
       "      <td>NaN</td>\n",
       "      <td>google</td>\n",
       "    </tr>\n",
       "    <tr>\n",
       "      <th>399762</th>\n",
       "      <td>399762</td>\n",
       "      <td>Organic Search</td>\n",
       "      <td>2016-09-09</td>\n",
       "      <td>1397628877965755203</td>\n",
       "      <td>1397628877965755203_1473457757</td>\n",
       "      <td>Not Socially Engaged</td>\n",
       "      <td>1473457757</td>\n",
       "      <td>1</td>\n",
       "      <td>1473457757</td>\n",
       "      <td>Chrome</td>\n",
       "      <td>...</td>\n",
       "      <td>NaN</td>\n",
       "      <td>NaN</td>\n",
       "      <td>NaN</td>\n",
       "      <td>(not set)</td>\n",
       "      <td>NaN</td>\n",
       "      <td>NaN</td>\n",
       "      <td>(not provided)</td>\n",
       "      <td>organic</td>\n",
       "      <td>NaN</td>\n",
       "      <td>google</td>\n",
       "    </tr>\n",
       "    <tr>\n",
       "      <th>903103</th>\n",
       "      <td>903103</td>\n",
       "      <td>Display</td>\n",
       "      <td>2017-01-04</td>\n",
       "      <td>797740313994990797</td>\n",
       "      <td>0797740313994990797_1483518849</td>\n",
       "      <td>Not Socially Engaged</td>\n",
       "      <td>1483518849</td>\n",
       "      <td>2</td>\n",
       "      <td>1483518849</td>\n",
       "      <td>Firefox</td>\n",
       "      <td>...</td>\n",
       "      <td>NaN</td>\n",
       "      <td>NaN</td>\n",
       "      <td>NaN</td>\n",
       "      <td>(not set)</td>\n",
       "      <td>NaN</td>\n",
       "      <td>NaN</td>\n",
       "      <td>NaN</td>\n",
       "      <td>cpm</td>\n",
       "      <td>NaN</td>\n",
       "      <td>dfa</td>\n",
       "    </tr>\n",
       "  </tbody>\n",
       "</table>\n",
       "<p>5 rows × 56 columns</p>\n",
       "</div>"
      ],
      "text/plain": [
       "        Unnamed: 0 channelGrouping       date        fullVisitorId  \\\n",
       "548725      548725  Organic Search 2017-05-23  3702632045024960671   \n",
       "697375      697375  Organic Search 2017-07-19   219064891723945627   \n",
       "474524      474524  Organic Search 2017-02-22  2389192114156853073   \n",
       "399762      399762  Organic Search 2016-09-09  1397628877965755203   \n",
       "903103      903103         Display 2017-01-04   797740313994990797   \n",
       "\n",
       "                             sessionId  socialEngagementType     visitId  \\\n",
       "548725  3702632045024960671_1495561117  Not Socially Engaged  1495561117   \n",
       "697375  0219064891723945627_1500476689  Not Socially Engaged  1500476689   \n",
       "474524  2389192114156853073_1487781578  Not Socially Engaged  1487781578   \n",
       "399762  1397628877965755203_1473457757  Not Socially Engaged  1473457757   \n",
       "903103  0797740313994990797_1483518849  Not Socially Engaged  1483518849   \n",
       "\n",
       "        visitNumber  visitStartTime device.browser         ...           \\\n",
       "548725            1      1495561117         Safari         ...            \n",
       "697375            2      1500476689         Chrome         ...            \n",
       "474524            1      1487781578         Safari         ...            \n",
       "399762            1      1473457757         Chrome         ...            \n",
       "903103            2      1483518849        Firefox         ...            \n",
       "\n",
       "       trafficSource.adwordsClickInfo.isVideoAd  \\\n",
       "548725                                      NaN   \n",
       "697375                                      NaN   \n",
       "474524                                      NaN   \n",
       "399762                                      NaN   \n",
       "903103                                      NaN   \n",
       "\n",
       "       trafficSource.adwordsClickInfo.page  \\\n",
       "548725                                 NaN   \n",
       "697375                                 NaN   \n",
       "474524                                 NaN   \n",
       "399762                                 NaN   \n",
       "903103                                 NaN   \n",
       "\n",
       "       trafficSource.adwordsClickInfo.slot trafficSource.campaign  \\\n",
       "548725                                 NaN              (not set)   \n",
       "697375                                 NaN              (not set)   \n",
       "474524                                 NaN              (not set)   \n",
       "399762                                 NaN              (not set)   \n",
       "903103                                 NaN              (not set)   \n",
       "\n",
       "        trafficSource.campaignCode trafficSource.isTrueDirect  \\\n",
       "548725                         NaN                        NaN   \n",
       "697375                         NaN                       True   \n",
       "474524                         NaN                        NaN   \n",
       "399762                         NaN                        NaN   \n",
       "903103                         NaN                        NaN   \n",
       "\n",
       "       trafficSource.keyword trafficSource.medium trafficSource.referralPath  \\\n",
       "548725        (not provided)              organic                        NaN   \n",
       "697375        (not provided)              organic                        NaN   \n",
       "474524        (not provided)              organic                        NaN   \n",
       "399762        (not provided)              organic                        NaN   \n",
       "903103                   NaN                  cpm                        NaN   \n",
       "\n",
       "       trafficSource.source  \n",
       "548725               google  \n",
       "697375               google  \n",
       "474524               google  \n",
       "399762               google  \n",
       "903103                  dfa  \n",
       "\n",
       "[5 rows x 56 columns]"
      ]
     },
     "execution_count": 11,
     "metadata": {},
     "output_type": "execute_result"
    }
   ],
   "source": [
    "#Converting the datatype of date field\n",
    "train_df['date']= pd.to_datetime(train_df['date'],format='%Y%m%d')\n",
    "test_df['date']= pd.to_datetime(test_df['date'],format='%Y%m%d')\n",
    "train_df.head()"
   ]
  },
  {
   "cell_type": "code",
   "execution_count": 12,
   "metadata": {
    "_kg_hide-output": true,
    "_uuid": "e1fcaa062f7e5206c7e98193e13c3d12df4269a6"
   },
   "outputs": [
    {
     "name": "stdout",
     "output_type": "stream",
     "text": [
      "Total records:  722922 customers doesnt contribute for revenue:  713707 customers contributing revenue:  9215\n"
     ]
    }
   ],
   "source": [
    "#We need to predict totals.transactionRevenue. Lets explore that variable\n",
    "train_df['totals.transactionRevenue'] = train_df['totals.transactionRevenue'].astype('float')\n",
    "print('Total records: ', len(train_df), 'customers doesnt contribute for revenue: ',train_df['totals.transactionRevenue'].isna().sum(), \\\n",
    "      'customers contributing revenue: ',len(train_df) - train_df['totals.transactionRevenue'].isna().sum())\n"
   ]
  },
  {
   "cell_type": "markdown",
   "metadata": {
    "_uuid": "892e62cbc9b34abf1d61966d6a5b3db5a762483e"
   },
   "source": [
    "Purely an imbalanced dataset"
   ]
  },
  {
   "cell_type": "code",
   "execution_count": null,
   "metadata": {
    "_uuid": "b0768d3df6b2b1e8322a471de13a649be513e1c6"
   },
   "outputs": [],
   "source": [
    "#Lets start with data cleaning\n",
    "#Find any unique value columns\n",
    "print('Features with one unique values are :')\n",
    "print(train_df.columns[train_df.nunique()==1])\n",
    "new_df = train_df.drop(labels=train_df.columns[train_df.nunique()==1],axis=1)\n",
    "test_df = test_df.drop(labels=train_df.columns[train_df.nunique()==1],axis=1)"
   ]
  },
  {
   "cell_type": "code",
   "execution_count": null,
   "metadata": {
    "_kg_hide-output": true,
    "_uuid": "ac909d267b305f2a1043a37df7ca4ac823a547fd",
    "scrolled": false
   },
   "outputs": [],
   "source": [
    "print(new_df.shape)\n",
    "pd.options.display.max_columns=new_df.shape[1]\n",
    "print(new_df.info())\n",
    "new_df.head()"
   ]
  },
  {
   "cell_type": "markdown",
   "metadata": {
    "_uuid": "a530c136aae357902f696b41fd0e781185f4c27f"
   },
   "source": [
    "Based on Initial glance of data we can drop following fields while exploring\n",
    "* sessionId - Unique number for a session\n",
    "* visitId - Nth visit fullVisitorId is visiting the store \n",
    "* visitStartTime - Time of Visit \n"
   ]
  },
  {
   "cell_type": "code",
   "execution_count": null,
   "metadata": {
    "_uuid": "834e8754321c5ee0d3d89a772c4dc2575c5cea22"
   },
   "outputs": [],
   "source": [
    "\n",
    "geofields = ['geoNetwork.city','geoNetwork.continent','geoNetwork.country','geoNetwork.metro','geoNetwork.networkDomain','geoNetwork.region','geoNetwork.subContinent']\n",
    "\n",
    "for fields in geofields:\n",
    "    temp_df = new_df.groupby(by=fields).size().sort_values(ascending=False).head(10)\n",
    "    print(temp_df)\n",
    "    print('*'*30)\n",
    "    "
   ]
  },
  {
   "cell_type": "code",
   "execution_count": null,
   "metadata": {
    "_uuid": "44947e39f2a93925e8e102f550533d4c6140ee89"
   },
   "outputs": [],
   "source": [
    "temp = new_df.groupby(by=['fullVisitorId']).agg({'visitId':'count','totals.transactionRevenue':'sum'})\n",
    "print(temp.corr())\n",
    "temp.plot(kind='scatter',x='visitId',y='totals.transactionRevenue')"
   ]
  },
  {
   "cell_type": "markdown",
   "metadata": {
    "_uuid": "c64125105704f9f313f03e6952e16885e06092b1"
   },
   "source": [
    "No of visits doesn't have much relation with transactionRevenue"
   ]
  },
  {
   "cell_type": "code",
   "execution_count": null,
   "metadata": {
    "_uuid": "5a557540d71c12e507bda3b30618a65ad0e10f84"
   },
   "outputs": [],
   "source": [
    "#Lets analyze how the visits and transactionRevenue trend with date\n",
    "plot_df = new_df.groupby(by=['date']).agg({'fullVisitorId':'count','totals.transactionRevenue':'sum'}).reset_index()\n",
    "\n",
    "fig = plt.figure(figsize=(15,8))\n",
    "plt.subplot(2,1,1)\n",
    "plt.plot(pd.to_datetime(plot_df['date']),plot_df['totals.transactionRevenue'])\n",
    "plt.ylabel('Revenue')\n",
    "plt.xticks(rotation=90)\n",
    "\n",
    "plt.subplot(2,1,2)\n",
    "plt.plot(pd.to_datetime(plot_df['date']),plot_df['fullVisitorId'])\n",
    "plt.ylabel('Visits')\n",
    "plt.xticks(rotation=90);\n",
    "\n",
    "for ax in fig.axes:\n",
    "    plt.sca(ax)\n",
    "    plt.xticks(rotation=90)"
   ]
  },
  {
   "cell_type": "markdown",
   "metadata": {
    "_uuid": "28b2f29cfa863c2857396e0952504fcddfc85f7b"
   },
   "source": [
    "Numer of visits drasitically increases from October and reduces in December. But that didnt contribute much on revenue. As only one year of data available, we cannot identify any YoY pattern of data."
   ]
  },
  {
   "cell_type": "code",
   "execution_count": null,
   "metadata": {
    "_uuid": "f02b5f0b414bf38c727d11f6950f0d5515b3f206"
   },
   "outputs": [],
   "source": [
    "#Weekly pattern\n",
    "\n",
    "plot_df = new_df.groupby(by=['date']).agg({'fullVisitorId':'count','totals.transactionRevenue':'sum'})\n",
    "\n",
    "plot_df = plot_df.resample('W').mean()\n",
    "\n",
    "plt.figure(figsize=(15,8))\n",
    "plt.subplot(2,1,1)\n",
    "plt.plot(plot_df.index,plot_df['totals.transactionRevenue'])\n",
    "plt.ylabel('Revenue')\n",
    "\n",
    "plt.subplot(2,1,2)\n",
    "plt.plot(plot_df.index,plot_df['fullVisitorId'])\n",
    "plt.ylabel('Visits');"
   ]
  },
  {
   "cell_type": "code",
   "execution_count": null,
   "metadata": {
    "_uuid": "c6da040337fbb08efea236af862328b9718fedff"
   },
   "outputs": [],
   "source": [
    "plot_df = new_df.groupby(by=['fullVisitorId']).agg({'channelGrouping':'count','totals.transactionRevenue':'sum'})\n",
    "\n",
    "plt.figure(figsize=(10,8))\n",
    "plt.subplot(2,1,1)\n",
    "plt.hist(np.log1p(plot_df[plot_df['totals.transactionRevenue']>0]['totals.transactionRevenue']))\n",
    "\n",
    "plt.subplot(2,1,2)\n",
    "plt.hist(np.log1p(plot_df[plot_df['totals.transactionRevenue']>0]['totals.transactionRevenue']))"
   ]
  },
  {
   "cell_type": "code",
   "execution_count": null,
   "metadata": {
    "_uuid": "b2f8d95560074c83fb57361e7ed7fcfb87413718"
   },
   "outputs": [],
   "source": [
    "#new_df = new_df.drop(labels=['sessionId','visitId','visitStartTime'])\n",
    "new_df.isna().sum()"
   ]
  },
  {
   "cell_type": "code",
   "execution_count": null,
   "metadata": {
    "_uuid": "fd11632c1290bf0d8a5dc705bf3c7d39333e796e"
   },
   "outputs": [],
   "source": [
    "new_df['totals.transactionRevenue'].fillna(value=0,inplace=True)\n",
    "transaction_df = new_df[new_df['totals.transactionRevenue']>0.0]\n",
    "nontransaction_df = new_df[new_df['totals.transactionRevenue']<=0]\n",
    "print(transaction_df.shape, nontransaction_df.shape)\n",
    "#new_df['totals.transactionRevenue']>0.0"
   ]
  },
  {
   "cell_type": "code",
   "execution_count": null,
   "metadata": {
    "_uuid": "297130e70937993b3fc706526d7d628d134c08be",
    "scrolled": false
   },
   "outputs": [],
   "source": [
    "def getplot(df1, df2, groupfield):\n",
    "    fig =plt.figure(figsize=(15,8))\n",
    "    plt.subplot(2,1,1)\n",
    "    plot_df = df1.groupby(by=[groupfield])['totals.transactionRevenue'].size().reset_index()\n",
    "    plot_df = plot_df.sort_values(by=['totals.transactionRevenue'], ascending=False).head(10)\n",
    "    plt1 = plt.bar(plot_df[groupfield],plot_df['totals.transactionRevenue'])\n",
    "\n",
    "    plt.subplot(2,1,2)\n",
    "    plot_df = df2.groupby(by=[groupfield])['totals.transactionRevenue'].size().reset_index()\n",
    "    plot_df = plot_df.sort_values(by=['totals.transactionRevenue'], ascending=False).head(10)\n",
    "    plt2 = plt.bar(plot_df[groupfield],plot_df['totals.transactionRevenue'])\n",
    "    for ax in fig.axes:\n",
    "        plt.sca(ax)\n",
    "        plt.xticks(rotation=90)\n",
    "    #fig.tight_layout()\n",
    "    return plt1, plt2"
   ]
  },
  {
   "cell_type": "code",
   "execution_count": null,
   "metadata": {
    "_uuid": "8623cc52322b6ffaaadff2c0f1d88bc1bf58a5ff"
   },
   "outputs": [],
   "source": [
    "getplot(transaction_df,nontransaction_df,'geoNetwork.country');"
   ]
  },
  {
   "cell_type": "code",
   "execution_count": null,
   "metadata": {
    "_uuid": "ca63b2f28775bd460a95b514142a14647548621f"
   },
   "outputs": [],
   "source": [
    "getplot(transaction_df,nontransaction_df,'geoNetwork.city');"
   ]
  },
  {
   "cell_type": "code",
   "execution_count": null,
   "metadata": {
    "_uuid": "8634b7f7fe43cc6d2ab849b9eb346bb415ba2e58"
   },
   "outputs": [],
   "source": [
    "getplot(transaction_df,nontransaction_df,'geoNetwork.continent');"
   ]
  },
  {
   "cell_type": "code",
   "execution_count": null,
   "metadata": {
    "_uuid": "be76315e7878ae7cf4342b8b1dd4a69becdd2228"
   },
   "outputs": [],
   "source": [
    "getplot(transaction_df,nontransaction_df,'geoNetwork.metro');"
   ]
  },
  {
   "cell_type": "code",
   "execution_count": null,
   "metadata": {
    "_uuid": "4ce14b0cd674e6800f68dc5485c9a628b403c079"
   },
   "outputs": [],
   "source": [
    "getplot(transaction_df,nontransaction_df,'geoNetwork.networkDomain');"
   ]
  },
  {
   "cell_type": "code",
   "execution_count": null,
   "metadata": {
    "_uuid": "9cbc1253c62cac7f7f4b5826b3decc0f17225c5a"
   },
   "outputs": [],
   "source": [
    "getplot(transaction_df,nontransaction_df,'geoNetwork.region');"
   ]
  },
  {
   "cell_type": "code",
   "execution_count": null,
   "metadata": {
    "_uuid": "d646ccff394b063ae1d179e8a2af112dce4f55d6"
   },
   "outputs": [],
   "source": [
    "getplot(transaction_df,nontransaction_df,'geoNetwork.subContinent');"
   ]
  },
  {
   "cell_type": "code",
   "execution_count": null,
   "metadata": {
    "_uuid": "2a0ab6e1da973d2067df8f7105ff331facd463bc"
   },
   "outputs": [],
   "source": [
    "getplot(transaction_df,nontransaction_df,'channelGrouping');"
   ]
  },
  {
   "cell_type": "markdown",
   "metadata": {
    "_uuid": "6db0b9f9e615779fe28723d4bfe10eab553c754a"
   },
   "source": [
    "Lets drop labels other than city and subcontinent. As city is the lower granular level in geo. As most values in city is 'not available' lets keep another variable subcontinent as an additional field.\n"
   ]
  },
  {
   "cell_type": "code",
   "execution_count": null,
   "metadata": {
    "_uuid": "36eefb87510913f0a4ee684f420f9eec153dafed"
   },
   "outputs": [],
   "source": [
    "new_df1 = new_df.drop(labels=['geoNetwork.region','geoNetwork.networkDomain','geoNetwork.metro','geoNetwork.continent','geoNetwork.country','visitId','visitStartTime'],axis=1)\n",
    "test_df1 = test_df.drop(labels=['geoNetwork.region','geoNetwork.networkDomain','geoNetwork.metro','geoNetwork.continent','geoNetwork.country','visitId','visitStartTime'],axis=1)\n"
   ]
  },
  {
   "cell_type": "markdown",
   "metadata": {
    "_uuid": "beb1ad518c62c00abc43a0883f6e358d9edfcb43"
   },
   "source": [
    "Only one year of data is available. With Date or Month we couldn't find any relation. Lets drop it. \n",
    "device.isMobile is a duplicate variable as the detail is covered in deviceCategory\n"
   ]
  },
  {
   "cell_type": "code",
   "execution_count": null,
   "metadata": {
    "_uuid": "d70df2e94eb567ded735135bcc5202e06def610b"
   },
   "outputs": [],
   "source": [
    "new_df1 = new_df1.drop(labels=['date','device.isMobile'], axis=1)\n",
    "test_df1 = test_df1.drop(labels=['date','device.isMobile'], axis=1)"
   ]
  },
  {
   "cell_type": "code",
   "execution_count": null,
   "metadata": {
    "_uuid": "49d795b080e81c52e37c246f1ab814e69c00fdf7"
   },
   "outputs": [],
   "source": [
    "getplot(transaction_df,nontransaction_df,'device.browser');"
   ]
  },
  {
   "cell_type": "code",
   "execution_count": null,
   "metadata": {
    "_uuid": "ba2fe8cfd712b89cc532e28e6dcabd28591b708f"
   },
   "outputs": [],
   "source": [
    "getplot(transaction_df,nontransaction_df,'device.deviceCategory');"
   ]
  },
  {
   "cell_type": "code",
   "execution_count": null,
   "metadata": {
    "_uuid": "26ab87260fd69f83c925b27f77749c17e9222e9f"
   },
   "outputs": [],
   "source": [
    "getplot(transaction_df,nontransaction_df,'device.operatingSystem');"
   ]
  },
  {
   "cell_type": "code",
   "execution_count": null,
   "metadata": {
    "_uuid": "ae0281c22cfd3fee69a43b33a054befedc24a783"
   },
   "outputs": [],
   "source": [
    "transaction_df['trafficSource.adContent'].fillna('NA',inplace=True)\n",
    "getplot(transaction_df,nontransaction_df,'trafficSource.adContent')\n",
    "#NA values seems to contribute more for revenue :p"
   ]
  },
  {
   "cell_type": "code",
   "execution_count": null,
   "metadata": {
    "_uuid": "9aa67ac2cca91adef43b2c45d5235ba62df1600a"
   },
   "outputs": [],
   "source": [
    "getplot(transaction_df,nontransaction_df,'trafficSource.source')"
   ]
  },
  {
   "cell_type": "code",
   "execution_count": null,
   "metadata": {
    "_uuid": "55a90a34fd8abf7dabee01c98878db7d7acd2955"
   },
   "outputs": [],
   "source": [
    "new_df1 = new_df1.drop(labels=['trafficSource.adwordsClickInfo.adNetworkType', 'trafficSource.adwordsClickInfo.gclId', 'trafficSource.adwordsClickInfo.page', 'trafficSource.adwordsClickInfo.slot', 'trafficSource.medium', 'trafficSource.medium', 'trafficSource.referralPath','trafficSource.source'],axis=1)\n",
    "test_df1 = test_df1.drop(labels=['trafficSource.adwordsClickInfo.adNetworkType', 'trafficSource.adwordsClickInfo.gclId', 'trafficSource.adwordsClickInfo.page', 'trafficSource.adwordsClickInfo.slot', 'trafficSource.medium', 'trafficSource.medium', 'trafficSource.referralPath','trafficSource.source'],axis=1)\n",
    "print(new_df1.shape)\n",
    "new_df1.head()"
   ]
  },
  {
   "cell_type": "code",
   "execution_count": null,
   "metadata": {
    "_uuid": "70c62329d7dfaf64214457cbc8aae8809f4ac520"
   },
   "outputs": [],
   "source": [
    "new_df1.fillna('0',inplace=True)\n",
    "test_df1.fillna('0',inplace=True)"
   ]
  },
  {
   "cell_type": "code",
   "execution_count": null,
   "metadata": {
    "_uuid": "285a02accf28ef48bbcac373b8a1d7dd9650ab68"
   },
   "outputs": [],
   "source": [
    "new_df1.isna().sum()"
   ]
  },
  {
   "cell_type": "code",
   "execution_count": null,
   "metadata": {
    "_uuid": "fd9f5ce9dc521aa9b0a06276bb9ba6921142a484"
   },
   "outputs": [],
   "source": [
    "new_df1['trafficSource.adContent'].fillna('Noadcontent',inplace=True)\n",
    "new_df1['trafficSource.keyword'].fillna('NA',inplace=True)\n",
    "test_df1['trafficSource.adContent'].fillna('Noadcontent',inplace=True)\n",
    "test_df1['trafficSource.keyword'].fillna('NA',inplace=True)\n",
    "\n",
    "for columns in ['totals.transactionRevenue']:\n",
    "    new_df1[columns].fillna('0',inplace=True)\n",
    "    new_df1[columns] = new_df1[columns].astype('int')\n",
    "    test_df1[columns].fillna('0',inplace=True)\n",
    "    test_df1[columns] = test_df1[columns].astype('int')"
   ]
  },
  {
   "cell_type": "code",
   "execution_count": null,
   "metadata": {
    "_uuid": "a6f6a1030cc2f368fe69a4edac4d6e0105611326"
   },
   "outputs": [],
   "source": [
    "new_df1.info()"
   ]
  },
  {
   "cell_type": "code",
   "execution_count": null,
   "metadata": {
    "_uuid": "c15456eb326070babd692e4838695d1bf8378baa"
   },
   "outputs": [],
   "source": [
    "new_df1.head()"
   ]
  },
  {
   "cell_type": "code",
   "execution_count": null,
   "metadata": {
    "_uuid": "878321fc7a57f66844c73b12ef2f73a7065c10e7"
   },
   "outputs": [],
   "source": [
    "def convert_category_todummies(df,field):\n",
    "    #print('Processing ', field)\n",
    "    dummy_df = pd.get_dummies(df[field])\n",
    "    df = pd.concat([df,dummy_df],axis=1)\n",
    "    df.drop(labels=[field],axis=1,inplace=True)\n",
    "    return df"
   ]
  },
  {
   "cell_type": "code",
   "execution_count": null,
   "metadata": {
    "_uuid": "f3846fe16916afc5bcedef66a8421023346ced73"
   },
   "outputs": [],
   "source": [
    "def convert_category_tolevel(df,field):\n",
    "    df[field],index = pd.factorize(df[field])\n",
    "    return df"
   ]
  },
  {
   "cell_type": "code",
   "execution_count": null,
   "metadata": {
    "_uuid": "3bd8bf7aedb80691a3371b44d7768406030115b2"
   },
   "outputs": [],
   "source": [
    "#test_df1=test_df1.drop(labels=['totals.transactionRevenue'],axis=1)"
   ]
  },
  {
   "cell_type": "code",
   "execution_count": null,
   "metadata": {
    "_uuid": "2d7a3b7ab99d46e4615204d3f9615b6e61f62123"
   },
   "outputs": [],
   "source": [
    "#Data cleaning\n",
    "train_size = new_df1.shape[0]\n",
    "merged_df = pd.concat([new_df1,test_df1])\n",
    "merged_df['totals.pageviews']=merged_df['totals.pageviews'].astype('int')\n",
    "merged_df['totals.hits']=merged_df['totals.pageviews'].astype('int')\n",
    "merged_df = merged_df.drop(labels=['trafficSource.keyword'],axis=1)\n",
    "print('Before: ', merged_df.shape)\n",
    "columns = merged_df.columns\n",
    "for fields in columns:\n",
    "    if merged_df[fields].dtype == 'object' and fields not in ['fullVisitorId','method']:\n",
    "        print('Unique values for ', fields, len(merged_df[fields].unique()), merged_df[fields].unique())\n",
    "        if len(merged_df[fields].unique()) > 40:\n",
    "            print('Level conversion')\n",
    "            merged_df[fields] = convert_category_tolevel(merged_df,fields)\n",
    "            merged_df[fields] = merged_df[fields].astype('int')\n",
    "        else:\n",
    "            print('One hot conversion')\n",
    "            merged_df = convert_category_todummies(merged_df,fields)\n",
    "            #merged_df = merged_df.drop(labels=[fields],axis=1)\n",
    "print('After: ', merged_df.shape)"
   ]
  },
  {
   "cell_type": "code",
   "execution_count": null,
   "metadata": {},
   "outputs": [],
   "source": [
    "merged_df.columns.values"
   ]
  },
  {
   "cell_type": "code",
   "execution_count": null,
   "metadata": {
    "_uuid": "902d22317a90ebdb2fed91447d98f017e273196c"
   },
   "outputs": [],
   "source": [
    "from sklearn.preprocessing import MinMaxScaler\n",
    "\n",
    "scaler1 = MinMaxScaler()\n",
    "\n",
    "#merged_df1 = merged_df.groupby(by=['fullVisitorId']).mean()\n",
    "merged_df['totals.transactionRevenue'] = np.log1p(merged_df['totals.transactionRevenue'])\n",
    "\n",
    "\n",
    "new_df1 = merged_df.iloc[:train_size]\n",
    "test_df1 = merged_df[train_size:]\n",
    "#new_df1 = new_df1.drop(labels=['method'],axis=1)\n",
    "test_df1 = test_df1.drop(labels=['totals.transactionRevenue'],axis=1)\n",
    "print(new_df1.shape, test_df1.shape)"
   ]
  },
  {
   "cell_type": "code",
   "execution_count": null,
   "metadata": {
    "_uuid": "c48b5ea0145add9548e0d13686d4c75809e67064"
   },
   "outputs": [],
   "source": [
    "import gc\n",
    "del train_df, new_df, test_df,merged_df, transaction_df, nontransaction_df, plot_df\n",
    "gc.collect()"
   ]
  },
  {
   "cell_type": "code",
   "execution_count": null,
   "metadata": {
    "_uuid": "c8c88e4017e42e6eae45f79476c3a0ea18ebe54c"
   },
   "outputs": [],
   "source": [
    "#we need to predict log revenue per customer. Lets group by full visitor id\n",
    "train_x = new_df1.groupby(by=['fullVisitorId']).mean()\n",
    "del new_df1\n",
    "gc.collect()\n"
   ]
  },
  {
   "cell_type": "code",
   "execution_count": null,
   "metadata": {
    "_uuid": "d7bc29b32ca4dfa9a899e69065ddc8a4bd45a1d9"
   },
   "outputs": [],
   "source": [
    "train_y = train_x['totals.transactionRevenue']\n",
    "train_x = train_x.drop(labels=['totals.transactionRevenue'],axis=1)\n",
    "scaled_x = scaler1.fit_transform(train_x.values)\n",
    "#train_y = np.log1p(train_y)\n",
    "train_x = pd.DataFrame(scaled_x, columns=train_x.columns)"
   ]
  },
  {
   "cell_type": "code",
   "execution_count": null,
   "metadata": {
    "_uuid": "76f1815802449d5a61ae3b47f70ea3c59ba10991"
   },
   "outputs": [],
   "source": [
    "import lightgbm as lgb\n",
    "from sklearn.model_selection import train_test_split\n",
    "\n",
    "X_train, X_val, y_train, y_val = train_test_split(train_x, train_y, test_size=0.15, random_state=1)\n",
    "\n",
    "lgb_train_data = lgb.Dataset(X_train, label=y_train)\n",
    "lgb_val_data = lgb.Dataset(X_val, label=y_val)\n",
    "\n",
    "params = {\n",
    "        \"objective\" : \"regression\",\n",
    "        \"metric\" : \"rmse\",\n",
    "        #\"num_leaves\" : 40,\n",
    "        \"max_depth\" : 10,\n",
    "        \"boosting\" : \"gbdt\",\n",
    "        \"learning_rate\" : 0.0025,\n",
    "        \"bagging_fraction\" : 0.7,\n",
    "        \"feature_fraction\" : 0.7,\n",
    "        \"bagging_frequency\" : 6,\n",
    "        \"bagging_seed\" : 42,\n",
    "        \"seed\": 42}\n",
    "model = lgb.train(params, lgb_train_data, \n",
    "                      num_boost_round=5000,\n",
    "                      valid_sets=[lgb_train_data, lgb_val_data],\n",
    "                      early_stopping_rounds=100,\n",
    "                      verbose_eval=500)"
   ]
  },
  {
   "cell_type": "code",
   "execution_count": null,
   "metadata": {
    "_uuid": "4f54ae721dea4ffaec8da5adb85f0a7f18b49956"
   },
   "outputs": [],
   "source": [
    "test_x = test_df1.groupby(by=['fullVisitorId']).mean()\n",
    "visitorid = test_x.index\n",
    "scaled_test = scaler1.transform(test_x)\n",
    "test_x = pd.DataFrame(scaled_test,columns=test_x.columns)"
   ]
  },
  {
   "cell_type": "code",
   "execution_count": null,
   "metadata": {
    "_uuid": "e2a9f9376af9299db94623d99c69b11d3c1d4f83"
   },
   "outputs": [],
   "source": [
    "from sklearn.metrics import mean_squared_error\n",
    "y_pred_train = model.predict(X_train, num_iteration=model.best_iteration)\n",
    "y_pred_val = model.predict(X_val, num_iteration=model.best_iteration)\n",
    "y_pred_submit = model.predict(test_x, num_iteration=model.best_iteration)\n",
    "\n",
    "print(f\"LGBM: RMSE val: {np.sqrt(mean_squared_error(y_val, y_pred_val))}  - RMSE train: {np.sqrt(mean_squared_error(y_train, y_pred_train))}\")"
   ]
  },
  {
   "cell_type": "code",
   "execution_count": null,
   "metadata": {
    "_uuid": "d1ba6cf128f2f5c5d43bda72f22c328126061fe0",
    "scrolled": false
   },
   "outputs": [],
   "source": [
    "plt.style.use('ggplot')\n",
    "lgb.plot_importance(model,max_num_features=15)"
   ]
  },
  {
   "cell_type": "code",
   "execution_count": null,
   "metadata": {
    "_uuid": "faf508e9a09d98fef8e7fd6bb70a43438ee97fe0"
   },
   "outputs": [],
   "source": [
    "#submission = pd.DataFrame({'fullVisitorId':visitorid,'PredictedLogRevenue':y_pred_submit})\n",
    "#submission['fullVisitorId']= submission['fullVisitorId'].astype(str)\n",
    "#submission['PredictedLogRevenue']=submission['PredictedLogRevenue'].apply(lambda x: 0 if x<0 else x)"
   ]
  },
  {
   "cell_type": "code",
   "execution_count": null,
   "metadata": {
    "_uuid": "7c52c52b8a31083123e002cb8fe4ad0e6660b4b7"
   },
   "outputs": [],
   "source": [
    "#submission.to_csv('submission1.csv',index=False)"
   ]
  },
  {
   "cell_type": "code",
   "execution_count": null,
   "metadata": {
    "_uuid": "32be3b67d07fbca2833f7fac02f5a53dafcbab36"
   },
   "outputs": [],
   "source": [
    "from keras.models import Sequential\n",
    "from keras.layers import Dense\n",
    "from keras.layers import LSTM, Bidirectional, Dropout\n",
    "from keras.callbacks import ReduceLROnPlateau\n",
    "\n",
    "X_train = X_train.values\n",
    "X_val = X_val.values\n",
    "y_train = y_train.values\n",
    "y_val = y_val.values\n",
    "X_train = X_train.reshape(X_train.shape[0],1,X_train.shape[1])\n",
    "X_val = X_val.reshape(X_val.shape[0],1,X_val.shape[1])\n"
   ]
  },
  {
   "cell_type": "code",
   "execution_count": null,
   "metadata": {},
   "outputs": [],
   "source": [
    "X_train.shape"
   ]
  },
  {
   "cell_type": "code",
   "execution_count": null,
   "metadata": {
    "_uuid": "3babbddc99d21c19f24fb6b1c406a2e44700b4fa"
   },
   "outputs": [],
   "source": [
    "#model1 = Sequential()\n",
    "#model1.add(Bidirectional(LSTM(200,recurrent_dropout=0.2, input_shape=(X_train.shape[1],X_train.shape[2]), kernel_initializer='lecun_normal', return_sequences=True)))\n",
    "#model1.add(Dropout(0.2))\n",
    "#model1.add(Bidirectional(LSTM(120,recurrent_dropout=0.2, kernel_initializer='lecun_normal')))\n",
    "#model1.add(Dropout(0.2))\n",
    "#model1.add(Dense(50,activation='sigmoid'))\n",
    "#model1.add(Dropout(0.2))\n",
    "#model1.add(Dense(20,activation='elu'))\n",
    "#model1.add(Dense(1,activation='linear'))\n",
    "#model1.compile(loss='mse', optimizer='adam')\n",
    "\n",
    "\n",
    "#history = model1.fit(X_train, y_train, epochs=2, batch_size=64, validation_data=(X_val, y_val), verbose=1, shuffle=False)\n",
    "#plt.plot(history.history['loss'], label='train')\n",
    "#plt.plot(history.history['val_loss'], label='test')\n",
    "#plt.legend()\n"
   ]
  },
  {
   "cell_type": "code",
   "execution_count": null,
   "metadata": {
    "_uuid": "3c1411cabd43428ea1fafabd971766df9f05e9e2"
   },
   "outputs": [],
   "source": [
    "#test_x = test_x.values\n",
    "#test_x = test_x.reshape((test_x.shape[0],1,test_x.shape[1]))\n",
    "\n",
    "#y_pred_train = model1.predict(X_train)\n",
    "#y_pred_val = model1.predict(X_val)\n",
    "#y_pred_submit = model1.predict(test_x)\n",
    "\n",
    "#print(f\"LSTM: RMSE val: {np.sqrt(mean_squared_error(y_val, y_pred_val))}  - RMSE train: {np.sqrt(mean_squared_error(y_train, y_pred_train))}\")"
   ]
  },
  {
   "cell_type": "code",
   "execution_count": null,
   "metadata": {},
   "outputs": [],
   "source": []
  },
  {
   "cell_type": "code",
   "execution_count": null,
   "metadata": {
    "_uuid": "2f7bcb910abe9c93c58ca0dc9dae20b40925e21c"
   },
   "outputs": [],
   "source": [
    "from keras.layers import Input\n",
    "from keras.models import Model\n",
    "\n",
    "inputs = Input(shape=(1,71))\n",
    "x = Bidirectional(LSTM(200,recurrent_dropout=0.2, kernel_initializer='lecun_normal', return_sequences=True))(inputs)\n",
    "x = Bidirectional(LSTM(120,recurrent_dropout=0.2, kernel_initializer='lecun_normal'))(x)\n",
    "x = Dense(50, activation='sigmoid')(x)\n",
    "x = Dropout(0.1)(x)\n",
    "x = Dense(20,activation='elu')(x)\n",
    "output = Dense(1,activation='linear')(x)\n",
    "\n",
    "model2 = Model(inputs=inputs, outputs=output)\n",
    "model2.compile(loss='mse', optimizer='adam')\n",
    "model2.fit(X_train, y_train, epochs=4, batch_size=64, validation_data=(X_val, y_val), verbose=1, shuffle=False)"
   ]
  },
  {
   "cell_type": "code",
   "execution_count": null,
   "metadata": {
    "_uuid": "60093069090dc4f10b2e63ebb2ec3de94a8257c0"
   },
   "outputs": [],
   "source": [
    "test_x = test_x.values\n",
    "test_x = test_x.reshape((test_x.shape[0],1,test_x.shape[1]))\n",
    "\n",
    "y_pred_train = model2.predict(X_train)\n",
    "y_pred_val = model2.predict(X_val)\n",
    "y_pred_submit = model2.predict(test_x)\n",
    "\n",
    "print(f\"LSTM: RMSE val: {np.sqrt(mean_squared_error(y_val, y_pred_val))}  - RMSE train: {np.sqrt(mean_squared_error(y_train, y_pred_train))}\")"
   ]
  },
  {
   "cell_type": "code",
   "execution_count": null,
   "metadata": {
    "_uuid": "488481454dcf4cc7df602069e88287374adf172f"
   },
   "outputs": [],
   "source": [
    "# submission = pd.DataFrame({'fullVisitorId':visitorid,'PredictedLogRevenue':y_pred_submit})\n",
    "# submission['fullVisitorId']= submission['fullVisitorId'].astype(str)\n",
    "# submission['PredictedLogRevenue']=submission['PredictedLogRevenue'].apply(lambda x: 0 if x<0 else x)\n",
    "\n",
    "# submission.to_csv('submission2.csv',index=False)"
   ]
  }
 ],
 "metadata": {
  "kernelspec": {
   "display_name": "Python 3",
   "language": "python",
   "name": "python3"
  },
  "language_info": {
   "codemirror_mode": {
    "name": "ipython",
    "version": 3
   },
   "file_extension": ".py",
   "mimetype": "text/x-python",
   "name": "python",
   "nbconvert_exporter": "python",
   "pygments_lexer": "ipython3",
   "version": "3.6.7"
  }
 },
 "nbformat": 4,
 "nbformat_minor": 1
}
